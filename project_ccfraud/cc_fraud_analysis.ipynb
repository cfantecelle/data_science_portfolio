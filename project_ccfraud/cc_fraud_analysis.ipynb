{
  "cells": [
    {
      "cell_type": "markdown",
      "metadata": {
        "id": "sC2BFMOKN1M7"
      },
      "source": [
        "---\n",
        "<img alt=\"Colaboratory logo\" width=\"15%\" src=\"https://raw.githubusercontent.com/carlosfab/escola-data-science/master/img/novo_logo_bg_claro.png\">\n",
        "\n",
        "#### **Data Science na Prática 3.0**\n",
        "*by [sigmoidal.ai](https://sigmoidal.ai)*  \n",
        "\n",
        "---"
      ]
    },
    {
      "cell_type": "markdown",
      "metadata": {
        "id": "IR56trFcPcC1"
      },
      "source": [
        "# Credit Card fraud detection\n",
        "\n",
        "In the current project, we will address the issue of credit card frauds, which is considered to be a form of identity theft. Typically, this type of fraud occurs from the illegal charging of purchases or funds removal from another's account due to unauthorised use of the person's credit card information<sup><a href=\"https://www.law.cornell.edu/wex/credit_card_fraud\">1</a></sup>. This type of fraud is a major cause of concern in financial institutions and fintechs globally. According to the Nilson Report, credit card fraud worldwide led to the loss of $28.58 billion in 2020<sup><a href=\"https://nilsonreport.com/mention/1515/1link/\">2</a></sup>.\n",
        "\n",
        "<p align=center>\n",
        "<img src=\"img/cctheft.jpg\" width=\"50%\"><br>\n",
        "<i><sup>Image credits: kjpargeter (<a href=\"https://www.freepik.com/search?author=938508&authorSlug=kjpargeter&format=author&selection=1\">www.freepik.com</a>)</sup></i>\n",
        "</p>\n",
        "\n",
        "Thus, credit card frauds are greatly relevant due to their potential to considerably harm both costumers and financial institutions. Another factor to be taken into account are the action to preventively block a credit card due to suspicious activity. If the transaction is genuine, this causes both stress and embarassment to the clients who are denied their purchase.\n",
        "\n",
        "For the aforementioned reasons, investments in Fraud Detection through Artificial Inteligence are increasing constantly, presenting as a great Data Science oportunity. Slightly better machine learning algorithms, with great volumes of data as a base, already represent millions in economy through fraud avoidance."
      ]
    },
    {
      "cell_type": "markdown",
      "metadata": {
        "id": "0HVmpIxQWT4Y"
      },
      "source": [
        "## Getting the data\n",
        "\n",
        "The data that we are using in this project is available on the [Kaggle](https://www.kaggle.com/datasets/mlg-ulb/creditcardfraud) website. It consists of anonymized credit card transactions, which were labeled as fraudulent or genuine transactions. \n",
        "\n",
        "The dataset actually consists of credit card transactions registered in September 2013 by cardholders in Europe. It represents transactions made over the course of two days, where **492 frauds** were identified, out of 284,807 transactions. In total, the operations marked as fraudulent represent only 0.172% of the total dataset, making this dataset highly unbalanced<sup><a href=\"https://www.kaggle.com/datasets/mlg-ulb/creditcardfraud\">3</a></sup>.\n",
        "\n",
        "<p align=center>\n",
        "<img src=\"img/ccpayment.jpg\" width=\"50%\"><br>\n",
        "<i><sup>Image credits: freepik (<a href=\"https://www.freepik.com/free-photo/person-paying-with-its-credit-card_20083164.htm\">www.freepik.com</a>)</sup></i>\n",
        "</p>\n",
        "\n",
        "In addition, the source informs that the dataset has been through a dimensionality reduction transformation: the Principal Component Analysis (PCA). This was done to protect user identities and other sensitive features in the dataset, while also reducing its complexity.\n",
        "\n",
        "With the increase in the number of variables in a given dataset, the difficulty to visualize a multi-dimensional hyperspace also increases. The goal of the PCA is to extract important information from this multi-variate data that are inter-correlated. While each variable is considered a different *dimension*, the PCA extracts the information in the dataset as a set of new variables called **principal components**, reducing the number of *dimensions* from the original dataset. These **principal components** correspond to a linear combination of the original variables and their goal is to encapsulate most of the variation present in the dataset<sup><a href=\"http://www.sthda.com/english/articles/31-principal-component-methods-in-r-practical-guide/112-pca-principal-component-analysis-essentials/\">4</a></sup>.\n",
        "\n",
        "In our dataset, the **principal components** correspond to the columns in the dataset: $[V1, V2, V3 \\dots, Vn]$."
      ]
    },
    {
      "cell_type": "markdown",
      "metadata": {},
      "source": [
        "### Loading necessary packages"
      ]
    },
    {
      "cell_type": "code",
      "execution_count": null,
      "metadata": {},
      "outputs": [],
      "source": [
        "# Importing packages\n",
        "import pandas as pd\n",
        "import numpy as np\n",
        "import matplotlib.pyplot as plt\n",
        "import seaborn as sns\n",
        "import scikitplot as skplt\n",
        "\n",
        "from scipy import stats\n",
        "\n",
        "%matplotlib inline"
      ]
    },
    {
      "cell_type": "markdown",
      "metadata": {
        "id": "g5XDTWW5LRVe"
      },
      "source": [
        "### Importing the data\n",
        "\n",
        "For ease of access, since this is a bigger file, we will import it as a direct access link."
      ]
    },
    {
      "cell_type": "code",
      "execution_count": 3,
      "metadata": {
        "id": "4NxUOfDOj2j8"
      },
      "outputs": [],
      "source": [
        "file_path = \"https://onedrive.live.com/download?cid=A06C4A8AAF3A347B&resid=A06C4A8AAF3A347B%215208&authkey=AAdhamfzp5RS9PM\"\n",
        "\n",
        "# Downloading and reading the file\n",
        "df = pd.read_csv(file_path)"
      ]
    },
    {
      "cell_type": "markdown",
      "metadata": {},
      "source": [
        "Now, let's verify basic characteristics of our dataset and subset the `test` data that is going to be used later on."
      ]
    },
    {
      "cell_type": "code",
      "execution_count": 11,
      "metadata": {},
      "outputs": [
        {
          "name": "stdout",
          "output_type": "stream",
          "text": [
            "Original size of the dataset:  174907  entries.\n",
            "Test dataset size:  26236  entries.\n",
            "Remaining dataset size:  148671  entries.\n"
          ]
        }
      ],
      "source": [
        "# Original size\n",
        "print('Original size of the dataset: ', df.shape[0], ' entries.')\n",
        "\n",
        "# Separating test data\n",
        "test = df.sample(frac=0.15, random_state=42)\n",
        "\n",
        "# Removing test data from regular df\n",
        "df = df.drop(test.index)\n",
        "\n",
        "# Test dataset size\n",
        "print('Test dataset size: ', test.shape[0], ' entries.')\n",
        "print('Remaining dataset size: ', df.shape[0], ' entries.')"
      ]
    },
    {
      "cell_type": "markdown",
      "metadata": {
        "id": "7nF_Dhd81Cvq"
      },
      "source": [
        "Having imported the data, we can begin the exploratory analysis of the dataset while also preparing the data to use in a **machine learning** model."
      ]
    },
    {
      "cell_type": "markdown",
      "metadata": {
        "id": "8UtXyZ6stlSM"
      },
      "source": [
        "## Exploratory analysis\n",
        "\n",
        "To begin our analysis, let us look a the first entries of the dataframe:"
      ]
    },
    {
      "cell_type": "code",
      "execution_count": 12,
      "metadata": {},
      "outputs": [
        {
          "data": {
            "text/html": [
              "<div>\n",
              "<style scoped>\n",
              "    .dataframe tbody tr th:only-of-type {\n",
              "        vertical-align: middle;\n",
              "    }\n",
              "\n",
              "    .dataframe tbody tr th {\n",
              "        vertical-align: top;\n",
              "    }\n",
              "\n",
              "    .dataframe thead th {\n",
              "        text-align: right;\n",
              "    }\n",
              "</style>\n",
              "<table border=\"1\" class=\"dataframe\">\n",
              "  <thead>\n",
              "    <tr style=\"text-align: right;\">\n",
              "      <th></th>\n",
              "      <th>Time</th>\n",
              "      <th>V1</th>\n",
              "      <th>V2</th>\n",
              "      <th>V3</th>\n",
              "      <th>V4</th>\n",
              "      <th>V5</th>\n",
              "      <th>V6</th>\n",
              "      <th>V7</th>\n",
              "      <th>V8</th>\n",
              "      <th>V9</th>\n",
              "      <th>...</th>\n",
              "      <th>V21</th>\n",
              "      <th>V22</th>\n",
              "      <th>V23</th>\n",
              "      <th>V24</th>\n",
              "      <th>V25</th>\n",
              "      <th>V26</th>\n",
              "      <th>V27</th>\n",
              "      <th>V28</th>\n",
              "      <th>Amount</th>\n",
              "      <th>Class</th>\n",
              "    </tr>\n",
              "  </thead>\n",
              "  <tbody>\n",
              "    <tr>\n",
              "      <th>2</th>\n",
              "      <td>1.0</td>\n",
              "      <td>-1.358354</td>\n",
              "      <td>-1.340163</td>\n",
              "      <td>1.773209</td>\n",
              "      <td>0.379780</td>\n",
              "      <td>-0.503198</td>\n",
              "      <td>1.800499</td>\n",
              "      <td>0.791461</td>\n",
              "      <td>0.247676</td>\n",
              "      <td>-1.514654</td>\n",
              "      <td>...</td>\n",
              "      <td>0.247998</td>\n",
              "      <td>0.771679</td>\n",
              "      <td>0.909412</td>\n",
              "      <td>-0.689281</td>\n",
              "      <td>-0.327642</td>\n",
              "      <td>-0.139097</td>\n",
              "      <td>-0.055353</td>\n",
              "      <td>-0.059752</td>\n",
              "      <td>378.66</td>\n",
              "      <td>0</td>\n",
              "    </tr>\n",
              "    <tr>\n",
              "      <th>3</th>\n",
              "      <td>1.0</td>\n",
              "      <td>-0.966272</td>\n",
              "      <td>-0.185226</td>\n",
              "      <td>1.792993</td>\n",
              "      <td>-0.863291</td>\n",
              "      <td>-0.010309</td>\n",
              "      <td>1.247203</td>\n",
              "      <td>0.237609</td>\n",
              "      <td>0.377436</td>\n",
              "      <td>-1.387024</td>\n",
              "      <td>...</td>\n",
              "      <td>-0.108300</td>\n",
              "      <td>0.005274</td>\n",
              "      <td>-0.190321</td>\n",
              "      <td>-1.175575</td>\n",
              "      <td>0.647376</td>\n",
              "      <td>-0.221929</td>\n",
              "      <td>0.062723</td>\n",
              "      <td>0.061458</td>\n",
              "      <td>123.50</td>\n",
              "      <td>0</td>\n",
              "    </tr>\n",
              "    <tr>\n",
              "      <th>4</th>\n",
              "      <td>2.0</td>\n",
              "      <td>-1.158233</td>\n",
              "      <td>0.877737</td>\n",
              "      <td>1.548718</td>\n",
              "      <td>0.403034</td>\n",
              "      <td>-0.407193</td>\n",
              "      <td>0.095921</td>\n",
              "      <td>0.592941</td>\n",
              "      <td>-0.270533</td>\n",
              "      <td>0.817739</td>\n",
              "      <td>...</td>\n",
              "      <td>-0.009431</td>\n",
              "      <td>0.798278</td>\n",
              "      <td>-0.137458</td>\n",
              "      <td>0.141267</td>\n",
              "      <td>-0.206010</td>\n",
              "      <td>0.502292</td>\n",
              "      <td>0.219422</td>\n",
              "      <td>0.215153</td>\n",
              "      <td>69.99</td>\n",
              "      <td>0</td>\n",
              "    </tr>\n",
              "    <tr>\n",
              "      <th>7</th>\n",
              "      <td>7.0</td>\n",
              "      <td>-0.644269</td>\n",
              "      <td>1.417964</td>\n",
              "      <td>1.074380</td>\n",
              "      <td>-0.492199</td>\n",
              "      <td>0.948934</td>\n",
              "      <td>0.428118</td>\n",
              "      <td>1.120631</td>\n",
              "      <td>-3.807864</td>\n",
              "      <td>0.615375</td>\n",
              "      <td>...</td>\n",
              "      <td>1.943465</td>\n",
              "      <td>-1.015455</td>\n",
              "      <td>0.057504</td>\n",
              "      <td>-0.649709</td>\n",
              "      <td>-0.415267</td>\n",
              "      <td>-0.051634</td>\n",
              "      <td>-1.206921</td>\n",
              "      <td>-1.085339</td>\n",
              "      <td>40.80</td>\n",
              "      <td>0</td>\n",
              "    </tr>\n",
              "    <tr>\n",
              "      <th>10</th>\n",
              "      <td>10.0</td>\n",
              "      <td>1.449044</td>\n",
              "      <td>-1.176339</td>\n",
              "      <td>0.913860</td>\n",
              "      <td>-1.375667</td>\n",
              "      <td>-1.971383</td>\n",
              "      <td>-0.629152</td>\n",
              "      <td>-1.423236</td>\n",
              "      <td>0.048456</td>\n",
              "      <td>-1.720408</td>\n",
              "      <td>...</td>\n",
              "      <td>-0.009302</td>\n",
              "      <td>0.313894</td>\n",
              "      <td>0.027740</td>\n",
              "      <td>0.500512</td>\n",
              "      <td>0.251367</td>\n",
              "      <td>-0.129478</td>\n",
              "      <td>0.042850</td>\n",
              "      <td>0.016253</td>\n",
              "      <td>7.80</td>\n",
              "      <td>0</td>\n",
              "    </tr>\n",
              "  </tbody>\n",
              "</table>\n",
              "<p>5 rows × 31 columns</p>\n",
              "</div>"
            ],
            "text/plain": [
              "    Time        V1        V2        V3        V4        V5        V6  \\\n",
              "2    1.0 -1.358354 -1.340163  1.773209  0.379780 -0.503198  1.800499   \n",
              "3    1.0 -0.966272 -0.185226  1.792993 -0.863291 -0.010309  1.247203   \n",
              "4    2.0 -1.158233  0.877737  1.548718  0.403034 -0.407193  0.095921   \n",
              "7    7.0 -0.644269  1.417964  1.074380 -0.492199  0.948934  0.428118   \n",
              "10  10.0  1.449044 -1.176339  0.913860 -1.375667 -1.971383 -0.629152   \n",
              "\n",
              "          V7        V8        V9  ...       V21       V22       V23       V24  \\\n",
              "2   0.791461  0.247676 -1.514654  ...  0.247998  0.771679  0.909412 -0.689281   \n",
              "3   0.237609  0.377436 -1.387024  ... -0.108300  0.005274 -0.190321 -1.175575   \n",
              "4   0.592941 -0.270533  0.817739  ... -0.009431  0.798278 -0.137458  0.141267   \n",
              "7   1.120631 -3.807864  0.615375  ...  1.943465 -1.015455  0.057504 -0.649709   \n",
              "10 -1.423236  0.048456 -1.720408  ... -0.009302  0.313894  0.027740  0.500512   \n",
              "\n",
              "         V25       V26       V27       V28  Amount  Class  \n",
              "2  -0.327642 -0.139097 -0.055353 -0.059752  378.66      0  \n",
              "3   0.647376 -0.221929  0.062723  0.061458  123.50      0  \n",
              "4  -0.206010  0.502292  0.219422  0.215153   69.99      0  \n",
              "7  -0.415267 -0.051634 -1.206921 -1.085339   40.80      0  \n",
              "10  0.251367 -0.129478  0.042850  0.016253    7.80      0  \n",
              "\n",
              "[5 rows x 31 columns]"
            ]
          },
          "execution_count": 12,
          "metadata": {},
          "output_type": "execute_result"
        }
      ],
      "source": [
        "df.head()"
      ]
    },
    {
      "cell_type": "markdown",
      "metadata": {},
      "source": [
        "From this initial look, we can see that our data is entirely numeric after the dimensionality reduction (the *Principal Component Analysis*). Follow [this link](https://builtin.com/data-science/step-step-explanation-principal-component-analysis) if you want to know more about the method.\n",
        "\n",
        "The only values that were preserved were the columns:\n",
        "* `Time`: Number of seconds elapsed between this transaction and the first transaction in the dataset;\n",
        "* `Amount`: Value that represents the transaction amount;\n",
        "* `Class`: Binary coded variable, with '1' representing fraudulent transactions and '0' representing regular ones.\n",
        "\n",
        "Now, let us do descriptive statistics on the dataset and check if there are any missing values:"
      ]
    },
    {
      "cell_type": "code",
      "execution_count": 16,
      "metadata": {},
      "outputs": [
        {
          "data": {
            "text/html": [
              "<div>\n",
              "<style scoped>\n",
              "    .dataframe tbody tr th:only-of-type {\n",
              "        vertical-align: middle;\n",
              "    }\n",
              "\n",
              "    .dataframe tbody tr th {\n",
              "        vertical-align: top;\n",
              "    }\n",
              "\n",
              "    .dataframe thead th {\n",
              "        text-align: right;\n",
              "    }\n",
              "</style>\n",
              "<table border=\"1\" class=\"dataframe\">\n",
              "  <thead>\n",
              "    <tr style=\"text-align: right;\">\n",
              "      <th></th>\n",
              "      <th>Time</th>\n",
              "      <th>V1</th>\n",
              "      <th>V2</th>\n",
              "      <th>V3</th>\n",
              "      <th>V4</th>\n",
              "      <th>V5</th>\n",
              "      <th>V6</th>\n",
              "      <th>V7</th>\n",
              "      <th>V8</th>\n",
              "      <th>V9</th>\n",
              "      <th>...</th>\n",
              "      <th>V21</th>\n",
              "      <th>V22</th>\n",
              "      <th>V23</th>\n",
              "      <th>V24</th>\n",
              "      <th>V25</th>\n",
              "      <th>V26</th>\n",
              "      <th>V27</th>\n",
              "      <th>V28</th>\n",
              "      <th>Amount</th>\n",
              "      <th>Class</th>\n",
              "    </tr>\n",
              "  </thead>\n",
              "  <tbody>\n",
              "    <tr>\n",
              "      <th>count</th>\n",
              "      <td>148671.000000</td>\n",
              "      <td>148671.000000</td>\n",
              "      <td>148671.000000</td>\n",
              "      <td>148671.000000</td>\n",
              "      <td>148671.000000</td>\n",
              "      <td>148671.000000</td>\n",
              "      <td>148671.000000</td>\n",
              "      <td>148671.000000</td>\n",
              "      <td>148671.000000</td>\n",
              "      <td>148671.000000</td>\n",
              "      <td>...</td>\n",
              "      <td>148671.000000</td>\n",
              "      <td>148671.000000</td>\n",
              "      <td>148671.000000</td>\n",
              "      <td>148671.000000</td>\n",
              "      <td>148671.000000</td>\n",
              "      <td>148671.000000</td>\n",
              "      <td>148671.000000</td>\n",
              "      <td>148671.000000</td>\n",
              "      <td>148671.000000</td>\n",
              "      <td>148671.000000</td>\n",
              "    </tr>\n",
              "    <tr>\n",
              "      <th>mean</th>\n",
              "      <td>94665.917819</td>\n",
              "      <td>0.001213</td>\n",
              "      <td>-0.003787</td>\n",
              "      <td>0.000954</td>\n",
              "      <td>0.000726</td>\n",
              "      <td>-0.000325</td>\n",
              "      <td>0.000314</td>\n",
              "      <td>0.001003</td>\n",
              "      <td>0.001141</td>\n",
              "      <td>0.002966</td>\n",
              "      <td>...</td>\n",
              "      <td>0.002433</td>\n",
              "      <td>-0.000928</td>\n",
              "      <td>-0.000682</td>\n",
              "      <td>0.000927</td>\n",
              "      <td>-0.000814</td>\n",
              "      <td>-0.000461</td>\n",
              "      <td>-0.001375</td>\n",
              "      <td>0.000457</td>\n",
              "      <td>88.940157</td>\n",
              "      <td>0.001762</td>\n",
              "    </tr>\n",
              "    <tr>\n",
              "      <th>std</th>\n",
              "      <td>47491.905807</td>\n",
              "      <td>1.952630</td>\n",
              "      <td>1.652412</td>\n",
              "      <td>1.504227</td>\n",
              "      <td>1.412236</td>\n",
              "      <td>1.396980</td>\n",
              "      <td>1.342388</td>\n",
              "      <td>1.243926</td>\n",
              "      <td>1.175264</td>\n",
              "      <td>1.096171</td>\n",
              "      <td>...</td>\n",
              "      <td>0.728833</td>\n",
              "      <td>0.725047</td>\n",
              "      <td>0.628792</td>\n",
              "      <td>0.605060</td>\n",
              "      <td>0.521639</td>\n",
              "      <td>0.483091</td>\n",
              "      <td>0.408883</td>\n",
              "      <td>0.334947</td>\n",
              "      <td>255.996600</td>\n",
              "      <td>0.041943</td>\n",
              "    </tr>\n",
              "    <tr>\n",
              "      <th>min</th>\n",
              "      <td>1.000000</td>\n",
              "      <td>-56.407510</td>\n",
              "      <td>-72.715728</td>\n",
              "      <td>-48.325589</td>\n",
              "      <td>-5.401678</td>\n",
              "      <td>-113.743307</td>\n",
              "      <td>-26.160506</td>\n",
              "      <td>-31.197329</td>\n",
              "      <td>-50.943369</td>\n",
              "      <td>-9.481456</td>\n",
              "      <td>...</td>\n",
              "      <td>-22.757540</td>\n",
              "      <td>-10.933144</td>\n",
              "      <td>-44.807735</td>\n",
              "      <td>-2.836627</td>\n",
              "      <td>-10.295397</td>\n",
              "      <td>-2.534330</td>\n",
              "      <td>-9.895244</td>\n",
              "      <td>-15.430084</td>\n",
              "      <td>0.000000</td>\n",
              "      <td>0.000000</td>\n",
              "    </tr>\n",
              "    <tr>\n",
              "      <th>25%</th>\n",
              "      <td>54063.000000</td>\n",
              "      <td>-0.919470</td>\n",
              "      <td>-0.595982</td>\n",
              "      <td>-0.889173</td>\n",
              "      <td>-0.845732</td>\n",
              "      <td>-0.689837</td>\n",
              "      <td>-0.767787</td>\n",
              "      <td>-0.552822</td>\n",
              "      <td>-0.208169</td>\n",
              "      <td>-0.640412</td>\n",
              "      <td>...</td>\n",
              "      <td>-0.227944</td>\n",
              "      <td>-0.543619</td>\n",
              "      <td>-0.161469</td>\n",
              "      <td>-0.353986</td>\n",
              "      <td>-0.317920</td>\n",
              "      <td>-0.327894</td>\n",
              "      <td>-0.071149</td>\n",
              "      <td>-0.052876</td>\n",
              "      <td>5.600000</td>\n",
              "      <td>0.000000</td>\n",
              "    </tr>\n",
              "    <tr>\n",
              "      <th>50%</th>\n",
              "      <td>84637.000000</td>\n",
              "      <td>0.017236</td>\n",
              "      <td>0.064909</td>\n",
              "      <td>0.179942</td>\n",
              "      <td>-0.017119</td>\n",
              "      <td>-0.053146</td>\n",
              "      <td>-0.275032</td>\n",
              "      <td>0.039402</td>\n",
              "      <td>0.022356</td>\n",
              "      <td>-0.048429</td>\n",
              "      <td>...</td>\n",
              "      <td>-0.028440</td>\n",
              "      <td>0.006152</td>\n",
              "      <td>-0.011055</td>\n",
              "      <td>0.041329</td>\n",
              "      <td>0.015947</td>\n",
              "      <td>-0.052161</td>\n",
              "      <td>0.001078</td>\n",
              "      <td>0.011486</td>\n",
              "      <td>22.170000</td>\n",
              "      <td>0.000000</td>\n",
              "    </tr>\n",
              "    <tr>\n",
              "      <th>75%</th>\n",
              "      <td>139151.000000</td>\n",
              "      <td>1.315186</td>\n",
              "      <td>0.800026</td>\n",
              "      <td>1.024311</td>\n",
              "      <td>0.744782</td>\n",
              "      <td>0.613433</td>\n",
              "      <td>0.395862</td>\n",
              "      <td>0.569151</td>\n",
              "      <td>0.326845</td>\n",
              "      <td>0.603295</td>\n",
              "      <td>...</td>\n",
              "      <td>0.188001</td>\n",
              "      <td>0.530247</td>\n",
              "      <td>0.147524</td>\n",
              "      <td>0.441170</td>\n",
              "      <td>0.350957</td>\n",
              "      <td>0.240191</td>\n",
              "      <td>0.090842</td>\n",
              "      <td>0.078705</td>\n",
              "      <td>77.500000</td>\n",
              "      <td>0.000000</td>\n",
              "    </tr>\n",
              "    <tr>\n",
              "      <th>max</th>\n",
              "      <td>172792.000000</td>\n",
              "      <td>2.451888</td>\n",
              "      <td>16.497472</td>\n",
              "      <td>4.187811</td>\n",
              "      <td>16.715537</td>\n",
              "      <td>34.801666</td>\n",
              "      <td>73.301626</td>\n",
              "      <td>120.589494</td>\n",
              "      <td>18.329406</td>\n",
              "      <td>10.392889</td>\n",
              "      <td>...</td>\n",
              "      <td>27.202839</td>\n",
              "      <td>7.357255</td>\n",
              "      <td>19.228169</td>\n",
              "      <td>4.584549</td>\n",
              "      <td>7.519589</td>\n",
              "      <td>3.415636</td>\n",
              "      <td>31.612198</td>\n",
              "      <td>33.847808</td>\n",
              "      <td>25691.160000</td>\n",
              "      <td>1.000000</td>\n",
              "    </tr>\n",
              "  </tbody>\n",
              "</table>\n",
              "<p>8 rows × 31 columns</p>\n",
              "</div>"
            ],
            "text/plain": [
              "                Time             V1             V2             V3  \\\n",
              "count  148671.000000  148671.000000  148671.000000  148671.000000   \n",
              "mean    94665.917819       0.001213      -0.003787       0.000954   \n",
              "std     47491.905807       1.952630       1.652412       1.504227   \n",
              "min         1.000000     -56.407510     -72.715728     -48.325589   \n",
              "25%     54063.000000      -0.919470      -0.595982      -0.889173   \n",
              "50%     84637.000000       0.017236       0.064909       0.179942   \n",
              "75%    139151.000000       1.315186       0.800026       1.024311   \n",
              "max    172792.000000       2.451888      16.497472       4.187811   \n",
              "\n",
              "                  V4             V5             V6             V7  \\\n",
              "count  148671.000000  148671.000000  148671.000000  148671.000000   \n",
              "mean        0.000726      -0.000325       0.000314       0.001003   \n",
              "std         1.412236       1.396980       1.342388       1.243926   \n",
              "min        -5.401678    -113.743307     -26.160506     -31.197329   \n",
              "25%        -0.845732      -0.689837      -0.767787      -0.552822   \n",
              "50%        -0.017119      -0.053146      -0.275032       0.039402   \n",
              "75%         0.744782       0.613433       0.395862       0.569151   \n",
              "max        16.715537      34.801666      73.301626     120.589494   \n",
              "\n",
              "                  V8             V9  ...            V21            V22  \\\n",
              "count  148671.000000  148671.000000  ...  148671.000000  148671.000000   \n",
              "mean        0.001141       0.002966  ...       0.002433      -0.000928   \n",
              "std         1.175264       1.096171  ...       0.728833       0.725047   \n",
              "min       -50.943369      -9.481456  ...     -22.757540     -10.933144   \n",
              "25%        -0.208169      -0.640412  ...      -0.227944      -0.543619   \n",
              "50%         0.022356      -0.048429  ...      -0.028440       0.006152   \n",
              "75%         0.326845       0.603295  ...       0.188001       0.530247   \n",
              "max        18.329406      10.392889  ...      27.202839       7.357255   \n",
              "\n",
              "                 V23            V24            V25            V26  \\\n",
              "count  148671.000000  148671.000000  148671.000000  148671.000000   \n",
              "mean       -0.000682       0.000927      -0.000814      -0.000461   \n",
              "std         0.628792       0.605060       0.521639       0.483091   \n",
              "min       -44.807735      -2.836627     -10.295397      -2.534330   \n",
              "25%        -0.161469      -0.353986      -0.317920      -0.327894   \n",
              "50%        -0.011055       0.041329       0.015947      -0.052161   \n",
              "75%         0.147524       0.441170       0.350957       0.240191   \n",
              "max        19.228169       4.584549       7.519589       3.415636   \n",
              "\n",
              "                 V27            V28         Amount          Class  \n",
              "count  148671.000000  148671.000000  148671.000000  148671.000000  \n",
              "mean       -0.001375       0.000457      88.940157       0.001762  \n",
              "std         0.408883       0.334947     255.996600       0.041943  \n",
              "min        -9.895244     -15.430084       0.000000       0.000000  \n",
              "25%        -0.071149      -0.052876       5.600000       0.000000  \n",
              "50%         0.001078       0.011486      22.170000       0.000000  \n",
              "75%         0.090842       0.078705      77.500000       0.000000  \n",
              "max        31.612198      33.847808   25691.160000       1.000000  \n",
              "\n",
              "[8 rows x 31 columns]"
            ]
          },
          "execution_count": 16,
          "metadata": {},
          "output_type": "execute_result"
        }
      ],
      "source": [
        "df.describe()"
      ]
    },
    {
      "cell_type": "code",
      "execution_count": 19,
      "metadata": {},
      "outputs": [
        {
          "data": {
            "text/plain": [
              "0"
            ]
          },
          "execution_count": 19,
          "metadata": {},
          "output_type": "execute_result"
        }
      ],
      "source": [
        "# Checking for null values\n",
        "df.isnull().sum().max()"
      ]
    },
    {
      "cell_type": "markdown",
      "metadata": {},
      "source": [
        "As we can see, we have no columns that contain missing values in our dataset, as indicated above. As for our numeric data, we can already see that we have possible outliers, indicated by min/max values that are distant from the mean or median of the variables. Before checking the outliers, let's see how (un)balanced our dataset is."
      ]
    },
    {
      "cell_type": "code",
      "execution_count": 48,
      "metadata": {},
      "outputs": [
        {
          "name": "stdout",
          "output_type": "stream",
          "text": [
            "0    148409\n",
            "1       262\n",
            "Name: Class, dtype: int64\n",
            "\n",
            "These frauds represent 0.1762% of the dataset.\n",
            "\n"
          ]
        },
        {
          "data": {
            "image/png": "[encoded data removed]",
            "text/plain": [
              "<Figure size 504x360 with 1 Axes>"
            ]
          },
          "metadata": {
            "needs_background": "light"
          },
          "output_type": "display_data"
        }
      ],
      "source": [
        "# Count class values\n",
        "print(df.Class.value_counts())\n",
        "\n",
        "# How much %? Does it match the number stated by the provider?\n",
        "print('\\nThese frauds represent {:.4f}% of the dataset.\\n'.format((df[df.Class == 1].shape[0] / df.shape[0]) * 100))\n",
        "\n",
        "# Plotting barplot\n",
        "fig, ax = plt.subplots(figsize=(7,5))\n",
        "sns.barplot(x=df.Class.unique(), y=df.Class.value_counts(), data=df, ax=ax)\n",
        "ax.set_title('Class distribution', fontsize=12, weight='bold')\n",
        "ax = plt.gca()\n",
        "ax.set_ylim([0, 160000])\n",
        "ax.bar_label(ax.containers[0]);\n"
      ]
    },
    {
      "cell_type": "markdown",
      "metadata": {},
      "source": [
        "\n",
        "Abordar tópicos/informações como:\n",
        "\n",
        "* Plotar os seguintes histogramas:\n",
        "    * Variável `Time`\n",
        "        * Fraude (`Class == 1`)\n",
        "        * Normal (`Class == 0`)\n",
        "    * Variável `Amount`\n",
        "        * Fraude (`Class == 1`)\n",
        "        * Normal (`Class == 0`)\n",
        "* Plotar um `boxplot` para a variável `Amount` quando houve fraude (`Class == 1`)\n",
        "* Plotar uma matriz de correlação"
      ]
    },
    {
      "cell_type": "markdown",
      "metadata": {
        "id": "ULe7z0jZt0EH"
      },
      "source": [
        "## Preparação dos Dados\n",
        "\n",
        "* Normalizar os dados que ainda não haviam sido pré-processados (`Time` e `Amount`)\n",
        "* Dividir o conjunto de dados entre treino e validação\n",
        "* [*Recomendado*] Balancear o conjunto de dados"
      ]
    },
    {
      "cell_type": "code",
      "execution_count": null,
      "metadata": {
        "id": "IqfjG_SUSTi-"
      },
      "outputs": [],
      "source": []
    },
    {
      "cell_type": "markdown",
      "metadata": {
        "id": "wJNH5qcjRxfX"
      },
      "source": [
        "## Modelo de Machine Learning\n",
        "\n",
        "* Construir um modelo para **classificação**.\n",
        "* [*Opcional*] Construir mais de um modelo para avaliar os desempenhos"
      ]
    },
    {
      "cell_type": "code",
      "execution_count": null,
      "metadata": {
        "id": "lDySx8XUSMw_"
      },
      "outputs": [],
      "source": []
    },
    {
      "cell_type": "markdown",
      "metadata": {
        "id": "3e4ENOTYSUXi"
      },
      "source": [
        "## Avaliar o desempenho do modelo\n",
        "\n",
        "* Identificar a melhor métrica para esse tipo de modelo\n",
        "* [*Opcional*] Comparar o desempenho entre diversos modelos"
      ]
    },
    {
      "cell_type": "code",
      "execution_count": null,
      "metadata": {
        "id": "H1jEi7gkSe2r"
      },
      "outputs": [],
      "source": []
    },
    {
      "cell_type": "markdown",
      "metadata": {
        "id": "0Bj7zRZMSfO7"
      },
      "source": [
        "## Conclusão\n",
        "\n",
        "* Escrever suas conclusões a respeito da construção do modelo"
      ]
    }
  ],
  "metadata": {
    "colab": {
      "name": "[Template] Detecção de Fraude em Cartões de Crédito.ipynb",
      "provenance": []
    },
    "interpreter": {
      "hash": "1d3566b98539942dfe42f243b655841af5c597145eebc5638a47e844e4435e63"
    },
    "kernelspec": {
      "display_name": "Python 3.9.7 ('base')",
      "language": "python",
      "name": "python3"
    },
    "language_info": {
      "codemirror_mode": {
        "name": "ipython",
        "version": 3
      },
      "file_extension": ".py",
      "mimetype": "text/x-python",
      "name": "python",
      "nbconvert_exporter": "python",
      "pygments_lexer": "ipython3",
      "version": "3.9.7"
    }
  },
  "nbformat": 4,
  "nbformat_minor": 0
}
