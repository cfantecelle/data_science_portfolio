{
  "cells": [
    {
      "cell_type": "markdown",
      "metadata": {
        "id": "sC2BFMOKN1M7"
      },
      "source": [
        "---\n",
        "<img alt=\"Colaboratory logo\" width=\"15%\" src=\"https://raw.githubusercontent.com/carlosfab/escola-data-science/master/img/novo_logo_bg_claro.png\">\n",
        "\n",
        "#### **Data Science na Prática 3.0**\n",
        "*by [sigmoidal.ai](https://sigmoidal.ai)*  \n",
        "\n",
        "---"
      ]
    },
    {
      "cell_type": "markdown",
      "metadata": {
        "id": "IR56trFcPcC1"
      },
      "source": [
        "# Credit Card fraud detection\n",
        "\n",
        "In the current project, we will address the issue of credit card frauds, which is considered to be a form of identity theft. Typically, this type of fraud occurs from the illegal charging of purchases or funds removal from another's account due to unauthorised use of the person's credit card information<sup><a href=\"https://www.law.cornell.edu/wex/credit_card_fraud\">1</a></sup>. This type of fraud is a major cause of concern in financial institutions and fintechs globally. According to the Nilson Report, credit card fraud worldwide led to the loss of $28.58 billion in 2020<sup><a href=\"https://nilsonreport.com/mention/1515/1link/\">2</a></sup>.\n",
        "\n",
        "<p align=center>\n",
        "<img src=\"img/cctheft.jpg\" width=\"50%\"><br>\n",
        "<i><sup>Image credits: kjpargeter (<a href=\"https://www.freepik.com/search?author=938508&authorSlug=kjpargeter&format=author&selection=1\">www.freepik.com</a>)</sup></i>\n",
        "</p>\n",
        "\n",
        "Thus, credit card frauds are greatly relevant due to their potential to considerably harm both costumers and financial institutions. Another factor to be taken into account are the action to preventively block a credit card due to suspicious activity. If the transaction is genuine, this causes both stress and embarassment to the clients who are denied their purchase.\n",
        "\n",
        "For the aforementioned reasons, investments in Fraud Detection through Artificial Inteligence are increasing constantly, presenting as a great Data Science oportunity. Slightly better machine learning algorithms, with great volumes of data as a base, already represent millions in economy through fraud avoidance."
      ]
    },
    {
      "cell_type": "markdown",
      "metadata": {
        "id": "0HVmpIxQWT4Y"
      },
      "source": [
        "## Getting the data\n",
        "\n",
        "The data that we are using in this project is available on the [Kaggle](https://www.kaggle.com/datasets/mlg-ulb/creditcardfraud) website. It consists of anonymized credit card transactions, which were labeled as fraudulent or genuine transactions. \n",
        "\n",
        "The dataset actually consists of credit card transactions registered in September 2013 by cardholders in Europe. It represents transactions made over the course of two days, where **492 frauds** were identified, out of 284,807 transactions. In total, the operations marked as fraudulent represent only 0.172% of the total dataset, making this dataset highly unbalanced<sup><a href=\"https://www.kaggle.com/datasets/mlg-ulb/creditcardfraud\">3</a></sup>.\n",
        "\n",
        "<p align=center>\n",
        "<img src=\"img/ccpayment.jpg\" width=\"50%\"><br>\n",
        "<i><sup>Image credits: freepik (<a href=\"https://www.freepik.com/free-photo/person-paying-with-its-credit-card_20083164.htm\">www.freepik.com</a>)</sup></i>\n",
        "</p>\n",
        "\n",
        "In addition, the source informs that the dataset has been through a dimensionality reduction transformation: the Principal Component Analysis (PCA). This was done to protect user identities and other sensitive features in the dataset, while also reducing its complexity.\n",
        "\n",
        "With the increase in the number of variables in a given dataset, the difficulty to visualize a multi-dimensional hyperspace also increases. The goal of the PCA is to extract important information from this multi-variate data that are inter-correlated. While each variable is considered a different *dimension*, the PCA extracts the information in the dataset as a set of new variables called **principal components**, reducing the number of *dimensions* from the original dataset. These **principal components** correspond to a linear combination of the original variables and their goal is to encapsulate most of the variation present in the dataset<sup><a href=\"http://www.sthda.com/english/articles/31-principal-component-methods-in-r-practical-guide/112-pca-principal-component-analysis-essentials/\">4</a></sup>.\n",
        "\n",
        "In our dataset, the **principal components** correspond to the columns in the dataset: $[V1, V2, V3 \\dots, Vn]$."
      ]
    },
    {
      "cell_type": "markdown",
      "metadata": {},
      "source": [
        "### Loading necessary packages"
      ]
    },
    {
      "cell_type": "code",
      "execution_count": 2,
      "metadata": {},
      "outputs": [],
      "source": [
        "## Importing packages\n",
        "\n",
        "# General\n",
        "import pandas as pd\n",
        "import numpy as np\n",
        "from scipy import stats\n",
        "\n",
        "# Plotting\n",
        "import matplotlib.pyplot as plt\n",
        "import seaborn as sns\n",
        "import scikitplot as skplt\n",
        "\n",
        "# Machine Learning models\n",
        "from sklearn.preprocessing import StandardScaler\n",
        "from sklearn.model_selection import train_test_split\n",
        "from sklearn.linear_model import LogisticRegression\n",
        "from sklearn.ensemble import RandomForestClassifier\n",
        "from sklearn.metrics import classification_report\n",
        "from sklearn.metrics import roc_auc_score, roc_curve, accuracy_score\n",
        "\n",
        "# Tool for dealing with imbalance\n",
        "from imblearn.under_sampling import RandomUnderSampler\n",
        "\n",
        "%matplotlib inline"
      ]
    },
    {
      "cell_type": "markdown",
      "metadata": {
        "id": "g5XDTWW5LRVe"
      },
      "source": [
        "### Importing the data\n",
        "\n",
        "For ease of access, since this is a bigger file, we will import it as a direct access link."
      ]
    },
    {
      "cell_type": "code",
      "execution_count": 3,
      "metadata": {
        "id": "4NxUOfDOj2j8"
      },
      "outputs": [],
      "source": [
        "file_path = \"https://onedrive.live.com/download?cid=A06C4A8AAF3A347B&resid=A06C4A8AAF3A347B%215208&authkey=AAdhamfzp5RS9PM\"\n",
        "\n",
        "# Downloading and reading the file\n",
        "df = pd.read_csv(file_path)"
      ]
    },
    {
      "cell_type": "markdown",
      "metadata": {},
      "source": [
        "Now, let's verify basic characteristics of our dataset and subset the `test` data that is going to be used later on."
      ]
    },
    {
      "cell_type": "code",
      "execution_count": 4,
      "metadata": {},
      "outputs": [
        {
          "name": "stdout",
          "output_type": "stream",
          "text": [
            "Original size of the dataset:  284807  entries.\n",
            "Test dataset size:  42721  entries.\n",
            "Remaining dataset size:  242086  entries.\n"
          ]
        }
      ],
      "source": [
        "# Original size\n",
        "print('Original size of the dataset: ', df.shape[0], ' entries.')\n",
        "\n",
        "# Separating test data\n",
        "test = df.sample(frac=0.15, random_state=42)\n",
        "\n",
        "# Removing test data from regular df\n",
        "df = df.drop(test.index)\n",
        "\n",
        "# Test dataset size\n",
        "print('Test dataset size: ', test.shape[0], ' entries.')\n",
        "print('Remaining dataset size: ', df.shape[0], ' entries.')"
      ]
    },
    {
      "cell_type": "markdown",
      "metadata": {
        "id": "7nF_Dhd81Cvq"
      },
      "source": [
        "Having imported the data, we can begin the exploratory analysis of the dataset while also preparing the data to use in a **machine learning** model."
      ]
    },
    {
      "cell_type": "markdown",
      "metadata": {
        "id": "8UtXyZ6stlSM"
      },
      "source": [
        "## Exploratory analysis\n",
        "\n",
        "To begin our analysis, let us look a the first entries of the dataframe:"
      ]
    },
    {
      "cell_type": "markdown",
      "metadata": {},
      "source": [
        "From this initial look, we can see that our data is entirely numeric after the dimensionality reduction (the *Principal Component Analysis*). Follow [this link](https://builtin.com/data-science/step-step-explanation-principal-component-analysis) if you want to know more about the method.\n",
        "\n",
        "The only values that were preserved were the columns:\n",
        "* `Time`: Number of seconds elapsed between this transaction and the first transaction in the dataset;\n",
        "* `Amount`: Value that represents the transaction amount;\n",
        "* `Class`: Binary coded variable, with '1' representing fraudulent transactions and '0' representing regular ones.\n",
        "\n",
        "Now, let us do descriptive statistics on the dataset and check if there are any missing values:"
      ]
    },
    {
      "cell_type": "code",
      "execution_count": 6,
      "metadata": {},
      "outputs": [
        {
          "data": {
            "text/html": [
              "<div>\n",
              "<style scoped>\n",
              "    .dataframe tbody tr th:only-of-type {\n",
              "        vertical-align: middle;\n",
              "    }\n",
              "\n",
              "    .dataframe tbody tr th {\n",
              "        vertical-align: top;\n",
              "    }\n",
              "\n",
              "    .dataframe thead th {\n",
              "        text-align: right;\n",
              "    }\n",
              "</style>\n",
              "<table border=\"1\" class=\"dataframe\">\n",
              "  <thead>\n",
              "    <tr style=\"text-align: right;\">\n",
              "      <th></th>\n",
              "      <th>Time</th>\n",
              "      <th>V1</th>\n",
              "      <th>V2</th>\n",
              "      <th>V3</th>\n",
              "      <th>V4</th>\n",
              "      <th>V5</th>\n",
              "      <th>V6</th>\n",
              "      <th>V7</th>\n",
              "      <th>V8</th>\n",
              "      <th>V9</th>\n",
              "      <th>...</th>\n",
              "      <th>V21</th>\n",
              "      <th>V22</th>\n",
              "      <th>V23</th>\n",
              "      <th>V24</th>\n",
              "      <th>V25</th>\n",
              "      <th>V26</th>\n",
              "      <th>V27</th>\n",
              "      <th>V28</th>\n",
              "      <th>Amount</th>\n",
              "      <th>Class</th>\n",
              "    </tr>\n",
              "  </thead>\n",
              "  <tbody>\n",
              "    <tr>\n",
              "      <th>count</th>\n",
              "      <td>242086.000000</td>\n",
              "      <td>242086.000000</td>\n",
              "      <td>242086.000000</td>\n",
              "      <td>242086.000000</td>\n",
              "      <td>242086.000000</td>\n",
              "      <td>242086.000000</td>\n",
              "      <td>242086.000000</td>\n",
              "      <td>242086.000000</td>\n",
              "      <td>242086.000000</td>\n",
              "      <td>242086.000000</td>\n",
              "      <td>...</td>\n",
              "      <td>242086.000000</td>\n",
              "      <td>242086.000000</td>\n",
              "      <td>242086.000000</td>\n",
              "      <td>242086.000000</td>\n",
              "      <td>242086.000000</td>\n",
              "      <td>242086.000000</td>\n",
              "      <td>242086.000000</td>\n",
              "      <td>242086.000000</td>\n",
              "      <td>242086.000000</td>\n",
              "      <td>242086.000000</td>\n",
              "    </tr>\n",
              "    <tr>\n",
              "      <th>mean</th>\n",
              "      <td>94790.585432</td>\n",
              "      <td>0.001153</td>\n",
              "      <td>-0.000866</td>\n",
              "      <td>-0.000249</td>\n",
              "      <td>-0.000743</td>\n",
              "      <td>-0.000391</td>\n",
              "      <td>-0.000532</td>\n",
              "      <td>0.000951</td>\n",
              "      <td>-0.000115</td>\n",
              "      <td>0.000864</td>\n",
              "      <td>...</td>\n",
              "      <td>0.000640</td>\n",
              "      <td>-0.000997</td>\n",
              "      <td>-0.000196</td>\n",
              "      <td>0.000017</td>\n",
              "      <td>-0.000824</td>\n",
              "      <td>-0.000040</td>\n",
              "      <td>-0.000628</td>\n",
              "      <td>0.000409</td>\n",
              "      <td>88.612138</td>\n",
              "      <td>0.001727</td>\n",
              "    </tr>\n",
              "    <tr>\n",
              "      <th>std</th>\n",
              "      <td>47488.557251</td>\n",
              "      <td>1.956206</td>\n",
              "      <td>1.653385</td>\n",
              "      <td>1.513529</td>\n",
              "      <td>1.414942</td>\n",
              "      <td>1.384288</td>\n",
              "      <td>1.334177</td>\n",
              "      <td>1.239964</td>\n",
              "      <td>1.189191</td>\n",
              "      <td>1.097059</td>\n",
              "      <td>...</td>\n",
              "      <td>0.733873</td>\n",
              "      <td>0.725555</td>\n",
              "      <td>0.630782</td>\n",
              "      <td>0.605192</td>\n",
              "      <td>0.521516</td>\n",
              "      <td>0.482538</td>\n",
              "      <td>0.402632</td>\n",
              "      <td>0.331341</td>\n",
              "      <td>254.851246</td>\n",
              "      <td>0.041517</td>\n",
              "    </tr>\n",
              "    <tr>\n",
              "      <th>min</th>\n",
              "      <td>0.000000</td>\n",
              "      <td>-56.407510</td>\n",
              "      <td>-72.715728</td>\n",
              "      <td>-48.325589</td>\n",
              "      <td>-5.683171</td>\n",
              "      <td>-113.743307</td>\n",
              "      <td>-26.160506</td>\n",
              "      <td>-43.557242</td>\n",
              "      <td>-73.216718</td>\n",
              "      <td>-13.320155</td>\n",
              "      <td>...</td>\n",
              "      <td>-34.830382</td>\n",
              "      <td>-10.933144</td>\n",
              "      <td>-44.807735</td>\n",
              "      <td>-2.836627</td>\n",
              "      <td>-10.295397</td>\n",
              "      <td>-2.604551</td>\n",
              "      <td>-9.895244</td>\n",
              "      <td>-15.430084</td>\n",
              "      <td>0.000000</td>\n",
              "      <td>0.000000</td>\n",
              "    </tr>\n",
              "    <tr>\n",
              "      <th>25%</th>\n",
              "      <td>54156.000000</td>\n",
              "      <td>-0.920932</td>\n",
              "      <td>-0.598121</td>\n",
              "      <td>-0.890516</td>\n",
              "      <td>-0.848834</td>\n",
              "      <td>-0.690313</td>\n",
              "      <td>-0.768634</td>\n",
              "      <td>-0.552487</td>\n",
              "      <td>-0.208175</td>\n",
              "      <td>-0.642411</td>\n",
              "      <td>...</td>\n",
              "      <td>-0.228369</td>\n",
              "      <td>-0.543000</td>\n",
              "      <td>-0.161417</td>\n",
              "      <td>-0.354494</td>\n",
              "      <td>-0.317682</td>\n",
              "      <td>-0.327258</td>\n",
              "      <td>-0.070913</td>\n",
              "      <td>-0.052945</td>\n",
              "      <td>5.560000</td>\n",
              "      <td>0.000000</td>\n",
              "    </tr>\n",
              "    <tr>\n",
              "      <th>50%</th>\n",
              "      <td>84676.000000</td>\n",
              "      <td>0.018265</td>\n",
              "      <td>0.065809</td>\n",
              "      <td>0.179657</td>\n",
              "      <td>-0.019657</td>\n",
              "      <td>-0.055903</td>\n",
              "      <td>-0.274238</td>\n",
              "      <td>0.041138</td>\n",
              "      <td>0.022436</td>\n",
              "      <td>-0.050819</td>\n",
              "      <td>...</td>\n",
              "      <td>-0.029438</td>\n",
              "      <td>0.005658</td>\n",
              "      <td>-0.010732</td>\n",
              "      <td>0.040809</td>\n",
              "      <td>0.014962</td>\n",
              "      <td>-0.052117</td>\n",
              "      <td>0.001301</td>\n",
              "      <td>0.011338</td>\n",
              "      <td>22.000000</td>\n",
              "      <td>0.000000</td>\n",
              "    </tr>\n",
              "    <tr>\n",
              "      <th>75%</th>\n",
              "      <td>139309.000000</td>\n",
              "      <td>1.315404</td>\n",
              "      <td>0.803877</td>\n",
              "      <td>1.025325</td>\n",
              "      <td>0.742531</td>\n",
              "      <td>0.610267</td>\n",
              "      <td>0.397241</td>\n",
              "      <td>0.570192</td>\n",
              "      <td>0.327822</td>\n",
              "      <td>0.598923</td>\n",
              "      <td>...</td>\n",
              "      <td>0.186394</td>\n",
              "      <td>0.527999</td>\n",
              "      <td>0.148084</td>\n",
              "      <td>0.439855</td>\n",
              "      <td>0.350598</td>\n",
              "      <td>0.241024</td>\n",
              "      <td>0.091082</td>\n",
              "      <td>0.078298</td>\n",
              "      <td>77.290000</td>\n",
              "      <td>0.000000</td>\n",
              "    </tr>\n",
              "    <tr>\n",
              "      <th>max</th>\n",
              "      <td>172792.000000</td>\n",
              "      <td>2.454930</td>\n",
              "      <td>22.057729</td>\n",
              "      <td>4.226108</td>\n",
              "      <td>16.875344</td>\n",
              "      <td>34.801666</td>\n",
              "      <td>73.301626</td>\n",
              "      <td>120.589494</td>\n",
              "      <td>20.007208</td>\n",
              "      <td>10.392889</td>\n",
              "      <td>...</td>\n",
              "      <td>27.202839</td>\n",
              "      <td>10.503090</td>\n",
              "      <td>22.528412</td>\n",
              "      <td>4.584549</td>\n",
              "      <td>7.519589</td>\n",
              "      <td>3.517346</td>\n",
              "      <td>31.612198</td>\n",
              "      <td>33.847808</td>\n",
              "      <td>25691.160000</td>\n",
              "      <td>1.000000</td>\n",
              "    </tr>\n",
              "  </tbody>\n",
              "</table>\n",
              "<p>8 rows × 31 columns</p>\n",
              "</div>"
            ],
            "text/plain": [
              "                Time             V1             V2             V3  \\\n",
              "count  242086.000000  242086.000000  242086.000000  242086.000000   \n",
              "mean    94790.585432       0.001153      -0.000866      -0.000249   \n",
              "std     47488.557251       1.956206       1.653385       1.513529   \n",
              "min         0.000000     -56.407510     -72.715728     -48.325589   \n",
              "25%     54156.000000      -0.920932      -0.598121      -0.890516   \n",
              "50%     84676.000000       0.018265       0.065809       0.179657   \n",
              "75%    139309.000000       1.315404       0.803877       1.025325   \n",
              "max    172792.000000       2.454930      22.057729       4.226108   \n",
              "\n",
              "                  V4             V5             V6             V7  \\\n",
              "count  242086.000000  242086.000000  242086.000000  242086.000000   \n",
              "mean       -0.000743      -0.000391      -0.000532       0.000951   \n",
              "std         1.414942       1.384288       1.334177       1.239964   \n",
              "min        -5.683171    -113.743307     -26.160506     -43.557242   \n",
              "25%        -0.848834      -0.690313      -0.768634      -0.552487   \n",
              "50%        -0.019657      -0.055903      -0.274238       0.041138   \n",
              "75%         0.742531       0.610267       0.397241       0.570192   \n",
              "max        16.875344      34.801666      73.301626     120.589494   \n",
              "\n",
              "                  V8             V9  ...            V21            V22  \\\n",
              "count  242086.000000  242086.000000  ...  242086.000000  242086.000000   \n",
              "mean       -0.000115       0.000864  ...       0.000640      -0.000997   \n",
              "std         1.189191       1.097059  ...       0.733873       0.725555   \n",
              "min       -73.216718     -13.320155  ...     -34.830382     -10.933144   \n",
              "25%        -0.208175      -0.642411  ...      -0.228369      -0.543000   \n",
              "50%         0.022436      -0.050819  ...      -0.029438       0.005658   \n",
              "75%         0.327822       0.598923  ...       0.186394       0.527999   \n",
              "max        20.007208      10.392889  ...      27.202839      10.503090   \n",
              "\n",
              "                 V23            V24            V25            V26  \\\n",
              "count  242086.000000  242086.000000  242086.000000  242086.000000   \n",
              "mean       -0.000196       0.000017      -0.000824      -0.000040   \n",
              "std         0.630782       0.605192       0.521516       0.482538   \n",
              "min       -44.807735      -2.836627     -10.295397      -2.604551   \n",
              "25%        -0.161417      -0.354494      -0.317682      -0.327258   \n",
              "50%        -0.010732       0.040809       0.014962      -0.052117   \n",
              "75%         0.148084       0.439855       0.350598       0.241024   \n",
              "max        22.528412       4.584549       7.519589       3.517346   \n",
              "\n",
              "                 V27            V28         Amount          Class  \n",
              "count  242086.000000  242086.000000  242086.000000  242086.000000  \n",
              "mean       -0.000628       0.000409      88.612138       0.001727  \n",
              "std         0.402632       0.331341     254.851246       0.041517  \n",
              "min        -9.895244     -15.430084       0.000000       0.000000  \n",
              "25%        -0.070913      -0.052945       5.560000       0.000000  \n",
              "50%         0.001301       0.011338      22.000000       0.000000  \n",
              "75%         0.091082       0.078298      77.290000       0.000000  \n",
              "max        31.612198      33.847808   25691.160000       1.000000  \n",
              "\n",
              "[8 rows x 31 columns]"
            ]
          },
          "execution_count": 6,
          "metadata": {},
          "output_type": "execute_result"
        }
      ],
      "source": [
        "df.describe()"
      ]
    },
    {
      "cell_type": "code",
      "execution_count": 7,
      "metadata": {},
      "outputs": [
        {
          "data": {
            "text/plain": [
              "0"
            ]
          },
          "execution_count": 7,
          "metadata": {},
          "output_type": "execute_result"
        }
      ],
      "source": [
        "# Checking for null values\n",
        "df.isnull().sum().max()"
      ]
    },
    {
      "cell_type": "markdown",
      "metadata": {},
      "source": [
        "As we can see, we have no columns that contain missing values in our dataset, as indicated above. As for our numeric data, we can already see that we have possible outliers, indicated by min/max values that are distant from the mean or median of the variables. Before checking the outliers, let's see how (un)balanced our dataset is."
      ]
    },
    {
      "cell_type": "code",
      "execution_count": 8,
      "metadata": {},
      "outputs": [
        {
          "name": "stdout",
          "output_type": "stream",
          "text": [
            "0    241668\n",
            "1       418\n",
            "Name: Class, dtype: int64\n",
            "\n",
            "These frauds represent 0.1727% of the dataset.\n",
            "\n"
          ]
        },
        {
          "data": {
            "image/png": "[encoded data removed]",
            "text/plain": [
              "<Figure size 360x360 with 1 Axes>"
            ]
          },
          "metadata": {
            "needs_background": "light"
          },
          "output_type": "display_data"
        }
      ],
      "source": [
        "# Count class values\n",
        "print(df.Class.value_counts())\n",
        "\n",
        "# How much %? Does it match the number stated by the provider?\n",
        "print('\\nThese frauds represent {:.4f}% of the dataset.\\n'.format((df[df.Class == 1].shape[0] / df.shape[0]) * 100))\n",
        "\n",
        "# Plotting barplot\n",
        "fig, ax = plt.subplots(figsize=(5,5))\n",
        "sns.barplot(x=df.Class.unique(), y=df.Class.value_counts(), data=df, ax=ax)\n",
        "ax.set_title('Class distribution', fontsize=12, weight='bold')\n",
        "ax = plt.gca()\n",
        "ax.set_ylim([0, 270000])\n",
        "ax.bar_label(ax.containers[0]);\n"
      ]
    },
    {
      "cell_type": "markdown",
      "metadata": {},
      "source": [
        "To further investigate the presence of outliers and other features of the dataset, we will look at some plots, namely histograms of the `time` and `amount` variables either from normal or fraudulent transactions separately and a boxplot of `amount` in fraudulent transactions."
      ]
    },
    {
      "cell_type": "code",
      "execution_count": 9,
      "metadata": {},
      "outputs": [
        {
          "data": {
            "image/png": "[encoded data removed]",
            "text/plain": [
              "<Figure size 1080x504 with 2 Axes>"
            ]
          },
          "metadata": {
            "needs_background": "light"
          },
          "output_type": "display_data"
        }
      ],
      "source": [
        "fig, axes = plt.subplots(2, 1, figsize=(15,7))\n",
        "\n",
        "axes[0].hist(df.Time[df.Class==0], bins=30, rwidth=0.95)\n",
        "axes[0].set_title('Normal transaction', fontsize=12)\n",
        "counts, bins, bars = axes[1].hist(df.Time[df.Class==1], bins=30, rwidth=0.95)\n",
        "axes[1].set_title('Fraudulent transaction', fontsize=12)\n",
        "\n",
        "plt.subplots_adjust(wspace=0.5, hspace=0.5)\n",
        "\n",
        "plt.suptitle('Time variable', fontsize=14, weight='bold');\n"
      ]
    },
    {
      "cell_type": "code",
      "execution_count": 10,
      "metadata": {},
      "outputs": [
        {
          "name": "stdout",
          "output_type": "stream",
          "text": [
            "Peak #1 occurs after around 40059 seconds, or, roughly, around 11 hours after the first transaction.\n",
            "Peak #2 occurs after around 91042 seconds, or, roughly, around 25 hours after the first transaction.\n"
          ]
        }
      ],
      "source": [
        "# Estimating how much time between the peaks in transactions\n",
        "timeHistDict = dict(zip(counts, bins))\n",
        "\n",
        "keys = list(timeHistDict.keys())\n",
        "keys.sort(reverse=True)\n",
        "keys = keys[0:2]\n",
        "\n",
        "count = 1\n",
        "\n",
        "for key in keys:\n",
        "\n",
        "    print('Peak #' + str(count) + ' occurs after around ' + str(int(round(timeHistDict.get(key),0))) + ' seconds, or, roughly, around ' + str(int(round(timeHistDict.get(key)/3600,0))) + ' hours after the first transaction.')\n",
        "    count += 1\n"
      ]
    },
    {
      "cell_type": "markdown",
      "metadata": {},
      "source": [
        "From the time data, we can see that normal transactions occur in a continuous pattern over two periods (represented by the broad peaks in the first histogram) of time. These probably represent \"regular\" day hours, where we would expect most people to be actively making purchases. However, we lack information about the actual time of the transactions and are unable to conclude any further.\n",
        "\n",
        "Although we can estimate how much time elapse between the peaks in transaction frauds, without the information mentioned above we cannot say what time of day these frauds were more frequent. However, if the broad peaks do represent daytime activity, the second peak in fraudulent transactions could represent operations being made at night which are, potentially, transactions which would take some time before alarming the owner of the credit card, considering most people are sleeping at nighttime."
      ]
    },
    {
      "cell_type": "code",
      "execution_count": 11,
      "metadata": {},
      "outputs": [
        {
          "data": {
            "image/png": "[encoded data removed]",
            "text/plain": [
              "<Figure size 1080x504 with 2 Axes>"
            ]
          },
          "metadata": {
            "needs_background": "light"
          },
          "output_type": "display_data"
        }
      ],
      "source": [
        "fig, axes = plt.subplots(2, 1, figsize=(15,7))\n",
        "\n",
        "axes[0].hist(df.Amount[df.Class==0], bins=100, rwidth=0.95)\n",
        "axes[0].set_title('Normal transaction', fontsize=12)\n",
        "axes[1].hist(df.Amount[df.Class==1], bins=100, rwidth=0.95)\n",
        "axes[1].set_title('Fraudulent transaction', fontsize=12)\n",
        "\n",
        "plt.subplots_adjust(wspace=0.5, hspace=0.5)\n",
        "\n",
        "plt.suptitle('Amount variable', fontsize=14, weight='bold');"
      ]
    },
    {
      "cell_type": "markdown",
      "metadata": {},
      "source": [
        "As we can see in the histograms for the `amount` variable, regular transactions do not appear to have outliers as most of the data falls around one peak in value. However, for fraudulent transations, we have an increased span of values, up to over $2000. Let us see how these features look in boxplots:"
      ]
    },
    {
      "cell_type": "code",
      "execution_count": 12,
      "metadata": {},
      "outputs": [
        {
          "data": {
            "image/png": "[encoded data removed]",
            "text/plain": [
              "<Figure size 1080x504 with 2 Axes>"
            ]
          },
          "metadata": {
            "needs_background": "light"
          },
          "output_type": "display_data"
        }
      ],
      "source": [
        "# Plotting boxplots\n",
        "fig, axes = plt.subplots(2, 1, figsize=(15,7))\n",
        "\n",
        "axes[0].boxplot(df.Amount[df.Class==0], vert=False)\n",
        "axes[0].set_title(\"Normal\")\n",
        "axes[1].boxplot(df.Amount[df.Class==1], vert=False)\n",
        "axes[1].set_title(\"Fraud\");\n"
      ]
    },
    {
      "cell_type": "markdown",
      "metadata": {},
      "source": [
        "From this, we can see that normal transactions also have outliers. However, in both cases these transactions represent real data. This is important, as machine learning techniques have to take these characteristics into account when predicting fraudulent transactions from regular ones.\n",
        "\n",
        "For now, in summary, we know that the dataset is heavily unbalanced and that `Time` and `Amount` variables are not standardized. Since we are dealing with a PCA transformation, we assume that the features have been standardized beforehand. As for the *unbalancing* of the dataset, it has been previously demonstrated that **class imbalance** is not always a problem for classifiers *per se*<sup><a href=\"https://www.researchgate.net/profile/Duke-Taeho-Jo/publication/220520142_Class_imbalances_versus_small_disjuncts/links/53fe8cf40cf21edafd151816/Class-imbalances-versus-small-disjuncts.pdf\">5</a></sup>. Thus, we will test how the imbalance will impact our models."
      ]
    },
    {
      "cell_type": "markdown",
      "metadata": {},
      "source": [
        "## Data preparation\n",
        "\n",
        "### Feature scaling/data standardization\n",
        "\n",
        "Since `Time` and `Amount` represent two very different types of measurement, these variables are in different scales. Since the variables have outliers, we will apply the **standardization** (or Z-score transformation) technique before splitting the dataset."
      ]
    },
    {
      "cell_type": "code",
      "execution_count": 13,
      "metadata": {},
      "outputs": [],
      "source": [
        "# Copying df\n",
        "df_std = df.copy()\n",
        "\n",
        "# Defining scaler\n",
        "std_scaler = StandardScaler()\n",
        "\n",
        "# Standardizing and droping old vars\n",
        "df_std['Std_Time'] = std_scaler.fit_transform(df_std['Time'].values.reshape(-1, 1))\n",
        "df_std['Std_Amount'] = std_scaler.fit_transform(df_std['Amount'].values.reshape(-1, 1))\n",
        "\n",
        "df_std.drop(['Time', 'Amount'], axis=1, inplace=True)"
      ]
    },
    {
      "cell_type": "code",
      "execution_count": 14,
      "metadata": {},
      "outputs": [
        {
          "data": {
            "text/html": [
              "<div>\n",
              "<style scoped>\n",
              "    .dataframe tbody tr th:only-of-type {\n",
              "        vertical-align: middle;\n",
              "    }\n",
              "\n",
              "    .dataframe tbody tr th {\n",
              "        vertical-align: top;\n",
              "    }\n",
              "\n",
              "    .dataframe thead th {\n",
              "        text-align: right;\n",
              "    }\n",
              "</style>\n",
              "<table border=\"1\" class=\"dataframe\">\n",
              "  <thead>\n",
              "    <tr style=\"text-align: right;\">\n",
              "      <th></th>\n",
              "      <th>Std_Time</th>\n",
              "      <th>Std_Amount</th>\n",
              "    </tr>\n",
              "  </thead>\n",
              "  <tbody>\n",
              "    <tr>\n",
              "      <th>count</th>\n",
              "      <td>2.420860e+05</td>\n",
              "      <td>2.420860e+05</td>\n",
              "    </tr>\n",
              "    <tr>\n",
              "      <th>mean</th>\n",
              "      <td>-1.490656e-17</td>\n",
              "      <td>3.658275e-16</td>\n",
              "    </tr>\n",
              "    <tr>\n",
              "      <th>std</th>\n",
              "      <td>1.000002e+00</td>\n",
              "      <td>1.000002e+00</td>\n",
              "    </tr>\n",
              "    <tr>\n",
              "      <th>min</th>\n",
              "      <td>-1.996076e+00</td>\n",
              "      <td>-3.477021e-01</td>\n",
              "    </tr>\n",
              "    <tr>\n",
              "      <th>25%</th>\n",
              "      <td>-8.556729e-01</td>\n",
              "      <td>-3.258854e-01</td>\n",
              "    </tr>\n",
              "    <tr>\n",
              "      <th>50%</th>\n",
              "      <td>-2.129904e-01</td>\n",
              "      <td>-2.613771e-01</td>\n",
              "    </tr>\n",
              "    <tr>\n",
              "      <th>75%</th>\n",
              "      <td>9.374575e-01</td>\n",
              "      <td>-4.442655e-02</td>\n",
              "    </tr>\n",
              "    <tr>\n",
              "      <th>max</th>\n",
              "      <td>1.642534e+00</td>\n",
              "      <td>1.004610e+02</td>\n",
              "    </tr>\n",
              "  </tbody>\n",
              "</table>\n",
              "</div>"
            ],
            "text/plain": [
              "           Std_Time    Std_Amount\n",
              "count  2.420860e+05  2.420860e+05\n",
              "mean  -1.490656e-17  3.658275e-16\n",
              "std    1.000002e+00  1.000002e+00\n",
              "min   -1.996076e+00 -3.477021e-01\n",
              "25%   -8.556729e-01 -3.258854e-01\n",
              "50%   -2.129904e-01 -2.613771e-01\n",
              "75%    9.374575e-01 -4.442655e-02\n",
              "max    1.642534e+00  1.004610e+02"
            ]
          },
          "execution_count": 14,
          "metadata": {},
          "output_type": "execute_result"
        }
      ],
      "source": [
        "# Checking new vars\n",
        "df_std[['Std_Time', 'Std_Amount']].describe()"
      ]
    },
    {
      "cell_type": "markdown",
      "metadata": {},
      "source": [
        "Now that the variables are transformed, let us split our dataset into train and test data. Since we are using an imbalanced dataset, it is recommended to use a *stratified sampling* approach to splitting the dataset to preserve relative class frequencies<sup><a href=\"https://scikit-learn.org/stable/modules/cross_validation.html#stratification\">6</a></sup>. After that, we will also implement an approach to rebalance the dataset (while also preserving the original data) to test the influence it will have on our models."
      ]
    },
    {
      "cell_type": "code",
      "execution_count": 15,
      "metadata": {},
      "outputs": [],
      "source": [
        "# Extracting target\n",
        "y = df_std['Class']\n",
        "X = df_std.drop('Class', axis=1)\n",
        "\n",
        "# Splitting the dataset\n",
        "X_train, X_val, y_train, y_val = train_test_split(X, y, stratify=y, shuffle=True, random_state=42)"
      ]
    },
    {
      "cell_type": "markdown",
      "metadata": {},
      "source": [
        "To verify wether or not the imbalance in the dataset actually represents and issue for classifying fraudulent transactions, we will employ a method called **Random Under Sampling** (RUS), from the *imbalanced-learn* library, to balance the dataset. This method works by randomly selecting samples from our default (normal transactions) class to match the number of samples in our class of interest (fraud), which is the minority class in the dataset."
      ]
    },
    {
      "cell_type": "code",
      "execution_count": 16,
      "metadata": {},
      "outputs": [
        {
          "name": "stdout",
          "output_type": "stream",
          "text": [
            "0    313\n",
            "1    313\n",
            "Name: Class, dtype: int64\n"
          ]
        },
        {
          "data": {
            "image/png": "[encoded data removed]",
            "text/plain": [
              "<Figure size 432x288 with 1 Axes>"
            ]
          },
          "metadata": {
            "needs_background": "light"
          },
          "output_type": "display_data"
        }
      ],
      "source": [
        "# Defining random under sampler\n",
        "rus = RandomUnderSampler()\n",
        "\n",
        "# Creating new train sets\n",
        "X_under, y_under = rus.fit_resample(X_train, y_train)\n",
        "\n",
        "# Checking the balancing\n",
        "print(y_under.value_counts())\n",
        "sns.countplot(x=y_under);"
      ]
    },
    {
      "cell_type": "markdown",
      "metadata": {},
      "source": [
        "Now that we have successfully balanced our dataset, let's look at a correlation plot to see how this affected the relationship between the features."
      ]
    },
    {
      "cell_type": "code",
      "execution_count": 17,
      "metadata": {},
      "outputs": [
        {
          "data": {
            "image/png": "[encoded data removed]",
            "text/plain": [
              "<Figure size 1440x576 with 4 Axes>"
            ]
          },
          "metadata": {
            "needs_background": "light"
          },
          "output_type": "display_data"
        }
      ],
      "source": [
        "# Calculating correalations\n",
        "corr = X_train.corr()\n",
        "corr_under = X_under.corr()\n",
        "\n",
        "# Plotting\n",
        "fig, axes = plt.subplots(1, 2, figsize=(20,8))\n",
        "\n",
        "axes[0].set_title('Unbalanced dataset')\n",
        "sns.heatmap(corr, ax=axes[0], cmap='coolwarm', vmin=-1, vmax=1)\n",
        "axes[1].set_title('Balanced dataset\\n(Random Under Sampling)')\n",
        "sns.heatmap(corr_under, ax=axes[1], cmap='coolwarm', vmin=-1, vmax=1);\n",
        "\n"
      ]
    },
    {
      "cell_type": "markdown",
      "metadata": {},
      "source": [
        "We can see that over half of our features acquire some correlation after filtering the dataset. In addition, some of the correlations (even if weaker ones) in the variables `Amount` and `Time` change after rebalancing the dataset, indicating that this is not a good way of evaluating the relationship between these variables and the features of our dataset.\n",
        "\n",
        "Still, we will use our machine learning model to determine wether or not it is better to balance the dataset in this case."
      ]
    },
    {
      "cell_type": "markdown",
      "metadata": {},
      "source": [
        "## Machine Learning model\n",
        "\n",
        "Now we will build a model to ***classify*** our data wether they represent fraudulent transactions or not. Since we are talking about a *binary* outcome, one of the models that are suited to this classification is the **binary Logistic Regression**. Another model useful for classification is the *Random Forest* classifier. Here, we will test both these models.\n",
        "\n",
        "### Logistic Regression\n",
        "\n",
        "This type of regression, also called logit model or logit regression, is often used to classify or predict an outcome. Speaking simply, it works by estimating the **probability** of occurrence of an event, base on one or more independent variables (also termed *predictors*)<sup><a href=\"https://www.ibm.com/topics/logistic-regression\">6</a></sup>.\n",
        "\n",
        "Now, we will build two models: one using the unbalanced dataset, and another using the balanced dataset after the [RUS](https://imbalanced-learn.org/stable/references/generated/imblearn.under_sampling.RandomUnderSampler.html) approach."
      ]
    },
    {
      "cell_type": "markdown",
      "metadata": {},
      "source": [
        "#### Building the *unbalanced* model"
      ]
    },
    {
      "cell_type": "code",
      "execution_count": 18,
      "metadata": {},
      "outputs": [],
      "source": [
        "# Setting seed\n",
        "np.random.seed(42)\n",
        "\n",
        "# Creating and training the Unbalanced Logistic Regression model\n",
        "model = LogisticRegression()\n",
        "model.fit(X_train, y_train)\n",
        "\n",
        "# Predicting using this model\n",
        "y_pred = model.predict(X_val)\n",
        "y_proba = model.predict_proba(X_val)"
      ]
    },
    {
      "cell_type": "markdown",
      "metadata": {},
      "source": [
        "#### Building the *balanced* model"
      ]
    },
    {
      "cell_type": "code",
      "execution_count": 19,
      "metadata": {},
      "outputs": [],
      "source": [
        "# Setting seed\n",
        "np.random.seed(42)\n",
        "\n",
        "# Creating and training the Balanced Logistic Regression model\n",
        "model_RUS = LogisticRegression()\n",
        "model_RUS.fit(X_under, y_under)\n",
        "\n",
        "# Predicting using this model\n",
        "y_pred_RUS = model_RUS.predict(X_val)\n",
        "y_proba_RUS = model_RUS.predict_proba(X_val)"
      ]
    },
    {
      "cell_type": "markdown",
      "metadata": {},
      "source": [
        "### Random Forest\n",
        "\n",
        "The random forest is a supervised model that works by building different *decision trees* to reach a single result that better classifies the data<sup><a ref=\"https://www.ibm.com/cloud/learn/random-forest\">7</a></sup>. Now, let us build the models for both our datasets again."
      ]
    },
    {
      "cell_type": "markdown",
      "metadata": {},
      "source": [
        "#### Building the *unbalanced* model"
      ]
    },
    {
      "cell_type": "code",
      "execution_count": 20,
      "metadata": {},
      "outputs": [],
      "source": [
        "# Setting seed\n",
        "np.random.seed(42)\n",
        "\n",
        "# Creating and training the Unbalanced Logistic Regression model\n",
        "forest = RandomForestClassifier(criterion='entropy')\n",
        "forest.fit(X_train, y_train)\n",
        "\n",
        "# Predicting using this model\n",
        "y_forest_pred = forest.predict(X_val)\n",
        "y_forest_proba = forest.predict_proba(X_val)"
      ]
    },
    {
      "cell_type": "markdown",
      "metadata": {},
      "source": [
        "#### Building the *balanced* model"
      ]
    },
    {
      "cell_type": "code",
      "execution_count": 21,
      "metadata": {},
      "outputs": [],
      "source": [
        "# Setting seed\n",
        "np.random.seed(42)\n",
        "\n",
        "# Creating and training the Unbalanced Logistic Regression model\n",
        "forest_RUS = RandomForestClassifier(criterion='entropy')\n",
        "forest_RUS.fit(X_under, y_under)\n",
        "\n",
        "# Predicting using this model\n",
        "y_forest_RUS_pred = forest_RUS.predict(X_val)\n",
        "y_forest_RUS_proba = forest_RUS.predict_proba(X_val)"
      ]
    },
    {
      "cell_type": "markdown",
      "metadata": {},
      "source": [
        "### Model Validation\n",
        "\n",
        "As we said before, our dataset is a very unbalanced one. For this reason, due to the [*Accuracy Paradox*](https://en.wikipedia.org/wiki/Accuracy_paradox), measuring the accuracy of the model alone is not a good metric to evaluate our model. As such, we will also be looking at *precision*, *recall* and something known as the [AUC - ROC](https://developers.google.com/machine-learning/crash-course/classification/roc-and-auc), or **A**rea **U**nder the **C**urve of the **R**eceiver **O**perating **C**haracteristic curve. This type of measure takes into account the True Positive Rate and the False Positive Rate, which means it considers both the classes in its evaluation.\n",
        "\n",
        "Let's see how both our models behave."
      ]
    },
    {
      "cell_type": "markdown",
      "metadata": {},
      "source": [
        "#### Confusion matrices"
      ]
    },
    {
      "cell_type": "code",
      "execution_count": 22,
      "metadata": {},
      "outputs": [
        {
          "data": {
            "image/png": "[encoded data removed]",
            "text/plain": [
              "<Figure size 432x288 with 2 Axes>"
            ]
          },
          "metadata": {
            "needs_background": "light"
          },
          "output_type": "display_data"
        },
        {
          "data": {
            "image/png": "[encoded data removed]",
            "text/plain": [
              "<Figure size 432x288 with 2 Axes>"
            ]
          },
          "metadata": {
            "needs_background": "light"
          },
          "output_type": "display_data"
        },
        {
          "data": {
            "image/png": "[encoded data removed]",
            "text/plain": [
              "<Figure size 432x288 with 2 Axes>"
            ]
          },
          "metadata": {
            "needs_background": "light"
          },
          "output_type": "display_data"
        },
        {
          "data": {
            "image/png": "[encoded data removed]",
            "text/plain": [
              "<Figure size 432x288 with 2 Axes>"
            ]
          },
          "metadata": {
            "needs_background": "light"
          },
          "output_type": "display_data"
        }
      ],
      "source": [
        "# Plotting confusion matrices\n",
        "skplt.metrics.plot_confusion_matrix(y_val, y_pred, normalize=True, title='Logistic Regression\\nUnbalanced dataset')\n",
        "skplt.metrics.plot_confusion_matrix(y_val, y_pred_RUS, normalize=True, title='Logistic Regression\\nBalanced dataset')\n",
        "skplt.metrics.plot_confusion_matrix(y_val, y_forest_pred, normalize=True, title='Random Forest\\nUnbalanced dataset')\n",
        "skplt.metrics.plot_confusion_matrix(y_val, y_forest_RUS_pred, normalize=True, title='Random Forest\\nBalanced dataset');"
      ]
    },
    {
      "cell_type": "markdown",
      "metadata": {},
      "source": [
        "#### Classification reports"
      ]
    },
    {
      "cell_type": "code",
      "execution_count": 23,
      "metadata": {},
      "outputs": [
        {
          "name": "stdout",
          "output_type": "stream",
          "text": [
            "Logistic Regression - Unbalanced:\n",
            "               precision    recall  f1-score   support\n",
            "\n",
            "           0     0.9995    0.9999    0.9997     60417\n",
            "           1     0.9125    0.6952    0.7892       105\n",
            "\n",
            "    accuracy                         0.9994     60522\n",
            "   macro avg     0.9560    0.8476    0.8944     60522\n",
            "weighted avg     0.9993    0.9994    0.9993     60522\n",
            "\n",
            "Logistic Regression - Balanced:\n",
            "               precision    recall  f1-score   support\n",
            "\n",
            "           0     0.9998    0.9554    0.9771     60417\n",
            "           1     0.0344    0.9143    0.0664       105\n",
            "\n",
            "    accuracy                         0.9554     60522\n",
            "   macro avg     0.5171    0.9349    0.5218     60522\n",
            "weighted avg     0.9982    0.9554    0.9756     60522\n",
            "\n",
            "Random Forest - Unbalanced:\n",
            "               precision    recall  f1-score   support\n",
            "\n",
            "           0     0.9997    1.0000    0.9998     60417\n",
            "           1     0.9778    0.8381    0.9026       105\n",
            "\n",
            "    accuracy                         0.9997     60522\n",
            "   macro avg     0.9887    0.9190    0.9512     60522\n",
            "weighted avg     0.9997    0.9997    0.9997     60522\n",
            "\n",
            "Random Forest - Balanced:\n",
            "               precision    recall  f1-score   support\n",
            "\n",
            "           0     0.9998    0.9791    0.9894     60417\n",
            "           1     0.0701    0.9048    0.1301       105\n",
            "\n",
            "    accuracy                         0.9790     60522\n",
            "   macro avg     0.5350    0.9420    0.5598     60522\n",
            "weighted avg     0.9982    0.9790    0.9879     60522\n",
            "\n"
          ]
        }
      ],
      "source": [
        "print('Logistic Regression - Unbalanced:\\n', classification_report(y_val, y_pred, digits=4))\n",
        "print('Logistic Regression - Balanced:\\n', classification_report(y_val, y_pred_RUS, digits=4))\n",
        "print('Random Forest - Unbalanced:\\n', classification_report(y_val, y_forest_pred, digits=4))\n",
        "print('Random Forest - Balanced:\\n', classification_report(y_val, y_forest_RUS_pred, digits=4))"
      ]
    },
    {
      "cell_type": "markdown",
      "metadata": {},
      "source": [
        "#### Area Under the Receiver Operating Characterist Curve - AUROC"
      ]
    },
    {
      "cell_type": "code",
      "execution_count": 24,
      "metadata": {},
      "outputs": [
        {
          "name": "stdout",
          "output_type": "stream",
          "text": [
            "AUC Logistic Regression - Unbalanced: 0.8476\n",
            "\n",
            "AUC Logistic Regression - Balanced: 0.9349\n",
            "\n",
            "AUC Random Forest - Unbalanced: 0.9190\n",
            "\n",
            "AUC Random Forest - Balanced:: 0.9420\n",
            "\n"
          ]
        }
      ],
      "source": [
        "# Calculate Area Under the ROC\n",
        "print(\"AUC Logistic Regression - Unbalanced: {:.4f}\\n\".format(roc_auc_score(y_val, y_pred)))\n",
        "print(\"AUC Logistic Regression - Balanced: {:.4f}\\n\".format(roc_auc_score(y_val, y_pred_RUS)))\n",
        "print(\"AUC Random Forest - Unbalanced: {:.4f}\\n\".format(roc_auc_score(y_val, y_forest_pred)))\n",
        "print(\"AUC Random Forest - Balanced:: {:.4f}\\n\".format(roc_auc_score(y_val, y_forest_RUS_pred)))   "
      ]
    },
    {
      "cell_type": "markdown",
      "metadata": {},
      "source": [
        "#### Metrics summary\n",
        "\n",
        "When we analyse an unbalanced dataset, **accuracy** is not a good metric to evaluate the performance of our model. This occurs because in some cases, even with high accuracy, the number of cases of interest (in this case, fraud) that we are *actually* able to predict can be low.\n",
        "\n",
        "In these cases, better metrics to look at are the **precision**, the **recall**, and the **AUC ROC** metric.\n",
        "\n",
        "To be more specific, the **precision** of our model measures our model's ability to avoid labelling a positive case that's actually negative. What this means in our case is: Out of all the transactions that were predicted by our model to be fraudulent, how many were *actual frauds*?\n",
        "\n",
        "The **recall**, or sensitivity, is the ability of our model to correctly identify all positive cases. Translating to our case here: Out of all the *actual frauds* registered in the dataset, how many of them were detected by our model?\n",
        "\n",
        "It is easy to perceive which of these cases is more important here. Predicting true positive cases is essential to prevent frauds from happening. Whereas assigning fraud to a regular transaction would only cause a (hopefully) minor inconvenience, and could be easily dealt with by the card owner and the cardholder company.\n",
        "\n",
        "As for the **AUC**, it is the calculation of the area under a ROC curve (which is a probability curve). A ROC curve plots the *sensitivity* (true positives rate) against *1 - Specificity* (false positives rate). The higher the area under the curve (i.e. the closer to 1 the value is), the better our model is at distinguishing the classes (fraud from normal transactions).\n",
        "\n",
        "Let's see a summary of the metrics we gathered above."
      ]
    },
    {
      "cell_type": "markdown",
      "metadata": {
        "id": "lDySx8XUSMw_"
      },
      "source": [
        "\n",
        "##### Logistic Regression\n",
        "|                     | Unbalanced | Balanced |\n",
        "| ------------------- | ---------- | -------- |\n",
        "| Precision (class 1) | 0.9125     | 0.0247   |\n",
        "| Recall (class 1)    | 0.6952     | 0.9143   |\n",
        "| Accuracy            | 0.9994     | 0.9372   |\n",
        "| AUROC               | 0.8476     | 0.9258   |\n",
        "\n",
        "\n",
        "##### Random Forest\n",
        "|                     | Unbalanced | Balanced |\n",
        "| ------------------- | ---------- | -------- |\n",
        "| Precision (class 1) | 0.9778     | 0.0453   |\n",
        "| Recall (class 1)    | 0.8381     | 0.9048   |\n",
        "| Accuracy            | 0.9997     | 0.9667   |\n",
        "| AUROC               | 0.919      | 0.9358   |"
      ]
    },
    {
      "cell_type": "markdown",
      "metadata": {},
      "source": [
        "We can see that the ***Logistic Regression*** model was much more affected by the unbalanced dataset. With the unbalanced data, it yielded high **precision**, but not so good a **recall** although the **AUC** was not so bad either. By balancing the dataset, we were able to improve true prediction of frauds (increase in **recall** rates), by the cost of also increasing the number of false positives (low **precision** rate). However, in the balanced model the **AUC** also yielded better results.\n",
        "\n",
        "As for the ***Random Forest*** model, except for **recall** in the balanced dataset, it yielded better classification results, specially the **AUC**. Another aspect is important here. We can see that even with the unbalanced dataset, the Random Forest presented fair results with high **precision** and higher **recall** than the Logistic Regression (although the recall was not as good as with the balanced dataset)."
      ]
    },
    {
      "cell_type": "markdown",
      "metadata": {},
      "source": [
        "### Model Testing\n",
        "\n",
        "When we began, we separated our dataset into: training, validation and testing. Now that we built and validated our models, we should test how it performs with a new set of data. For this, we have to prepare the test data in the same way we prepared our training/validation data."
      ]
    },
    {
      "cell_type": "markdown",
      "metadata": {},
      "source": [
        "#### Preparing our test data"
      ]
    },
    {
      "cell_type": "code",
      "execution_count": 25,
      "metadata": {
        "id": "H1jEi7gkSe2r"
      },
      "outputs": [],
      "source": [
        "# Copying df\n",
        "test_std = test.copy()\n",
        "\n",
        "# Standardizing and droping old vars\n",
        "test_std['Std_Time'] = std_scaler.fit_transform(test_std['Time'].values.reshape(-1, 1))\n",
        "test_std['Std_Amount'] = std_scaler.fit_transform(test_std['Amount'].values.reshape(-1, 1))\n",
        "\n",
        "test_std.drop(['Time', 'Amount'], axis=1, inplace=True)"
      ]
    },
    {
      "cell_type": "code",
      "execution_count": 26,
      "metadata": {},
      "outputs": [
        {
          "data": {
            "text/html": [
              "<div>\n",
              "<style scoped>\n",
              "    .dataframe tbody tr th:only-of-type {\n",
              "        vertical-align: middle;\n",
              "    }\n",
              "\n",
              "    .dataframe tbody tr th {\n",
              "        vertical-align: top;\n",
              "    }\n",
              "\n",
              "    .dataframe thead th {\n",
              "        text-align: right;\n",
              "    }\n",
              "</style>\n",
              "<table border=\"1\" class=\"dataframe\">\n",
              "  <thead>\n",
              "    <tr style=\"text-align: right;\">\n",
              "      <th></th>\n",
              "      <th>Std_Time</th>\n",
              "      <th>Std_Amount</th>\n",
              "    </tr>\n",
              "  </thead>\n",
              "  <tbody>\n",
              "    <tr>\n",
              "      <th>count</th>\n",
              "      <td>4.272100e+04</td>\n",
              "      <td>4.272100e+04</td>\n",
              "    </tr>\n",
              "    <tr>\n",
              "      <th>mean</th>\n",
              "      <td>-1.346322e-16</td>\n",
              "      <td>-5.457819e-17</td>\n",
              "    </tr>\n",
              "    <tr>\n",
              "      <th>std</th>\n",
              "      <td>1.000012e+00</td>\n",
              "      <td>1.000012e+00</td>\n",
              "    </tr>\n",
              "    <tr>\n",
              "      <th>min</th>\n",
              "      <td>-1.999464e+00</td>\n",
              "      <td>-3.923252e-01</td>\n",
              "    </tr>\n",
              "    <tr>\n",
              "      <th>25%</th>\n",
              "      <td>-8.535166e-01</td>\n",
              "      <td>-3.666254e-01</td>\n",
              "    </tr>\n",
              "    <tr>\n",
              "      <th>50%</th>\n",
              "      <td>-2.148177e-01</td>\n",
              "      <td>-2.929589e-01</td>\n",
              "    </tr>\n",
              "    <tr>\n",
              "      <th>75%</th>\n",
              "      <td>9.361839e-01</td>\n",
              "      <td>-4.531107e-02</td>\n",
              "    </tr>\n",
              "    <tr>\n",
              "      <th>max</th>\n",
              "      <td>1.639155e+00</td>\n",
              "      <td>2.327265e+01</td>\n",
              "    </tr>\n",
              "  </tbody>\n",
              "</table>\n",
              "</div>"
            ],
            "text/plain": [
              "           Std_Time    Std_Amount\n",
              "count  4.272100e+04  4.272100e+04\n",
              "mean  -1.346322e-16 -5.457819e-17\n",
              "std    1.000012e+00  1.000012e+00\n",
              "min   -1.999464e+00 -3.923252e-01\n",
              "25%   -8.535166e-01 -3.666254e-01\n",
              "50%   -2.148177e-01 -2.929589e-01\n",
              "75%    9.361839e-01 -4.531107e-02\n",
              "max    1.639155e+00  2.327265e+01"
            ]
          },
          "execution_count": 26,
          "metadata": {},
          "output_type": "execute_result"
        }
      ],
      "source": [
        "# Checking new vars\n",
        "test_std[['Std_Time', 'Std_Amount']].describe()"
      ]
    },
    {
      "cell_type": "code",
      "execution_count": 27,
      "metadata": {},
      "outputs": [],
      "source": [
        "# Extracting target\n",
        "y_test = test_std['Class']\n",
        "X_test = test_std.drop('Class', axis=1)"
      ]
    },
    {
      "cell_type": "markdown",
      "metadata": {},
      "source": [
        "#### Making predictions in our test data\n"
      ]
    },
    {
      "cell_type": "code",
      "execution_count": 28,
      "metadata": {},
      "outputs": [],
      "source": [
        "# Setting seed\n",
        "np.random.seed(42)\n",
        "\n",
        "# Predicting using logistic Regression - Unbalanced\n",
        "y_pred = model.predict(X_test)\n",
        "y_proba = model.predict_proba(X_test)\n",
        "\n",
        "# Predicting using logistic Regression - Balanced\n",
        "y_pred_RUS = model_RUS.predict(X_test)\n",
        "y_proba_RUS = model_RUS.predict_proba(X_test)\n",
        "\n",
        "# Predicting using logistic Regression - Unbalanced\n",
        "y_forest_pred = forest.predict(X_test)\n",
        "y_forest_proba = forest.predict_proba(X_test)\n",
        "\n",
        "# Predicting using logistic Regression - Balanced\n",
        "y_forest_RUS_pred = forest_RUS.predict(X_test)\n",
        "y_forest_RUS_proba = forest_RUS.predict_proba(X_test)"
      ]
    },
    {
      "cell_type": "markdown",
      "metadata": {},
      "source": [
        "#### Evaluating our tests"
      ]
    },
    {
      "cell_type": "code",
      "execution_count": 29,
      "metadata": {},
      "outputs": [
        {
          "name": "stdout",
          "output_type": "stream",
          "text": [
            "Logistic Regression - Unbalanced:\n",
            "               precision    recall  f1-score   support\n",
            "\n",
            "           0     0.9993    0.9998    0.9996     42647\n",
            "           1     0.8600    0.5811    0.6935        74\n",
            "\n",
            "    accuracy                         0.9991     42721\n",
            "   macro avg     0.9296    0.7905    0.8466     42721\n",
            "weighted avg     0.9990    0.9991    0.9990     42721\n",
            "\n",
            "AUC Logistic Regression - Unbalanced: 0.7905\n",
            "\n",
            "Logistic Regression - Balanced:\n",
            "               precision    recall  f1-score   support\n",
            "\n",
            "           0     0.9998    0.9563    0.9776     42647\n",
            "           1     0.0347    0.9054    0.0669        74\n",
            "\n",
            "    accuracy                         0.9563     42721\n",
            "   macro avg     0.5173    0.9309    0.5223     42721\n",
            "weighted avg     0.9982    0.9563    0.9760     42721\n",
            "\n",
            "AUC Logistic Regression - Balanced: 0.9309\n",
            "\n",
            "Random Forest - Unbalanced:\n",
            "               precision    recall  f1-score   support\n",
            "\n",
            "           0     0.9996    1.0000    0.9998     42647\n",
            "           1     0.9655    0.7568    0.8485        74\n",
            "\n",
            "    accuracy                         0.9995     42721\n",
            "   macro avg     0.9825    0.8784    0.9241     42721\n",
            "weighted avg     0.9995    0.9995    0.9995     42721\n",
            "\n",
            "AUC Random Forest - Unbalanced: 0.8784\n",
            "\n",
            "Random Forest - Balanced:\n",
            "               precision    recall  f1-score   support\n",
            "\n",
            "           0     0.9998    0.9787    0.9891     42647\n",
            "           1     0.0667    0.8784    0.1240        74\n",
            "\n",
            "    accuracy                         0.9785     42721\n",
            "   macro avg     0.5333    0.9285    0.5566     42721\n",
            "weighted avg     0.9982    0.9785    0.9876     42721\n",
            "\n",
            "AUC Random Forest - Balanced:: 0.9285\n",
            "\n"
          ]
        }
      ],
      "source": [
        "# Calculating Area Under the ROC and Classification Reports\n",
        "print('Logistic Regression - Unbalanced:\\n', classification_report(y_test, y_pred, digits=4))\n",
        "print(\"AUC Logistic Regression - Unbalanced: {:.4f}\\n\".format(roc_auc_score(y_test, y_pred)))\n",
        "\n",
        "print('Logistic Regression - Balanced:\\n', classification_report(y_test, y_pred_RUS, digits=4))\n",
        "print(\"AUC Logistic Regression - Balanced: {:.4f}\\n\".format(roc_auc_score(y_test, y_pred_RUS)))\n",
        "\n",
        "print('Random Forest - Unbalanced:\\n', classification_report(y_test, y_forest_pred, digits=4))\n",
        "print(\"AUC Random Forest - Unbalanced: {:.4f}\\n\".format(roc_auc_score(y_test, y_forest_pred)))\n",
        "\n",
        "print('Random Forest - Balanced:\\n', classification_report(y_test, y_forest_RUS_pred, digits=4))\n",
        "print(\"AUC Random Forest - Balanced:: {:.4f}\\n\".format(roc_auc_score(y_test, y_forest_RUS_pred)))"
      ]
    },
    {
      "cell_type": "markdown",
      "metadata": {},
      "source": [
        "### Metrics summary\n",
        "\n",
        "#### Logistic Regression\n",
        "\n",
        "|                     | Unbalanced | Balanced |\n",
        "| ------------------- | ---------- | -------- |\n",
        "| Precision (class 1) | 0.86       | 0.0322   |\n",
        "| Recall (class 1)    | 0.5811     | 0.9189   |\n",
        "| Accuracy            | 0.9991     | 0.952    |\n",
        "| AUROC               | 0.7905     | 0.9355   |\n",
        "\n",
        "#### Random Forest\n",
        "\n",
        "|                     | Unbalanced | Balanced |\n",
        "| ------------------- | ---------- | -------- |\n",
        "| Precision (class 1) | 0.9655     | 0.053    |\n",
        "| Recall (class 1)    | 0.7568     | 0.8919   |\n",
        "| Accuracy            | 0.9995     | 0.9722   |\n",
        "| AUROC               | 0.8784     | 0.9321   |\n",
        "\n",
        "<br>\n",
        "\n",
        "Overall, in our test dataset, the **Logistic Regression** model performed better, except when using *unbalanced* data.\n"
      ]
    },
    {
      "cell_type": "markdown",
      "metadata": {},
      "source": [
        "### What does it mean?\n",
        "\n",
        "We have seen that we managed to obtain two overall good prediction models. What does it mean, in practice? Our model is only good when it improves reality. In credit card fraud, that would mean actually predicting and preventing credit card fraud from happening to prevent the owner and the cardholder company from losing money. \n",
        "\n",
        "We could, for example, take a look a how our model predicted the actual cases from the test set. Let us see what we have for the first 6 cases in our test data:"
      ]
    },
    {
      "cell_type": "code",
      "execution_count": 153,
      "metadata": {},
      "outputs": [
        {
          "name": "stdout",
          "output_type": "stream",
          "text": [
            "Index = 43428, Class = 1, Predicted = 1\n",
            "Index = 49906, Class = 0, Predicted = 0\n",
            "Index = 29474, Class = 0, Predicted = 0\n",
            "Index = 276481, Class = 0, Predicted = 0\n",
            "Index = 278846, Class = 0, Predicted = 0\n",
            "Index = 101565, Class = 0, Predicted = 0\n"
          ]
        }
      ],
      "source": [
        "# Getting the first 6 predictions of our model\n",
        "n = 0\n",
        "while n < 6:\n",
        "    print('Index = %s, Class = %s, Predicted = %s' % (y_test.index.values[n], y_test.iloc[n], y_forest_RUS_pred[n]))\n",
        "    n = n + 1"
      ]
    },
    {
      "cell_type": "markdown",
      "metadata": {},
      "source": [
        "We can see that for all of these cases, our model correctly predicted the outcome. However looking at it in this light would be time-consuming and unfeasible. Good practice tells us that we must align our models with **Key Performance Indicators** (KPIs) to better translate our model to the real world.\n",
        "\n",
        "#### Fraud KPIs\n",
        "\n",
        "The [Merchant Fraud Journal](https://www.merchantfraudjournal.com/fraud-prevention-kpi-for-success/) defines 7 KPIs to succesfully prevent fraud from hapenning. They are:\n",
        "\n",
        "* **Fraud Rate** = These represent fraudulent transactions that would be approved.\n",
        "* **Incoming Pressure** = All attempted transactions that were fraudulent (blocked + allowed ones).\n",
        "* **Final Approval Rate** = All approved transactions, regardless of fraud prevention decisions.\n",
        "* **Precision** = As mentioned before, this would be the percentage of frauds among the total number of declined transactions.\n",
        "* **Recall** = Also mentioned before, this is the percentage of fraudulent transactions declined which were actually frauds.\n",
        "* **Decline Rate** = All declined transactions, out of the total transactions.\n",
        "* **Good User Approval Rate** = All legitimate transactions, out of all the approved transactions.\n",
        "\n",
        "One other good thing to look at would be how much loss of money we could prevent by correctly predicting the frauds. We will call this **Preventable Money Loss**.\n",
        "\n",
        "From classifying the data and by having information as to the original status of the transcation, we are actually able to see how these KPIs would behave in case the selected model was employed to prevent credit card fraud."
      ]
    },
    {
      "cell_type": "code",
      "execution_count": 167,
      "metadata": {},
      "outputs": [
        {
          "data": {
            "text/html": [
              "<div>\n",
              "<style scoped>\n",
              "    .dataframe tbody tr th:only-of-type {\n",
              "        vertical-align: middle;\n",
              "    }\n",
              "\n",
              "    .dataframe tbody tr th {\n",
              "        vertical-align: top;\n",
              "    }\n",
              "\n",
              "    .dataframe thead th {\n",
              "        text-align: right;\n",
              "    }\n",
              "</style>\n",
              "<table border=\"1\" class=\"dataframe\">\n",
              "  <thead>\n",
              "    <tr style=\"text-align: right;\">\n",
              "      <th></th>\n",
              "      <th>index</th>\n",
              "      <th>class</th>\n",
              "      <th>predicted</th>\n",
              "      <th>amount</th>\n",
              "      <th>catch</th>\n",
              "    </tr>\n",
              "  </thead>\n",
              "  <tbody>\n",
              "    <tr>\n",
              "      <th>0</th>\n",
              "      <td>43428</td>\n",
              "      <td>1</td>\n",
              "      <td>1</td>\n",
              "      <td>364.19</td>\n",
              "      <td>Caught</td>\n",
              "    </tr>\n",
              "    <tr>\n",
              "      <th>1</th>\n",
              "      <td>49906</td>\n",
              "      <td>0</td>\n",
              "      <td>0</td>\n",
              "      <td>520.12</td>\n",
              "      <td>Passed</td>\n",
              "    </tr>\n",
              "    <tr>\n",
              "      <th>2</th>\n",
              "      <td>29474</td>\n",
              "      <td>0</td>\n",
              "      <td>0</td>\n",
              "      <td>31.00</td>\n",
              "      <td>Passed</td>\n",
              "    </tr>\n",
              "    <tr>\n",
              "      <th>3</th>\n",
              "      <td>276481</td>\n",
              "      <td>0</td>\n",
              "      <td>0</td>\n",
              "      <td>1.50</td>\n",
              "      <td>Passed</td>\n",
              "    </tr>\n",
              "    <tr>\n",
              "      <th>4</th>\n",
              "      <td>278846</td>\n",
              "      <td>0</td>\n",
              "      <td>0</td>\n",
              "      <td>0.89</td>\n",
              "      <td>Passed</td>\n",
              "    </tr>\n",
              "    <tr>\n",
              "      <th>...</th>\n",
              "      <td>...</td>\n",
              "      <td>...</td>\n",
              "      <td>...</td>\n",
              "      <td>...</td>\n",
              "      <td>...</td>\n",
              "    </tr>\n",
              "    <tr>\n",
              "      <th>42716</th>\n",
              "      <td>66350</td>\n",
              "      <td>0</td>\n",
              "      <td>0</td>\n",
              "      <td>9.99</td>\n",
              "      <td>Passed</td>\n",
              "    </tr>\n",
              "    <tr>\n",
              "      <th>42717</th>\n",
              "      <td>271232</td>\n",
              "      <td>0</td>\n",
              "      <td>0</td>\n",
              "      <td>12.99</td>\n",
              "      <td>Passed</td>\n",
              "    </tr>\n",
              "    <tr>\n",
              "      <th>42718</th>\n",
              "      <td>223138</td>\n",
              "      <td>0</td>\n",
              "      <td>0</td>\n",
              "      <td>685.32</td>\n",
              "      <td>Passed</td>\n",
              "    </tr>\n",
              "    <tr>\n",
              "      <th>42719</th>\n",
              "      <td>165170</td>\n",
              "      <td>0</td>\n",
              "      <td>0</td>\n",
              "      <td>0.92</td>\n",
              "      <td>Passed</td>\n",
              "    </tr>\n",
              "    <tr>\n",
              "      <th>42720</th>\n",
              "      <td>52948</td>\n",
              "      <td>0</td>\n",
              "      <td>0</td>\n",
              "      <td>188.26</td>\n",
              "      <td>Passed</td>\n",
              "    </tr>\n",
              "  </tbody>\n",
              "</table>\n",
              "<p>42721 rows × 5 columns</p>\n",
              "</div>"
            ],
            "text/plain": [
              "        index  class  predicted  amount   catch\n",
              "0       43428      1          1  364.19  Caught\n",
              "1       49906      0          0  520.12  Passed\n",
              "2       29474      0          0   31.00  Passed\n",
              "3      276481      0          0    1.50  Passed\n",
              "4      278846      0          0    0.89  Passed\n",
              "...       ...    ...        ...     ...     ...\n",
              "42716   66350      0          0    9.99  Passed\n",
              "42717  271232      0          0   12.99  Passed\n",
              "42718  223138      0          0  685.32  Passed\n",
              "42719  165170      0          0    0.92  Passed\n",
              "42720   52948      0          0  188.26  Passed\n",
              "\n",
              "[42721 rows x 5 columns]"
            ]
          },
          "execution_count": 167,
          "metadata": {},
          "output_type": "execute_result"
        }
      ],
      "source": [
        "## Calculating our KPIs\n",
        "\n",
        "# Joining data\n",
        "predictions = {'index': y_test.index.values,\n",
        "               'class': y_test.to_numpy(),\n",
        "               'predicted': y_forest_RUS_pred,\n",
        "               'amount': std_scaler.inverse_transform(X_test.Std_Amount.to_numpy().reshape(-1,1)).reshape(-1),\n",
        "               'catch': \"\"}\n",
        "\n",
        "# Converting to df\n",
        "predictions_df = pd.DataFrame(predictions)\n",
        "\n",
        "# Catching predicted frauds\n",
        "for i in range(predictions_df.shape[0]):\n",
        "    if predictions_df['class'][i] == 1:\n",
        "        if predictions_df['class'][i] == predictions_df['predicted'][i]:\n",
        "            predictions_df.loc[i,'catch'] = 'Caught'\n",
        "        else:\n",
        "            predictions_df.loc[i,'catch'] = 'Uncaught'\n",
        "    elif predictions_df['class'][i] == 0 and predictions_df['predicted'][i] == 1:\n",
        "        predictions_df.loc[i,'catch'] = 'Blocked'\n",
        "    else:\n",
        "        predictions_df.loc[i,'catch'] = 'Passed'    \n",
        "\n",
        "predictions_df"
      ]
    },
    {
      "cell_type": "markdown",
      "metadata": {},
      "source": [
        "Now, we have a dataframe that contains the original amount of the transaction, whether they were frauds or good transactions and how our model predicted them. We coded this in the `catch` column, as the following:\n",
        "\n",
        "* `Caught` = Frauds that were caught by our model (True Positives). Denoted as: $C$.\n",
        "* `Uncaught` = Frauds that the model was not able to caught (False Negatives). Denoted as: $U$.\n",
        "* `Blocked` = Blocked transactions that were not actual frauds (False Positives). Denoted as: $B$.\n",
        "* `Passed` = Good transactions allowed to pass by our model (True Negatives). Denoted as: $P$.\n",
        "\n",
        "The total transactions will be denoted as $n$.\n",
        "\n",
        "And based on that, how would we calculate our KPIs?\n",
        "\n",
        "* **Fraud Rate** = $ U \\over n $\n",
        "* **Incoming Pressure** = $C + U$\n",
        "* **Final Approval Rate** = $U + P \\over n$ \n",
        "* **Precision** = $C \\over C + B$ \n",
        "* **Recall** = $C \\over C + U$ \n",
        "* **Decline Rate** = $C + B \\over n$\n",
        "* **Good User Approval Rate** = $P \\over P + U$"
      ]
    },
    {
      "cell_type": "markdown",
      "metadata": {
        "id": "0Bj7zRZMSfO7"
      },
      "source": [
        "## Conclusions\n",
        "\n",
        "Here, we executed a basic analysis by using (mostly) default parameters in both machine learning classification models, the Logistic Regression and the Random Forest classifiers. However, we also compared how both models deal with unbalanced data.\n",
        "\n",
        "As for our data, we could see that there are two apparent peaks in time where the frauds occur. These peaks could be related to specific hours of the day, such as nighttime, that could provide some aditional information for our model. However, we cannot infer the time of day from the provided data as it is.\n",
        "\n",
        "Regarding our classifications, in the validation phase, we saw that the Random Forest classifier yielded better results. When we classified our test data, we found that the Logistic Regression had better results, especially by reaching over 90% precision with a balanced dataset. Nonetheless, both models had good AUROC results, and were regarded as good models to distinguish correctly between fraudulent and normal transactions.\n",
        "\n",
        "We can also observe the effect that class proportions have in the training phase of our dataset. It has been demonstrated that the Random Forest classifier provides better results when dealing with unbalanced datasets when compared to the Logistic Regression, especially by reaching higher recall rates concomitantly with high precision rates.\n",
        "\n",
        "Despite these good results, further improvement can and should be made in these models. In the future, it is important to check and fine-tune these models by changing their hyperparameters appropriately."
      ]
    }
  ],
  "metadata": {
    "colab": {
      "name": "[Template] Detecção de Fraude em Cartões de Crédito.ipynb",
      "provenance": []
    },
    "interpreter": {
      "hash": "0a7a6f8b9e12af56cfb55fbb376ef7e3df3279f8f475f9beea5c617149b07873"
    },
    "kernelspec": {
      "display_name": "Python 3.9.12 ('base')",
      "language": "python",
      "name": "python3"
    },
    "language_info": {
      "codemirror_mode": {
        "name": "ipython",
        "version": 3
      },
      "file_extension": ".py",
      "mimetype": "text/x-python",
      "name": "python",
      "nbconvert_exporter": "python",
      "pygments_lexer": "ipython3",
      "version": "3.9.12"
    }
  },
  "nbformat": 4,
  "nbformat_minor": 0
}
