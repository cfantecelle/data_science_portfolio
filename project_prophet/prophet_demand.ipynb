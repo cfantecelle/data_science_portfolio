{
  "cells": [
    {
      "attachments": {},
      "cell_type": "markdown",
      "metadata": {
        "id": "EE9X48au6Mez"
      },
      "source": [
        "<img alt=\"Colaboratory logo\" width=\"15%\" src=\"https://raw.githubusercontent.com/carlosfab/escola-data-science/master/img/novo_logo_bg_claro.png\">\n",
        "\n",
        "#### **Data Science na Prática 3.0**\n",
        "\n",
        "\n",
        "---"
      ]
    },
    {
      "attachments": {},
      "cell_type": "markdown",
      "metadata": {},
      "source": [
        "# Wine demand prediction\n",
        "\n",
        "Wine is, without a doubt, one of the most popular alcoholic beverages in the world. Although scientists are still unsure about the benefits of wine, the idea that having \"one glass of wine a day\" can help prevent heart attacks is somewhat widespread in society<sup><a href=\"https://www.mayoclinic.org/diseases-conditions/heart-disease/in-depth/red-wine/art-20048281\">1</a></sup>. Moreover, the wine industry was one of the many things the COVID-19 pandemic had an impact on, with wine sales (especially online) spiking over 500% at the peak period of lockdown in April 2020<sup><a href=\"https://www.forbes.com/sites/joemicallef/2021/06/22/how-post-pandemic-wine-consumption-trends-are-shaping--demand/\">2</a></sup>. Without such an atypical reason for this rise sales, specialized wine stores might be able to predict their sales demand given that they have enough data on their sales over time.\n",
        "\n",
        "<p align=center>\n",
        "<img src=\"img/wine.jpg\" width=\"40%\"><br>\n",
        "<i><sup>Image credits: wavebreakmedia-micro @ <a href=\"https://www.freepik.com/free-photo/glass-red-wine-bottle-bar-counter_8405671.htm\">freepik</a>.</sup></i>\n",
        "</p>\n",
        "\n",
        "Such a representation of data is called a Time Series, and reflects a specific sequence of values measured along successive evenly spaced time points<sup><a href=\"https://en.wikipedia.org/wiki/Time_series\">3</a></sup>. Predictions on Time Series — called **Time Series Forecasting** — is a form of *extrapolating* values in the future by leveraging previous data of interest and requires a specific methodology.\n",
        "\n",
        "In this notebook, we will be predicting wine sales demand using [Facebook's Prophet](https://facebook.github.io/prophet/). Similar to PyCaret, Prophet is a low-code library that provides a strategy for working with time series forecasting based on an additive model that even takes into consideration holiday effects. It is also robust to missing data points and trend shifts, as well as able to handle outliers<sup><a href=\"https://facebook.github.io/prophet/\">4</a></sup>.\n",
        "\n",
        "\n",
        "## Demand forecasting and why it is important\n",
        "\n",
        "**Demand forecasting** is, essentially, predicting the demand for products/materials that meet the company's needs, allowing for the maintenance of an optimal profit margin. It is constructed upon studying patterns in market dynamics, cause-effect relationships and trends of sales. And because changes constantly affect businesses, demand prediction becomes important from them<sup><a href=\"https://startup.info/why-demand-forecasting-is-important/\">5</a></sup>.\n",
        "\n",
        "Several factors can determine demand<sup><a href=\"https://byjus.com/commerce/demand/\">6</sup></a>, such as the product costs, the consumers' incomes, the cost of related goods and services, consumer expectations well as the number of buyers in the market. All of these can be taken into account when trying to understand a particular product's demand.\n",
        "\n",
        "On the other hand, **demand planning** is the process in which the business prepares itself for the *foreseeable* future, based on the forecast being made. With this, companies are able to stimulate consumer demand while also allowing the company to effectively meet the growing demand<sup><a href=\"https://startup.info/why-demand-forecasting-is-important/\">5</a></sup>.\n",
        "\n",
        "There are several benefits to be gained from time-series forecasting:\n",
        "\n",
        "* **Price setting:** Predicting product popularity (or a lack thereof) allows for price adjustment (and setting up sales) which can have a great impact on revenue.\n",
        "* **Budget:** Forecasting demand allows you to estimate the company budget, enabling you to reduce risk and make financial decisions, such as reallocating resources.\n",
        "* **Improved supply infrastructure**: Knowing the business' demands allows for better control of inventory, of personnel needed.\n",
        "* **Reducing uncertainty**: Uncertainty makes decision-making much more difficult, and knowing what to expect can reduce this impact and allow better planning.\n",
        "\n",
        "Now that we have discussed this, let's dive in.\n",
        "\n",
        "# The Data\n",
        "\n",
        "The dataset used in the project today was a synthetic dataset created by Rafael at [Sigmoidal](https://sigmoidal.ai). It consists of a dataset from Kaggle which was modified to have 3 years of daily sales, distributed by 3 stores and 219 different products (modified from 5 years of daily sales, from 10 stores and 50 products). \n",
        "\n",
        "The products, though, are real and based on a real e-commerce offer of wines. Names, crops and prices are 100% real (in BRL and converted to USD). Some of the products might have appeared in the real market after a given start in sales for that product (for example, a wine from a 2015 crop started being sold in 2013, which makes no sense), but this is just the artifact of this artificial dataset. This might also be reflected in other unexpected characteristics like the trend in sales for a wine that is not very popular, for example.\n",
        "\n",
        "From the products sheet, we will have the following variables:\n",
        "\n",
        "* **item_id** = Item identification number.\n",
        "* **name** = Name of the Wine.\n",
        "* **producer** = Name of the Wine producer.\n",
        "* **country** = Country of origin.\n",
        "* **vintage** = The wine's vintage/harvest.\n",
        "* **kind** = The type of wine.\n",
        "* **price_brl** = Price in Brazilian Reais.\n",
        "* **price_usd** = Price in US dollars.\n",
        "\n",
        "While from the sales data we will have:\n",
        "\n",
        "* **date** = The date of sale.\n",
        "* **store** = The store that sold the item.\n",
        "* **item** = The item that was sold.\n",
        "* **sales** = The number of said items that were sold.\n",
        "\n",
        "So, let's import our packages and prepare our data."
      ]
    },
    {
      "cell_type": "code",
      "execution_count": 51,
      "metadata": {},
      "outputs": [],
      "source": [
        "# Importing libraries\n",
        "import pandas as pd\n",
        "import numpy as np\n",
        "import matplotlib.pyplot as plt\n",
        "import seaborn as sns\n",
        "from pywaffle import Waffle\n",
        "from prophet import Prophet\n",
        "\n",
        "\n",
        "# Getting the data\n",
        "df_prod = pd.read_csv(\"data/products.csv\")\n",
        "df_sale = pd.read_csv(\"data/sales-clean.csv\")\n",
        "\n",
        "# The Moon also rises\n",
        "np.random.seed(6327)\n",
        "\n",
        "# Defining plot parameters\n",
        "# plt.style.use('dark_background')\n",
        "plt.rcParams['font.family'] = 'sans-serif'\n",
        "plt.rcParams['font.sans-serif'] = 'Arial'\n",
        "plt.rcParams['font.stretch'] = 'normal'\n",
        "plt.rcParams['font.style'] = 'normal'\n",
        "plt.rcParams['font.variant'] = 'normal'\n",
        "plt.style.use('ggplot')"
      ]
    },
    {
      "cell_type": "code",
      "execution_count": 52,
      "metadata": {},
      "outputs": [
        {
          "data": {
            "text/html": [
              "<div>\n",
              "<style scoped>\n",
              "    .dataframe tbody tr th:only-of-type {\n",
              "        vertical-align: middle;\n",
              "    }\n",
              "\n",
              "    .dataframe tbody tr th {\n",
              "        vertical-align: top;\n",
              "    }\n",
              "\n",
              "    .dataframe thead th {\n",
              "        text-align: right;\n",
              "    }\n",
              "</style>\n",
              "<table border=\"1\" class=\"dataframe\">\n",
              "  <thead>\n",
              "    <tr style=\"text-align: right;\">\n",
              "      <th></th>\n",
              "      <th>item_id</th>\n",
              "      <th>name</th>\n",
              "      <th>producer</th>\n",
              "      <th>country</th>\n",
              "      <th>region</th>\n",
              "      <th>vintage</th>\n",
              "      <th>kind</th>\n",
              "      <th>price_brl</th>\n",
              "      <th>price_usd</th>\n",
              "    </tr>\n",
              "  </thead>\n",
              "  <tbody>\n",
              "    <tr>\n",
              "      <th>0</th>\n",
              "      <td>1</td>\n",
              "      <td>Philipponnat Royale Reserve Brut</td>\n",
              "      <td>Philipponat</td>\n",
              "      <td>France</td>\n",
              "      <td>Champagne</td>\n",
              "      <td>NV</td>\n",
              "      <td>sparkling</td>\n",
              "      <td>339.60</td>\n",
              "      <td>58.75</td>\n",
              "    </tr>\n",
              "    <tr>\n",
              "      <th>1</th>\n",
              "      <td>2</td>\n",
              "      <td>Philipponnat Royale Reserve Rosé</td>\n",
              "      <td>Philipponat</td>\n",
              "      <td>France</td>\n",
              "      <td>Champagne</td>\n",
              "      <td>NV</td>\n",
              "      <td>rose sparkling</td>\n",
              "      <td>489.00</td>\n",
              "      <td>84.60</td>\n",
              "    </tr>\n",
              "    <tr>\n",
              "      <th>2</th>\n",
              "      <td>3</td>\n",
              "      <td>Philipponnat Cuvée 1522 Grand Cru Extra Brut</td>\n",
              "      <td>Philipponat</td>\n",
              "      <td>France</td>\n",
              "      <td>Champagne</td>\n",
              "      <td>2009</td>\n",
              "      <td>sparkling</td>\n",
              "      <td>789.00</td>\n",
              "      <td>136.51</td>\n",
              "    </tr>\n",
              "    <tr>\n",
              "      <th>3</th>\n",
              "      <td>4</td>\n",
              "      <td>Philipponnat Cuvée 1522 1er Cru Rosé</td>\n",
              "      <td>Philipponat</td>\n",
              "      <td>France</td>\n",
              "      <td>Champagne</td>\n",
              "      <td>2008</td>\n",
              "      <td>rose sparkling</td>\n",
              "      <td>899.40</td>\n",
              "      <td>155.61</td>\n",
              "    </tr>\n",
              "    <tr>\n",
              "      <th>4</th>\n",
              "      <td>5</td>\n",
              "      <td>Philipponnat Clos Des Goisses Brut</td>\n",
              "      <td>Philipponat</td>\n",
              "      <td>France</td>\n",
              "      <td>Champagne</td>\n",
              "      <td>2009</td>\n",
              "      <td>sparkling</td>\n",
              "      <td>1,548.00</td>\n",
              "      <td>267.82</td>\n",
              "    </tr>\n",
              "  </tbody>\n",
              "</table>\n",
              "</div>"
            ],
            "text/plain": [
              "   item_id                                          name     producer country  \\\n",
              "0        1              Philipponnat Royale Reserve Brut  Philipponat  France   \n",
              "1        2              Philipponnat Royale Reserve Rosé  Philipponat  France   \n",
              "2        3  Philipponnat Cuvée 1522 Grand Cru Extra Brut  Philipponat  France   \n",
              "3        4          Philipponnat Cuvée 1522 1er Cru Rosé  Philipponat  France   \n",
              "4        5            Philipponnat Clos Des Goisses Brut  Philipponat  France   \n",
              "\n",
              "      region vintage            kind price_brl price_usd  \n",
              "0  Champagne      NV       sparkling    339.60     58.75  \n",
              "1  Champagne      NV  rose sparkling    489.00     84.60  \n",
              "2  Champagne    2009       sparkling    789.00    136.51  \n",
              "3  Champagne    2008  rose sparkling    899.40    155.61  \n",
              "4  Champagne    2009       sparkling  1,548.00    267.82  "
            ]
          },
          "execution_count": 52,
          "metadata": {},
          "output_type": "execute_result"
        }
      ],
      "source": [
        "# Seeing first entries of products dataset\n",
        "df_prod.head()"
      ]
    },
    {
      "cell_type": "code",
      "execution_count": 53,
      "metadata": {},
      "outputs": [
        {
          "data": {
            "text/html": [
              "<div>\n",
              "<style scoped>\n",
              "    .dataframe tbody tr th:only-of-type {\n",
              "        vertical-align: middle;\n",
              "    }\n",
              "\n",
              "    .dataframe tbody tr th {\n",
              "        vertical-align: top;\n",
              "    }\n",
              "\n",
              "    .dataframe thead th {\n",
              "        text-align: right;\n",
              "    }\n",
              "</style>\n",
              "<table border=\"1\" class=\"dataframe\">\n",
              "  <thead>\n",
              "    <tr style=\"text-align: right;\">\n",
              "      <th></th>\n",
              "      <th>date</th>\n",
              "      <th>store</th>\n",
              "      <th>item</th>\n",
              "      <th>sales</th>\n",
              "    </tr>\n",
              "  </thead>\n",
              "  <tbody>\n",
              "    <tr>\n",
              "      <th>0</th>\n",
              "      <td>2018-01-01</td>\n",
              "      <td>1</td>\n",
              "      <td>1</td>\n",
              "      <td>13</td>\n",
              "    </tr>\n",
              "    <tr>\n",
              "      <th>1</th>\n",
              "      <td>2018-01-02</td>\n",
              "      <td>1</td>\n",
              "      <td>1</td>\n",
              "      <td>11</td>\n",
              "    </tr>\n",
              "    <tr>\n",
              "      <th>2</th>\n",
              "      <td>2018-01-03</td>\n",
              "      <td>1</td>\n",
              "      <td>1</td>\n",
              "      <td>14</td>\n",
              "    </tr>\n",
              "    <tr>\n",
              "      <th>3</th>\n",
              "      <td>2018-01-04</td>\n",
              "      <td>1</td>\n",
              "      <td>1</td>\n",
              "      <td>13</td>\n",
              "    </tr>\n",
              "    <tr>\n",
              "      <th>4</th>\n",
              "      <td>2018-01-05</td>\n",
              "      <td>1</td>\n",
              "      <td>1</td>\n",
              "      <td>10</td>\n",
              "    </tr>\n",
              "  </tbody>\n",
              "</table>\n",
              "</div>"
            ],
            "text/plain": [
              "         date  store  item  sales\n",
              "0  2018-01-01      1     1     13\n",
              "1  2018-01-02      1     1     11\n",
              "2  2018-01-03      1     1     14\n",
              "3  2018-01-04      1     1     13\n",
              "4  2018-01-05      1     1     10"
            ]
          },
          "execution_count": 53,
          "metadata": {},
          "output_type": "execute_result"
        }
      ],
      "source": [
        "# Seeing first entries of sales dataset\n",
        "df_sale.head()"
      ]
    },
    {
      "attachments": {},
      "cell_type": "markdown",
      "metadata": {},
      "source": [
        "### Preparing the data\n",
        "\n",
        "One of the first things that we see is that the prices have commas (,) in the numbers, which should not be present in numerical data. Let's go ahead and check all our data variables."
      ]
    },
    {
      "cell_type": "code",
      "execution_count": 54,
      "metadata": {},
      "outputs": [
        {
          "name": "stdout",
          "output_type": "stream",
          "text": [
            "<class 'pandas.core.frame.DataFrame'>\n",
            "RangeIndex: 219 entries, 0 to 218\n",
            "Data columns (total 9 columns):\n",
            " #   Column     Non-Null Count  Dtype \n",
            "---  ------     --------------  ----- \n",
            " 0   item_id    219 non-null    int64 \n",
            " 1   name       219 non-null    object\n",
            " 2   producer   219 non-null    object\n",
            " 3   country    219 non-null    object\n",
            " 4   region     219 non-null    object\n",
            " 5   vintage    219 non-null    object\n",
            " 6   kind       219 non-null    object\n",
            " 7   price_brl  219 non-null    object\n",
            " 8   price_usd  219 non-null    object\n",
            "dtypes: int64(1), object(8)\n",
            "memory usage: 15.5+ KB\n"
          ]
        }
      ],
      "source": [
        "# Checking columns from data\n",
        "df_prod.info()"
      ]
    },
    {
      "attachments": {},
      "cell_type": "markdown",
      "metadata": {},
      "source": [
        "Both price columns seem to have text instead of numbers, while the IDs of the items are set as numbers, so we go ahead and fix that. The vintage column also contains text (\"NV\" entry) which we will change to 0 to keep the column numeric."
      ]
    },
    {
      "cell_type": "code",
      "execution_count": 55,
      "metadata": {},
      "outputs": [],
      "source": [
        "# Fixing numbers (removing ,)\n",
        "df_prod.replace(',', '', regex=True, inplace=True)\n",
        "\n",
        "# Fixing types\n",
        "df_prod.item_id = df_prod.item_id.astype(str)\n",
        "df_prod.price_brl = pd.to_numeric(df_prod.price_brl)\n",
        "df_prod.price_usd = pd.to_numeric(df_prod.price_usd)\n",
        "\n"
      ]
    },
    {
      "cell_type": "code",
      "execution_count": 56,
      "metadata": {},
      "outputs": [],
      "source": [
        "# Fixing vintage column\n",
        "df_prod.vintage.replace('NV', '0', inplace=True)\n",
        "df_prod.vintage = pd.to_numeric(df_prod.vintage)"
      ]
    },
    {
      "cell_type": "code",
      "execution_count": 57,
      "metadata": {},
      "outputs": [
        {
          "data": {
            "text/html": [
              "<div>\n",
              "<style scoped>\n",
              "    .dataframe tbody tr th:only-of-type {\n",
              "        vertical-align: middle;\n",
              "    }\n",
              "\n",
              "    .dataframe tbody tr th {\n",
              "        vertical-align: top;\n",
              "    }\n",
              "\n",
              "    .dataframe thead th {\n",
              "        text-align: right;\n",
              "    }\n",
              "</style>\n",
              "<table border=\"1\" class=\"dataframe\">\n",
              "  <thead>\n",
              "    <tr style=\"text-align: right;\">\n",
              "      <th></th>\n",
              "      <th>item_id</th>\n",
              "      <th>name</th>\n",
              "      <th>producer</th>\n",
              "      <th>country</th>\n",
              "      <th>region</th>\n",
              "      <th>vintage</th>\n",
              "      <th>kind</th>\n",
              "      <th>price_brl</th>\n",
              "      <th>price_usd</th>\n",
              "    </tr>\n",
              "  </thead>\n",
              "  <tbody>\n",
              "    <tr>\n",
              "      <th>0</th>\n",
              "      <td>1</td>\n",
              "      <td>Philipponnat Royale Reserve Brut</td>\n",
              "      <td>Philipponat</td>\n",
              "      <td>France</td>\n",
              "      <td>Champagne</td>\n",
              "      <td>0</td>\n",
              "      <td>sparkling</td>\n",
              "      <td>339.6</td>\n",
              "      <td>58.75</td>\n",
              "    </tr>\n",
              "    <tr>\n",
              "      <th>1</th>\n",
              "      <td>2</td>\n",
              "      <td>Philipponnat Royale Reserve Rosé</td>\n",
              "      <td>Philipponat</td>\n",
              "      <td>France</td>\n",
              "      <td>Champagne</td>\n",
              "      <td>0</td>\n",
              "      <td>rose sparkling</td>\n",
              "      <td>489.0</td>\n",
              "      <td>84.60</td>\n",
              "    </tr>\n",
              "    <tr>\n",
              "      <th>2</th>\n",
              "      <td>3</td>\n",
              "      <td>Philipponnat Cuvée 1522 Grand Cru Extra Brut</td>\n",
              "      <td>Philipponat</td>\n",
              "      <td>France</td>\n",
              "      <td>Champagne</td>\n",
              "      <td>2009</td>\n",
              "      <td>sparkling</td>\n",
              "      <td>789.0</td>\n",
              "      <td>136.51</td>\n",
              "    </tr>\n",
              "    <tr>\n",
              "      <th>3</th>\n",
              "      <td>4</td>\n",
              "      <td>Philipponnat Cuvée 1522 1er Cru Rosé</td>\n",
              "      <td>Philipponat</td>\n",
              "      <td>France</td>\n",
              "      <td>Champagne</td>\n",
              "      <td>2008</td>\n",
              "      <td>rose sparkling</td>\n",
              "      <td>899.4</td>\n",
              "      <td>155.61</td>\n",
              "    </tr>\n",
              "    <tr>\n",
              "      <th>4</th>\n",
              "      <td>5</td>\n",
              "      <td>Philipponnat Clos Des Goisses Brut</td>\n",
              "      <td>Philipponat</td>\n",
              "      <td>France</td>\n",
              "      <td>Champagne</td>\n",
              "      <td>2009</td>\n",
              "      <td>sparkling</td>\n",
              "      <td>1548.0</td>\n",
              "      <td>267.82</td>\n",
              "    </tr>\n",
              "  </tbody>\n",
              "</table>\n",
              "</div>"
            ],
            "text/plain": [
              "  item_id                                          name     producer country  \\\n",
              "0       1              Philipponnat Royale Reserve Brut  Philipponat  France   \n",
              "1       2              Philipponnat Royale Reserve Rosé  Philipponat  France   \n",
              "2       3  Philipponnat Cuvée 1522 Grand Cru Extra Brut  Philipponat  France   \n",
              "3       4          Philipponnat Cuvée 1522 1er Cru Rosé  Philipponat  France   \n",
              "4       5            Philipponnat Clos Des Goisses Brut  Philipponat  France   \n",
              "\n",
              "      region  vintage            kind  price_brl  price_usd  \n",
              "0  Champagne        0       sparkling      339.6      58.75  \n",
              "1  Champagne        0  rose sparkling      489.0      84.60  \n",
              "2  Champagne     2009       sparkling      789.0     136.51  \n",
              "3  Champagne     2008  rose sparkling      899.4     155.61  \n",
              "4  Champagne     2009       sparkling     1548.0     267.82  "
            ]
          },
          "execution_count": 57,
          "metadata": {},
          "output_type": "execute_result"
        }
      ],
      "source": [
        "# Checking\n",
        "df_prod.head()"
      ]
    },
    {
      "cell_type": "code",
      "execution_count": 58,
      "metadata": {},
      "outputs": [
        {
          "name": "stdout",
          "output_type": "stream",
          "text": [
            "<class 'pandas.core.frame.DataFrame'>\n",
            "RangeIndex: 219 entries, 0 to 218\n",
            "Data columns (total 9 columns):\n",
            " #   Column     Non-Null Count  Dtype  \n",
            "---  ------     --------------  -----  \n",
            " 0   item_id    219 non-null    object \n",
            " 1   name       219 non-null    object \n",
            " 2   producer   219 non-null    object \n",
            " 3   country    219 non-null    object \n",
            " 4   region     219 non-null    object \n",
            " 5   vintage    219 non-null    int64  \n",
            " 6   kind       219 non-null    object \n",
            " 7   price_brl  219 non-null    float64\n",
            " 8   price_usd  219 non-null    float64\n",
            "dtypes: float64(2), int64(1), object(6)\n",
            "memory usage: 15.5+ KB\n"
          ]
        }
      ],
      "source": [
        "# Checking types\n",
        "df_prod.info()"
      ]
    },
    {
      "attachments": {},
      "cell_type": "markdown",
      "metadata": {},
      "source": [
        "### Getting to know our dataset\n",
        "\n",
        "But what about the products we are studying? Let's see what are the main features of our data."
      ]
    },
    {
      "cell_type": "code",
      "execution_count": 59,
      "metadata": {},
      "outputs": [
        {
          "name": "stdout",
          "output_type": "stream",
          "text": [
            "Number of types of wine:  188\n",
            "Number of different producers:  58\n",
            "Number of different countries:  6\n",
            "Number of different regions:  21\n",
            "Number of different types:  5\n",
            "Number of vintages: 17\n",
            "Price range (BRL): 52.8 — 10992.0\n",
            "Price range (USD): 9.13 — 1901.73\n"
          ]
        }
      ],
      "source": [
        "# Printing info\n",
        "print('Number of types of wine: ', len(df_prod.name.unique()))\n",
        "print('Number of different producers: ', len(df_prod.producer.unique()))\n",
        "print('Number of different countries: ', len(df_prod.country.unique()))\n",
        "print('Number of different regions: ', len(df_prod.region.unique()))\n",
        "print('Number of different types: ', len(df_prod.kind.unique()))\n",
        "print('Number of vintages:', len(df_prod.vintage.unique()))\n",
        "print('Price range (BRL):', min(df_prod.price_brl), '—', max(df_prod.price_brl))\n",
        "print('Price range (USD):', min(df_prod.price_usd), '—', max(df_prod.price_usd))\n"
      ]
    },
    {
      "attachments": {},
      "cell_type": "markdown",
      "metadata": {},
      "source": [
        "Even though this dataset was adapted to a smaller size, we can still see that we have a good range of products spanning a good price range as well. Diversity of price and options are essential for maintaining the sales and reaching every niche of wine enthusiasts. \n",
        "\n",
        "Let's see which are the most expensive and the cheapest wines available in our data."
      ]
    },
    {
      "cell_type": "code",
      "execution_count": 67,
      "metadata": {},
      "outputs": [
        {
          "data": {
            "image/png": "[encoded data removed]",
            "text/plain": [
              "<Figure size 1080x360 with 1 Axes>"
            ]
          },
          "metadata": {},
          "output_type": "display_data"
        }
      ],
      "source": [
        "# Most expensive wines\n",
        "fig, ax = plt.subplots(figsize=(15,5))\n",
        "sns.barplot(x=df_prod.name, y=df_prod.price_usd, order=df_prod.sort_values('price_usd', ascending=False).name.iloc[0:10]);\n",
        "ax.tick_params(rotation=90)"
      ]
    },
    {
      "cell_type": "code",
      "execution_count": 69,
      "metadata": {},
      "outputs": [
        {
          "data": {
            "image/png": "[encoded data removed]",
            "text/plain": [
              "<Figure size 1080x360 with 1 Axes>"
            ]
          },
          "metadata": {},
          "output_type": "display_data"
        }
      ],
      "source": [
        "# Cheapest wines\n",
        "fig, ax = plt.subplots(figsize=(15,5))\n",
        "sns.barplot(x=df_prod.name, y=df_prod.price_usd, order=df_prod.sort_values('price_usd', ascending=True).name.iloc[0:10]);\n",
        "ax.tick_params(rotation=90)"
      ]
    },
    {
      "attachments": {},
      "cell_type": "markdown",
      "metadata": {},
      "source": []
    },
    {
      "attachments": {},
      "cell_type": "markdown",
      "metadata": {},
      "source": [
        "## References\n",
        "\n",
        "1: https://www.mayoclinic.org/diseases-conditions/heart-disease/in-depth/red-wine/art-20048281\n",
        "\n",
        "2: https://www.forbes.com/sites/joemicallef/2021/06/22/how-post-pandemic-wine-consumption-trends-are-shaping--demand/?sh=6fa845857fe9\n",
        "\n",
        "3: https://en.wikipedia.org/wiki/Time_series\n",
        "\n",
        "4: https://facebook.github.io/prophet/\n",
        "\n",
        "5: https://startup.info/why-demand-forecasting-is-important/"
      ]
    }
  ],
  "metadata": {
    "colab": {
      "collapsed_sections": [],
      "name": " [PROJETO] Previsão de Demanda com Prophet",
      "provenance": []
    },
    "kernelspec": {
      "display_name": "Python 3.9.13 ('base')",
      "language": "python",
      "name": "python3"
    },
    "language_info": {
      "codemirror_mode": {
        "name": "ipython",
        "version": 3
      },
      "file_extension": ".py",
      "mimetype": "text/x-python",
      "name": "python",
      "nbconvert_exporter": "python",
      "pygments_lexer": "ipython3",
      "version": "3.9.7"
    },
    "vscode": {
      "interpreter": {
        "hash": "8e76f8642360a3358ab06c318ab18c1161224eb3836609d5c16edea6f6e43dba"
      }
    }
  },
  "nbformat": 4,
  "nbformat_minor": 0
}
