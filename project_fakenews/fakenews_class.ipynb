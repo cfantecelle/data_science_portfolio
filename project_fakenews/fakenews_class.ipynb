{
 "cells": [
  {
   "cell_type": "markdown",
   "metadata": {},
   "source": [
    "---\n",
    "<img alt=\"Colaboratory logo\" width=\"15%\" src=\"https://raw.githubusercontent.com/carlosfab/escola-data-science/master/img/novo_logo_bg_claro.png\">\n",
    "\n",
    "#### **Data Science na Prática 3.0**\n",
    "*by [sigmoidal.ai](https://sigmoidal.ai)*  \n",
    "\n",
    "---"
   ]
  },
  {
   "cell_type": "markdown",
   "metadata": {},
   "source": [
    "# Fake News Classifier\n",
    "\n",
    "With humanity's technological advancement, news began to spread easier and faster. Day by day we are stormed with information, including news articles. Those news can be sent from one person to another, just by using their smartphones. Eventually, the spread of misinformation became more and more common. Fake news, _i.e._ pieces of information that do not accurately represent reality (events, opinions, or facts) in any way, can spread like wildfire.\n",
    "\n",
    "<p align=center>\n",
    "<img src=\"img/fk.jpg\" width=\"40%\"><br>\n",
    "<i><sup>Image credits: vectorjuice @ <a href=\"https://www.freepik.com/author/vectorjuice\">freepik</a>.</sup></i>\n",
    "</p>\n",
    "\n",
    "We are inclined to assume that particularly famous news companies — or even a close friend — are trustworthy sources, and thus we are susceptible to believing that what is being shared with us by these sources is true. This in turn can increase the spread of misinformation, and it can possess detrimental outcomes in several social and political scenarios. Thus, it has become increasingly important to be able to discern the truth from the lies.\n",
    "\n",
    "## The project\n",
    "\n",
    "Identifying fake news is no easy task. However, several tools available today can use text data to predict whether or not it represents the truth. Some of these tools are deep-learning ***Neural Networks***, which make this task easier. Our goal here will be to employ these neural networks through the **Tensorflow** library.\n",
    "\n",
    "For our project, we are going to use the fake news dataset made available at [Kaggle](https://www.kaggle.com/competitions/fake-news/data)."
   ]
  },
  {
   "cell_type": "markdown",
   "metadata": {},
   "source": [
    "## Data preparation\n",
    "\n",
    "### Importing packages"
   ]
  },
  {
   "cell_type": "code",
   "execution_count": 4,
   "metadata": {},
   "outputs": [],
   "source": [
    "# Importing packages\n",
    "import pandas as pd\n",
    "import numpy as np\n",
    "import matplotlib.pyplot as plt\n",
    "import seaborn as sns\n",
    "import tensorflow as tf\n",
    "from tensorflow import keras\n",
    "from sklearn.model_selection import train_test_split\n",
    "\n",
    "# Setting seed\n",
    "np.random.seed(6327)\n",
    "\n",
    "# # Filter warnings\n",
    "# import warnings\n",
    "# warnings.filterwarnings('ignore')"
   ]
  },
  {
   "cell_type": "markdown",
   "metadata": {},
   "source": [
    "### Importing and checking the data"
   ]
  },
  {
   "cell_type": "code",
   "execution_count": 5,
   "metadata": {},
   "outputs": [],
   "source": [
    "# Reading data\n",
    "df = pd.read_csv(\"data/train.csv\", index_col='id')"
   ]
  },
  {
   "cell_type": "code",
   "execution_count": 6,
   "metadata": {},
   "outputs": [
    {
     "name": "stdout",
     "output_type": "stream",
     "text": [
      "(20800, 4)\n"
     ]
    },
    {
     "data": {
      "text/html": [
       "<div>\n",
       "<style scoped>\n",
       "    .dataframe tbody tr th:only-of-type {\n",
       "        vertical-align: middle;\n",
       "    }\n",
       "\n",
       "    .dataframe tbody tr th {\n",
       "        vertical-align: top;\n",
       "    }\n",
       "\n",
       "    .dataframe thead th {\n",
       "        text-align: right;\n",
       "    }\n",
       "</style>\n",
       "<table border=\"1\" class=\"dataframe\">\n",
       "  <thead>\n",
       "    <tr style=\"text-align: right;\">\n",
       "      <th></th>\n",
       "      <th>title</th>\n",
       "      <th>author</th>\n",
       "      <th>text</th>\n",
       "      <th>label</th>\n",
       "    </tr>\n",
       "    <tr>\n",
       "      <th>id</th>\n",
       "      <th></th>\n",
       "      <th></th>\n",
       "      <th></th>\n",
       "      <th></th>\n",
       "    </tr>\n",
       "  </thead>\n",
       "  <tbody>\n",
       "    <tr>\n",
       "      <th>0</th>\n",
       "      <td>House Dem Aide: We Didn’t Even See Comey’s Let...</td>\n",
       "      <td>Darrell Lucus</td>\n",
       "      <td>House Dem Aide: We Didn’t Even See Comey’s Let...</td>\n",
       "      <td>1</td>\n",
       "    </tr>\n",
       "    <tr>\n",
       "      <th>1</th>\n",
       "      <td>FLYNN: Hillary Clinton, Big Woman on Campus - ...</td>\n",
       "      <td>Daniel J. Flynn</td>\n",
       "      <td>Ever get the feeling your life circles the rou...</td>\n",
       "      <td>0</td>\n",
       "    </tr>\n",
       "    <tr>\n",
       "      <th>2</th>\n",
       "      <td>Why the Truth Might Get You Fired</td>\n",
       "      <td>Consortiumnews.com</td>\n",
       "      <td>Why the Truth Might Get You Fired October 29, ...</td>\n",
       "      <td>1</td>\n",
       "    </tr>\n",
       "    <tr>\n",
       "      <th>3</th>\n",
       "      <td>15 Civilians Killed In Single US Airstrike Hav...</td>\n",
       "      <td>Jessica Purkiss</td>\n",
       "      <td>Videos 15 Civilians Killed In Single US Airstr...</td>\n",
       "      <td>1</td>\n",
       "    </tr>\n",
       "    <tr>\n",
       "      <th>4</th>\n",
       "      <td>Iranian woman jailed for fictional unpublished...</td>\n",
       "      <td>Howard Portnoy</td>\n",
       "      <td>Print \\nAn Iranian woman has been sentenced to...</td>\n",
       "      <td>1</td>\n",
       "    </tr>\n",
       "  </tbody>\n",
       "</table>\n",
       "</div>"
      ],
      "text/plain": [
       "                                                title              author  \\\n",
       "id                                                                          \n",
       "0   House Dem Aide: We Didn’t Even See Comey’s Let...       Darrell Lucus   \n",
       "1   FLYNN: Hillary Clinton, Big Woman on Campus - ...     Daniel J. Flynn   \n",
       "2                   Why the Truth Might Get You Fired  Consortiumnews.com   \n",
       "3   15 Civilians Killed In Single US Airstrike Hav...     Jessica Purkiss   \n",
       "4   Iranian woman jailed for fictional unpublished...      Howard Portnoy   \n",
       "\n",
       "                                                 text  label  \n",
       "id                                                            \n",
       "0   House Dem Aide: We Didn’t Even See Comey’s Let...      1  \n",
       "1   Ever get the feeling your life circles the rou...      0  \n",
       "2   Why the Truth Might Get You Fired October 29, ...      1  \n",
       "3   Videos 15 Civilians Killed In Single US Airstr...      1  \n",
       "4   Print \\nAn Iranian woman has been sentenced to...      1  "
      ]
     },
     "execution_count": 6,
     "metadata": {},
     "output_type": "execute_result"
    }
   ],
   "source": [
    "# Checking first entries\n",
    "print(df.shape)\n",
    "df.head()"
   ]
  },
  {
   "cell_type": "markdown",
   "metadata": {},
   "source": [
    "We have a dataset with 20,800 entries and 4 variables:\n",
    "\n",
    "* `title` = Composed by the title of the news article.\n",
    "* `author` = Who wrote the article.\n",
    "* `text` = The actual body of the news article.\n",
    "* `label` = Whether or not the news was likely to be false (1 = Fake News).\n",
    "\n",
    "Now, we can proceed to adjust the data in order to create our deep learning model."
   ]
  },
  {
   "cell_type": "markdown",
   "metadata": {},
   "source": [
    "### Preparing text data\n",
    "\n",
    "Since we are dealing with `strings`, i.e. text data, in natural language form we must apply some *Natural Language Processing* (NLP) principles so that we can successfully use our data to predict fake news and obtain the best results.\n",
    "\n",
    "The first step is to convert all our text to lowercase and strip our text of all punctuation markers."
   ]
  },
  {
   "cell_type": "code",
   "execution_count": 7,
   "metadata": {},
   "outputs": [],
   "source": [
    "# Creating a function to prepare entries\n",
    "import string\n",
    "\n",
    "def cleanText(text):\n",
    "    \"\"\"\n",
    "    Clean a string of all punctuation characters.\n",
    "    \"\"\"\n",
    "    # Splitting incoming data into separate words\n",
    "    words = str(text).split()\n",
    "    # Switching to lowercase and adding \" \"\n",
    "    words = [i.lower() + \" \" for i in words]\n",
    "    # Joining\n",
    "    words = \" \".join(words)\n",
    "    # Removing punctuation\n",
    "    words = words.translate(words.maketrans('', '', string.punctuation))\n",
    "\n",
    "    return words"
   ]
  },
  {
   "cell_type": "code",
   "execution_count": 8,
   "metadata": {},
   "outputs": [
    {
     "data": {
      "text/html": [
       "<div>\n",
       "<style scoped>\n",
       "    .dataframe tbody tr th:only-of-type {\n",
       "        vertical-align: middle;\n",
       "    }\n",
       "\n",
       "    .dataframe tbody tr th {\n",
       "        vertical-align: top;\n",
       "    }\n",
       "\n",
       "    .dataframe thead th {\n",
       "        text-align: right;\n",
       "    }\n",
       "</style>\n",
       "<table border=\"1\" class=\"dataframe\">\n",
       "  <thead>\n",
       "    <tr style=\"text-align: right;\">\n",
       "      <th></th>\n",
       "      <th>title</th>\n",
       "      <th>author</th>\n",
       "      <th>text</th>\n",
       "      <th>label</th>\n",
       "    </tr>\n",
       "    <tr>\n",
       "      <th>id</th>\n",
       "      <th></th>\n",
       "      <th></th>\n",
       "      <th></th>\n",
       "      <th></th>\n",
       "    </tr>\n",
       "  </thead>\n",
       "  <tbody>\n",
       "    <tr>\n",
       "      <th>0</th>\n",
       "      <td>House Dem Aide: We Didn’t Even See Comey’s Let...</td>\n",
       "      <td>Darrell Lucus</td>\n",
       "      <td>house  dem  aide  we  didn’t  even  see  comey...</td>\n",
       "      <td>1</td>\n",
       "    </tr>\n",
       "    <tr>\n",
       "      <th>1</th>\n",
       "      <td>FLYNN: Hillary Clinton, Big Woman on Campus - ...</td>\n",
       "      <td>Daniel J. Flynn</td>\n",
       "      <td>ever  get  the  feeling  your  life  circles  ...</td>\n",
       "      <td>0</td>\n",
       "    </tr>\n",
       "    <tr>\n",
       "      <th>2</th>\n",
       "      <td>Why the Truth Might Get You Fired</td>\n",
       "      <td>Consortiumnews.com</td>\n",
       "      <td>why  the  truth  might  get  you  fired  octob...</td>\n",
       "      <td>1</td>\n",
       "    </tr>\n",
       "    <tr>\n",
       "      <th>3</th>\n",
       "      <td>15 Civilians Killed In Single US Airstrike Hav...</td>\n",
       "      <td>Jessica Purkiss</td>\n",
       "      <td>videos  15  civilians  killed  in  single  us ...</td>\n",
       "      <td>1</td>\n",
       "    </tr>\n",
       "    <tr>\n",
       "      <th>4</th>\n",
       "      <td>Iranian woman jailed for fictional unpublished...</td>\n",
       "      <td>Howard Portnoy</td>\n",
       "      <td>print  an  iranian  woman  has  been  sentence...</td>\n",
       "      <td>1</td>\n",
       "    </tr>\n",
       "  </tbody>\n",
       "</table>\n",
       "</div>"
      ],
      "text/plain": [
       "                                                title              author  \\\n",
       "id                                                                          \n",
       "0   House Dem Aide: We Didn’t Even See Comey’s Let...       Darrell Lucus   \n",
       "1   FLYNN: Hillary Clinton, Big Woman on Campus - ...     Daniel J. Flynn   \n",
       "2                   Why the Truth Might Get You Fired  Consortiumnews.com   \n",
       "3   15 Civilians Killed In Single US Airstrike Hav...     Jessica Purkiss   \n",
       "4   Iranian woman jailed for fictional unpublished...      Howard Portnoy   \n",
       "\n",
       "                                                 text  label  \n",
       "id                                                            \n",
       "0   house  dem  aide  we  didn’t  even  see  comey...      1  \n",
       "1   ever  get  the  feeling  your  life  circles  ...      0  \n",
       "2   why  the  truth  might  get  you  fired  octob...      1  \n",
       "3   videos  15  civilians  killed  in  single  us ...      1  \n",
       "4   print  an  iranian  woman  has  been  sentence...      1  "
      ]
     },
     "execution_count": 8,
     "metadata": {},
     "output_type": "execute_result"
    }
   ],
   "source": [
    "# Applying our function\n",
    "df['text'] = df['text'].apply(cleanText)\n",
    "df.head()"
   ]
  },
  {
   "cell_type": "markdown",
   "metadata": {},
   "source": [
    "Now that we have cleaned our text, we can proceed with splitting our dataset into training (`df_train`), validation (`df_val`) and testing (`df_test`) datasets and check their respective resulting sizes:"
   ]
  },
  {
   "cell_type": "code",
   "execution_count": 9,
   "metadata": {},
   "outputs": [],
   "source": [
    "# Splitting train and validation sets\n",
    "df_train, df_test = train_test_split(df)\n",
    "df_train, df_val = train_test_split(df_train, test_size = 0.2)"
   ]
  },
  {
   "cell_type": "code",
   "execution_count": 51,
   "metadata": {},
   "outputs": [
    {
     "name": "stdout",
     "output_type": "stream",
     "text": [
      "Training dataset size =  12480\n",
      "Validation dataset size =  3120\n",
      "Testing dataset size =  5200\n"
     ]
    }
   ],
   "source": [
    "# Dataset sizes\n",
    "print('Training dataset size = ', len(df_train))\n",
    "print('Validation dataset size = ', len(df_val))\n",
    "print('Testing dataset size = ', len(df_test))"
   ]
  },
  {
   "cell_type": "markdown",
   "metadata": {},
   "source": [
    "In addition to removing punctuation and switching all letters to lowercase, we must further process our data for it to be adequate for downstream predictions. Three main steps can be considered important here, and they are: **Tokenization**, **Normalisation** and **Substituition**<sup><a href=\"https://www.kdnuggets.com/2017/12/general-approach-preprocessing-text-data.html\">1</a></sup>.\n",
    "\n",
    "**Tokenization** refers to the process of splitting long strings of text into small pieces, which are called _tokens_. It can be also referred to as text segmentation<sup><a href=\"https://www.kdnuggets.com/2017/12/general-approach-preprocessing-text-data.html\">1</a></sup>.\n",
    "\n",
    "**Normalization** means to put the text in the same level of information. This includes switching cases and removing punctuation (both of which we already did), converting numbers to written form, removing affixes (_stemming_) and converting words to their canonical forms (the word's lemma, a process called _lemmatization_), _et cetera_<sup><a href=\"https://www.kdnuggets.com/2017/12/general-approach-preprocessing-text-data.html\">1</a></sup>.\n",
    "\n",
    "**Substitution** is the process of eliminating noise in the dataset. This noise can exist as unwanted information present in extracted data, such as file headers, markup and metadata, tags in specific file formats and so on<sup><a href=\"https://www.kdnuggets.com/2017/12/general-approach-preprocessing-text-data.html\">1</a></sup>.\n",
    "\n",
    "In this project, to keep things simple since we are dealing with mostly plain text, aside from some normalisation, we must ***tokenize*** our data. After tokenization, we have to also ***pad*** our sequences. **Padding** refers to the process of masking our tokens so that they all have the same sequence length by adding \"empty\" values to them<sup><a href=\"https://keras.io/guides/understanding_masking_and_padding/#:~:text=Padding%20is%20a%20special%20form,pad%20or%20truncate%20some%20sequences\">2</a></sup>.\n",
    "\n",
    "For these tasks, we use two tools from Tensorflow/Keras: `Tokenizer` and `pad_sequences`."
   ]
  },
  {
   "cell_type": "code",
   "execution_count": 52,
   "metadata": {},
   "outputs": [],
   "source": [
    "## Tokenizing and padding text\n",
    "\n",
    "# Importing tools\n",
    "from tensorflow.keras.preprocessing.text import Tokenizer\n",
    "from tensorflow.keras.preprocessing.sequence import pad_sequences\n",
    "\n",
    "\n",
    "# Defining parameters\n",
    "vocab_size = 10000          # Maximum vocabulary size for our data\n",
    "trunc_type = 'post'         # Setting truncation and padding method to post data\n",
    "pad_type = 'post'\n",
    "oov_tok = '<OOV>'           # Token for 'out of vocabulary' words\n",
    "\n",
    "# Initializing tokenizer\n",
    "tokenizer = Tokenizer(num_words=vocab_size, oov_token=oov_tok)\n",
    "\n",
    "# Fitting to data\n",
    "tokenizer.fit_on_texts(df_train['text'])\n",
    "\n",
    "# Getting word index\n",
    "word_index = tokenizer.word_index\n",
    "\n",
    "## Tokenizing and padding\n",
    "\n",
    "# Training set\n",
    "train_sequences = tokenizer.texts_to_sequences(np.array(df_train['text']))\n",
    "train_padded = pad_sequences(train_sequences, truncating=trunc_type, padding=pad_type)\n",
    "max_lenght = len(train_padded[0])\n",
    "\n",
    "# Validation set\n",
    "val_sequences = tokenizer.texts_to_sequences(np.array(df_val['text']))\n",
    "val_padded = pad_sequences(val_sequences, truncating=trunc_type, padding=pad_type, maxlen=max_lenght)"
   ]
  },
  {
   "cell_type": "markdown",
   "metadata": {},
   "source": [
    "Now we can finally prepare our input for the deep-learning model."
   ]
  },
  {
   "cell_type": "code",
   "execution_count": 53,
   "metadata": {},
   "outputs": [
    {
     "name": "stdout",
     "output_type": "stream",
     "text": [
      "Train =  12480\n",
      "Target =  12480 \n",
      "\n",
      "Validation =  3120\n",
      "Target =  3120\n"
     ]
    }
   ],
   "source": [
    "# Creating inputs for tensorflow\n",
    "X_train = np.copy(train_padded)\n",
    "X_val = np.copy(val_padded)\n",
    "y_train = df_train['label'].values\n",
    "y_val = df_val['label'].values\n",
    "\n",
    "# Testing array sizes\n",
    "print('Train = ', len(X_train))\n",
    "print('Target = ', len(y_train), '\\n')\n",
    "print('Validation = ', len(X_val))\n",
    "print('Target = ', len(y_val))"
   ]
  },
  {
   "cell_type": "markdown",
   "metadata": {},
   "source": [
    "### Preparing our model\n",
    "\n",
    "Much like for a regular machine learning task, one can perform a RandomSearch to discover the best hyperparameters for a given model. However, due to the size and complexity of the model, this would take a long time. Instead, we are going to use some parameters which were provided beforehand.\n",
    "\n",
    "For dealing with sequential (text) data with singular inputs/outputs, we will create a `Sequential` model that will accommodate a stack of layers<sup><a href=\"https://keras.io/guides/sequential_model/\">3</a></sup>.\n",
    "\n",
    "The first layer of our model will be the `Embedding` layer. Mostly used in NLP, it allows us to encode our word variables from text data by converting them to the same size and encoding them into numbers. This permits our model to operate efficiently with our data<sup><a href=\"https://medium.com/analytics-vidhya/understanding-embedding-layer-in-keras-bbe3ff1327ce\">3</a></sup>.\n",
    "\n",
    "The `Conv1D` layer creates a 1-dimensional convolutional layer, i.e. a convolution kernel that is convolved with the layer input over one dimension only, making it a suitable approach to dealing with sequential data<sup><a href=\"https://keras.io/api/layers/convolution_layers/convolution1d/\">4</a>,</sup><sup><a href=\"https://becominghuman.ai/1-dimensional-convolution-layer-for-nlp-task-5d2e86e0229c\">5</a></sup>.\n",
    "\n",
    "_Pooling_ is similar to dimensional reduction for Convolutional Neural Networks, where the data is divided into subsections and a value is calculated that best represents the given subsection, which helps the algorithm to learn better. The _Max Pooling_ (`GlobalMaxPooling1D`) will take the maximum value in a window of two (default value)<sup><a href=\"https://towardsdatascience.com/nlp-with-cnns-a6aa743bdc1e\">6</a></sup>.\n",
    "\n",
    "The `Dense` layer will then connect all the \"neurons\" of the neural network and use a sigmoidal curve to determine the predictions.\n",
    "\n",
    "\n",
    "\n",
    "\n",
    "\n",
    "\n",
    "\n",
    "\n",
    "\n"
   ]
  },
  {
   "cell_type": "code",
   "execution_count": 54,
   "metadata": {},
   "outputs": [
    {
     "name": "stdout",
     "output_type": "stream",
     "text": [
      "Epoch 1/5\n",
      "390/390 - 80s - loss: 0.2397 - accuracy: 0.9086 - val_loss: 0.0694 - val_accuracy: 0.9740 - 80s/epoch - 204ms/step\n",
      "Epoch 2/5\n",
      "390/390 - 79s - loss: 0.0400 - accuracy: 0.9883 - val_loss: 0.0485 - val_accuracy: 0.9804 - 79s/epoch - 203ms/step\n",
      "Epoch 3/5\n",
      "390/390 - 79s - loss: 0.0128 - accuracy: 0.9973 - val_loss: 0.0446 - val_accuracy: 0.9830 - 79s/epoch - 202ms/step\n",
      "Epoch 4/5\n",
      "390/390 - 81s - loss: 0.0040 - accuracy: 0.9999 - val_loss: 0.0449 - val_accuracy: 0.9840 - 81s/epoch - 207ms/step\n",
      "Epoch 5/5\n",
      "390/390 - 80s - loss: 0.0018 - accuracy: 0.9999 - val_loss: 0.0464 - val_accuracy: 0.9830 - 80s/epoch - 205ms/step\n"
     ]
    }
   ],
   "source": [
    "# Creating and fitting model\n",
    "model = tf.keras.Sequential([\n",
    "        tf.keras.layers.Embedding(vocab_size, (155), input_length=max_lenght),\n",
    "        tf.keras.layers.Conv1D(16, 5, activation='relu'),\n",
    "        tf.keras.layers.GlobalMaxPooling1D(),\n",
    "        tf.keras.layers.Dense(1, activation='sigmoid')\n",
    "        ])\n",
    "\n",
    "model.compile(loss='binary_crossentropy',\n",
    "              optimizer=tf.keras.optimizers.Adam(learning_rate=0.001),\n",
    "              metrics=['accuracy'])\n",
    "\n",
    "history = model.fit(X_train, y_train, verbose=2, epochs=5, validation_data=(X_val, y_val),\n",
    "                    callbacks=[tf.keras.callbacks.EarlyStopping('val_loss', patience=6)])"
   ]
  },
  {
   "cell_type": "markdown",
   "metadata": {},
   "source": [
    "We can see that the accuracy of our model started already quite high, especially in the validation set, and further increased with the increase in epochs (the iterations) of the model. We can further visualize this as plots:"
   ]
  },
  {
   "cell_type": "code",
   "execution_count": 55,
   "metadata": {},
   "outputs": [
    {
     "data": {
      "image/png": "[encoded data removed]",
      "text/plain": [
       "<Figure size 640x480 with 1 Axes>"
      ]
     },
     "metadata": {},
     "output_type": "display_data"
    },
    {
     "data": {
      "image/png": "[encoded data removed]",
      "text/plain": [
       "<Figure size 640x480 with 1 Axes>"
      ]
     },
     "metadata": {},
     "output_type": "display_data"
    }
   ],
   "source": [
    "# Inspecting results\n",
    "def plot_graphs(history, string):\n",
    "  plt.plot(history.history[string])\n",
    "  plt.plot(history.history['val_'+string])\n",
    "  plt.xlabel(\"Epochs\")\n",
    "  plt.ylabel(string)\n",
    "  plt.legend([string, 'val_'+string])\n",
    "  plt.show()\n",
    "\n",
    "plot_graphs(history, \"accuracy\")\n",
    "plot_graphs(history, \"loss\")"
   ]
  },
  {
   "cell_type": "markdown",
   "metadata": {},
   "source": [
    "### Making predictions on Test Set\n",
    "\n",
    "The next step is to use our model to predict the previously separated test data. First, we have to process it like we did with the training and validation sets."
   ]
  },
  {
   "cell_type": "code",
   "execution_count": 56,
   "metadata": {},
   "outputs": [],
   "source": [
    "# Test set\n",
    "test_sequences = tokenizer.texts_to_sequences(np.array(df_test['text']))\n",
    "test_padded = pad_sequences(test_sequences, truncating=trunc_type, padding=pad_type, maxlen=max_lenght)"
   ]
  },
  {
   "cell_type": "code",
   "execution_count": 57,
   "metadata": {},
   "outputs": [
    {
     "name": "stdout",
     "output_type": "stream",
     "text": [
      "163/163 [==============================] - 7s 41ms/step\n"
     ]
    },
    {
     "data": {
      "text/plain": [
       "5200"
      ]
     },
     "execution_count": 57,
     "metadata": {},
     "output_type": "execute_result"
    }
   ],
   "source": [
    "# Making the predictions\n",
    "predict = np.round(model.predict(test_padded))\n",
    "\n",
    "# Length of result\n",
    "len(predict)"
   ]
  },
  {
   "cell_type": "markdown",
   "metadata": {},
   "source": [
    "And then we check the accuracy of our predictions:"
   ]
  },
  {
   "cell_type": "code",
   "execution_count": 58,
   "metadata": {},
   "outputs": [
    {
     "name": "stdout",
     "output_type": "stream",
     "text": [
      "Accuracy =  0.9835\n"
     ]
    }
   ],
   "source": [
    "# Checking accuracy\n",
    "accuracy = sum(1 if i==j else 0 for i,j in zip(predict, df_test['label'].values)) / len(df_test)\n",
    "print('Accuracy = ', np.round(accuracy, 4))"
   ]
  },
  {
   "cell_type": "markdown",
   "metadata": {},
   "source": [
    "The model had very high accuracy on the test data, of 0.98, meaning that the model captured well the features that defined the news as potentially fake or not."
   ]
  },
  {
   "cell_type": "markdown",
   "metadata": {},
   "source": [
    "# Conclusions\n",
    "\n",
    "Dealing with text data is a common task in Machine Learning. Deep Learning techniques are especially well suited to dealing with Natural Language Processing, as they can uncover hidden patterns in data.\n",
    "\n",
    "By applying some Deep Learning techniques through Tensorflow and Keras, we were able to achieve 0.98 accuracy when predicting Fake News data on data previously unseen by the model. This even happened by preparing the data with simple steps, meaning that perhaps the model could be further improved (even if by a narrow margin) if other preparation steps were performed."
   ]
  },
  {
   "cell_type": "markdown",
   "metadata": {},
   "source": [
    "# References\n",
    "\n",
    "1: https://www.kdnuggets.com/2017/12/general-approach-preprocessing-text-data.html\n",
    "\n",
    "2: https://keras.io/guides/understanding_masking_and_padding/\n",
    "\n",
    "3: https://keras.io/guides/sequential_model/\n",
    "\n",
    "4: https://keras.io/api/layers/convolution_layers/convolution1d/\n",
    "\n",
    "5: https://becominghuman.ai/1-dimensional-convolution-layer-for-nlp-task-5d2e86e0229c\n",
    "\n",
    "6: https://towardsdatascience.com/nlp-with-cnns-a6aa743bdc1e"
   ]
  }
 ],
 "metadata": {
  "kernelspec": {
   "display_name": "base",
   "language": "python",
   "name": "python3"
  },
  "language_info": {
   "codemirror_mode": {
    "name": "ipython",
    "version": 3
   },
   "file_extension": ".py",
   "mimetype": "text/x-python",
   "name": "python",
   "nbconvert_exporter": "python",
   "pygments_lexer": "ipython3",
   "version": "3.9.13"
  }
 },
 "nbformat": 4,
 "nbformat_minor": 2
}
