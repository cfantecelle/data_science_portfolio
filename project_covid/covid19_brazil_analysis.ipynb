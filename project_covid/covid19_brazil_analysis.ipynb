{
  "cells": [
    {
      "cell_type": "markdown",
      "metadata": {
        "id": "-eFQZydM9O9J"
      },
      "source": [
        "<img alt=\"Colaboratory logo\" width=\"15%\" src=\"https://raw.githubusercontent.com/carlosfab/escola-data-science/master/img/novo_logo_bg_claro.png\">\n",
        "\n",
        "#### **Data Science na Prática 3.0**\n",
        "*by [sigmoidal.ai](https://sigmoidal.ai)*  \n",
        "\n",
        "---\n",
        "  "
      ]
    },
    {
      "cell_type": "markdown",
      "metadata": {
        "id": "kLI0gJtzDGuQ"
      },
      "source": [
        "# COVID-19 landscape in Brazil\n",
        "\n",
        "...Intro COVID...\n",
        "\n",
        "With the goal to reassess the situation regarding the number of cases and deaths ocurring in Brazil, I will analyse recent data from [Our World in Data](https://ourworldindata.org/) regarding COVID-19 infections globally."
      ]
    },
    {
      "cell_type": "markdown",
      "metadata": {},
      "source": [
        "### Importing necessary packages"
      ]
    },
    {
      "cell_type": "code",
      "execution_count": 2,
      "metadata": {
        "id": "lOtEJxe0DMEb"
      },
      "outputs": [],
      "source": [
        "# importing necessary packages\n",
        "import pandas as pd\n",
        "import matplotlib.pyplot as plt\n",
        "import numpy as np\n",
        "import seaborn as sns\n",
        "from scipy import stats\n",
        "\n",
        "# getting plots to work in ipynb\n",
        "%matplotlib inline"
      ]
    },
    {
      "cell_type": "markdown",
      "metadata": {
        "id": "0zxQHhIUDF_2"
      },
      "source": [
        "## Getting the data\n",
        "\n",
        "*Descreva a fonte dos seus dados e um breve resumo sobre o que se pode esperar desse dataset.*\n",
        "\n",
        "*Fale sobre a dificuldade de se analisar uma doença novas, os conflitos existentes entre os dados dos governos federal, estaduais e os não oficiais.*\n",
        "\n",
        "### Variables codebook\n",
        "\n",
        "The description of each variable was obtained from the [dataset codebook](https://github.com/owid/covid-19-data/blob/master/public/data/owid-covid-codebook.csv), as provided by Our World in Data. \n",
        "\n",
        "<details>\n",
        "<summary> Click the arrow to see the codebook. </summary>\n",
        "  \n",
        "* `iso_code` = The ISO 3166-1 alpha 3 codes representing the country names.\n",
        "* `continent` = Continent of the geographical location.\n",
        "* `location` = Geographical location. This variable also contains classification based on country income or entire continents.\n",
        "* `date` = Data of the observation.\n",
        "* `total_cases` = Total number of confirmed cases up until the date specified. Can include probable cases, where reported.\n",
        "* `new_cases` = New confirmed cases. Can include probable cases, where reported. Negative values are replaced with NAs when the input was subject to data corretion.\n",
        "* `new_cases_smoothed` = Same as above, 7-day smoothed.\n",
        "* `total_deaths` = Total deaths attributed to COVID-19. Can include probable deaths, where reported.\n",
        "* `new_deaths` = New deaths attributed to COVID-19. Can include probable deaths, where reported. Negative values are replaced with NAs when the input was subject to data corretion.\n",
        "* `new_deaths_smoothed` = Same as above, 7-day smoothed.\n",
        "* `total_cases_per_million` = Total cases per 1,000,000 people. Can include probable cases, where reported.\n",
        "* `new_cases_per_million` = New confirmed cases per 1,000,000 people. Can include probable cases, where reported.\n",
        "* `new_cases_smoothed_per_million` = Same as above, 7-day smoothed.\n",
        "* `total_deaths_per_million` = Total deaths attributed to COVID-19 per 1,000,000 people. Can include probable deaths, where reported.\n",
        "* `new_deaths_per_million` = New deaths attributed to COVID-19 per 1,000,000 people. Can include probable deaths, where reported.\n",
        "* `new_deaths_smoothed_per_million` = Same as above, 7-day smoothed.\n",
        "* `reproduction_rate` = Real time estimated of the effective reproductive rate (R) of COVID-19. For more info, see this [link](https://github.com/crondonm/TrackingR/tree/main/Estimates-Database).\n",
        "* `icu_patients` = Number of COVID-19 patients in intensive care units (ICUs) on a given day.\n",
        "* `icu_patients_per_million` = Same as above, per 1,000,000 people.\n",
        "* `hosp_patients` = Number of COVID-19 patients in hospital on a given day.\n",
        "* `hosp_patients_per_million` = Same as above, per 1,000,000 people.\n",
        "* `weekly_icu_admissions` = Number of COVID-19 patients admitted to ICUs in a given week.\n",
        "* `weekly_icu_admissions_per_million` = Same as above, per 1,000,000 people.\n",
        "* `weekly_hosp_admissions` = Number of COVID-19 patients in hospital in a given week.\n",
        "* `weekly_hosp_admissions_per_million` = Same as above, per 1,000,000 people.\n",
        "* `total_tests` = Total tests for COVID-19.\n",
        "* `new_tests` = New tests for COVID-19 (for consecutive days, only).\n",
        "* `total_tests_per_thousand` = Total tests per 1,000 people.\n",
        "* `new_tests_per_thousand` = New tests por 1,000 people.\n",
        "* `new_tests_smoothed` = New tests, 7-day smoothed (assuming tests changed equally for countries that did not report daily testing).\n",
        "* `new_tests_smoothed_per_thousand` = Same as above, per 1,000 people.\n",
        "* `positive_rate` = Share of positive tests, as a rolling 7-day average (the inverse of tests_per_case).\n",
        "* `tests_per_case` = Tests conducted per new confirmed case, as a rolling 7-day average.\n",
        "* `tests_units` = Units used by the location to report its test data.\n",
        "* `total_vaccinations` = Total number of vaccination doses administered.\n",
        "* `people_vaccinated` = Total number of people with at least one dose of the vaccine.\n",
        "* `people_fully_vaccinated` = Total number of people with all doses as per the initial vaccination protocol.\n",
        "* `total_boosters` = Total number of booster doses administered (beyond the initial protocol).\n",
        "* `new_vaccinations` = New doses administered.\n",
        "* `new_vaccinations_smoothed` = Sabe as amove, 7-day smoothed (assuming vaccination changed equally for countries that did not report daily).\n",
        "* `total_vaccinations_per_hundred` = Total number of doses administered per 100 people in the total population.\n",
        "* `people_vaccinated_per_hundred` = Total number of people vaccinated with at least one dose per 100 people.\n",
        "* `people_fully_vaccinated_per_hundred` = Total number of people with all doses (based on the initial protocol) per 100 people.\n",
        "* `total_boosters_per_hundred` = Total number of vaccine boosters administered per 100 people.\n",
        "* `new_vaccinations_smoothed_per_million` = New vaccines administered, 7-day smoothed, per 1,000,000 people.\n",
        "* `new_people_vaccinated_smoothed` = Daily number of people receiving the first dose, 7-day smoothed.\n",
        "* `new_people_vaccinated_smoothed_per_hundred` = Same as above, per 100 people.\n",
        "* `stringency_index` = Government Response Stringency Index: composite measure based on response indicators, rescaled to a value from 0 to 100 (100 = strictest response).\n",
        "* `population` = Latest available population values.\n",
        "* `population_density` = Number of people by land area, in square km, for the most recent available year.\n",
        "* `median_age` = Median age, UN projection for 2020.\n",
        "* `aged_65_older` = Share of the population >= 65 years, for the most recent year.\n",
        "* `aged_70_older` = Share of the population >= 70 years in 2015.\n",
        "* `gdp_per_capita` = Gross domestic product at purchasing power parity (constant 2011 international dollars), for the most recent available year.\n",
        "* `extreme_poverty` = Share of the population living in extreme poverty (most recent available year since 2010).\n",
        "* `cardiovasc_death_rate` = Death rate of cardiovascular disease in 2017 (per 100,00 people).\n",
        "* `diabetes_prevalence` = Diabetes prevalence (% of population aged 20 to 79) in 2017.\n",
        "* `female_smokers` = Share of women who smoke, most recent year available.\n",
        "* `male_smokers` = Share of men who smoke, most recent year avaiable.\n",
        "* `handwashing_facilities` = Share of the population with basic handwashing facilities on premises, most recent year available.\n",
        "* `hospital_beds_per_thousand` = Hospoital beds per 1,000 people, most recent year available since 2010.\n",
        "* `life_expectancy` = Life expectancy at birth in 2019.\n",
        "* `human_development_index` = 2019 values of HDI, measuring average achievement in three basic dimensions of human develompment (long and healthy life, knowledge and decent standard of living).\n",
        "* `excess_mortality_cumulative_absolute` = Percentage difference between the reported number of weekly or monthly deaths in 2020-2921 and the projected number of deaths for the same period based on preivous years.\n",
        "* `excess_mortality_cumulative` = Percentage difference between the cumulative number of deaths since 1 January 2020 and the cumulative projected deaths for the same period based on preivous years.\n",
        "* `excess_mortality` = Cumulative difference between the reported number of deaths since 1 January 2020 and the projected number of deaths for the same period based on previous years.\n",
        "* `excess_mortality_cumulative_per_million` = Same as above, per 1,000,000 people.\n",
        "</details>\n",
        "\n",
        "### Importing COVID-19 data\n",
        "\n",
        "The data used here was obtained from [*Our World in Data*](https://github.com/owid/covid-19-data/tree/master/public/data) on 21/03/2022. I will start by loading the dataset as a dataframe."
      ]
    },
    {
      "cell_type": "code",
      "execution_count": 3,
      "metadata": {},
      "outputs": [],
      "source": [
        "# importing dataset into a dataframe\n",
        "df = pd.read_csv(\"./data/owid-covid-data.csv\")\n",
        "\n",
        "\n",
        "#  # getting all column names to describe variables above\n",
        "# for column in df.columns:\n",
        "#     print(\"* `{}` = \" .format(column))"
      ]
    },
    {
      "cell_type": "markdown",
      "metadata": {
        "id": "qb5By2nIMS6m"
      },
      "source": [
        "## Exploratory analysis\n",
        "\n",
        "First, I will explore the data to get some initial thoughts.\n",
        "\n"
      ]
    },
    {
      "cell_type": "markdown",
      "metadata": {
        "id": "__TfiNtiPPA6"
      },
      "source": [
        "\n",
        "### Initial analysis\n",
        "\n",
        "Vamos......"
      ]
    },
    {
      "cell_type": "code",
      "execution_count": 4,
      "metadata": {
        "id": "gO1fv3D1PS4k"
      },
      "outputs": [
        {
          "data": {
            "text/html": [
              "<div>\n",
              "<style scoped>\n",
              "    .dataframe tbody tr th:only-of-type {\n",
              "        vertical-align: middle;\n",
              "    }\n",
              "\n",
              "    .dataframe tbody tr th {\n",
              "        vertical-align: top;\n",
              "    }\n",
              "\n",
              "    .dataframe thead th {\n",
              "        text-align: right;\n",
              "    }\n",
              "</style>\n",
              "<table border=\"1\" class=\"dataframe\">\n",
              "  <thead>\n",
              "    <tr style=\"text-align: right;\">\n",
              "      <th></th>\n",
              "      <th>iso_code</th>\n",
              "      <th>continent</th>\n",
              "      <th>location</th>\n",
              "      <th>date</th>\n",
              "      <th>total_cases</th>\n",
              "      <th>new_cases</th>\n",
              "      <th>new_cases_smoothed</th>\n",
              "      <th>total_deaths</th>\n",
              "      <th>new_deaths</th>\n",
              "      <th>new_deaths_smoothed</th>\n",
              "      <th>...</th>\n",
              "      <th>female_smokers</th>\n",
              "      <th>male_smokers</th>\n",
              "      <th>handwashing_facilities</th>\n",
              "      <th>hospital_beds_per_thousand</th>\n",
              "      <th>life_expectancy</th>\n",
              "      <th>human_development_index</th>\n",
              "      <th>excess_mortality_cumulative_absolute</th>\n",
              "      <th>excess_mortality_cumulative</th>\n",
              "      <th>excess_mortality</th>\n",
              "      <th>excess_mortality_cumulative_per_million</th>\n",
              "    </tr>\n",
              "  </thead>\n",
              "  <tbody>\n",
              "    <tr>\n",
              "      <th>0</th>\n",
              "      <td>AFG</td>\n",
              "      <td>Asia</td>\n",
              "      <td>Afghanistan</td>\n",
              "      <td>2020-02-24</td>\n",
              "      <td>5.0</td>\n",
              "      <td>5.0</td>\n",
              "      <td>NaN</td>\n",
              "      <td>NaN</td>\n",
              "      <td>NaN</td>\n",
              "      <td>NaN</td>\n",
              "      <td>...</td>\n",
              "      <td>NaN</td>\n",
              "      <td>NaN</td>\n",
              "      <td>37.746</td>\n",
              "      <td>0.5</td>\n",
              "      <td>64.83</td>\n",
              "      <td>0.511</td>\n",
              "      <td>NaN</td>\n",
              "      <td>NaN</td>\n",
              "      <td>NaN</td>\n",
              "      <td>NaN</td>\n",
              "    </tr>\n",
              "    <tr>\n",
              "      <th>1</th>\n",
              "      <td>AFG</td>\n",
              "      <td>Asia</td>\n",
              "      <td>Afghanistan</td>\n",
              "      <td>2020-02-25</td>\n",
              "      <td>5.0</td>\n",
              "      <td>0.0</td>\n",
              "      <td>NaN</td>\n",
              "      <td>NaN</td>\n",
              "      <td>NaN</td>\n",
              "      <td>NaN</td>\n",
              "      <td>...</td>\n",
              "      <td>NaN</td>\n",
              "      <td>NaN</td>\n",
              "      <td>37.746</td>\n",
              "      <td>0.5</td>\n",
              "      <td>64.83</td>\n",
              "      <td>0.511</td>\n",
              "      <td>NaN</td>\n",
              "      <td>NaN</td>\n",
              "      <td>NaN</td>\n",
              "      <td>NaN</td>\n",
              "    </tr>\n",
              "    <tr>\n",
              "      <th>2</th>\n",
              "      <td>AFG</td>\n",
              "      <td>Asia</td>\n",
              "      <td>Afghanistan</td>\n",
              "      <td>2020-02-26</td>\n",
              "      <td>5.0</td>\n",
              "      <td>0.0</td>\n",
              "      <td>NaN</td>\n",
              "      <td>NaN</td>\n",
              "      <td>NaN</td>\n",
              "      <td>NaN</td>\n",
              "      <td>...</td>\n",
              "      <td>NaN</td>\n",
              "      <td>NaN</td>\n",
              "      <td>37.746</td>\n",
              "      <td>0.5</td>\n",
              "      <td>64.83</td>\n",
              "      <td>0.511</td>\n",
              "      <td>NaN</td>\n",
              "      <td>NaN</td>\n",
              "      <td>NaN</td>\n",
              "      <td>NaN</td>\n",
              "    </tr>\n",
              "    <tr>\n",
              "      <th>3</th>\n",
              "      <td>AFG</td>\n",
              "      <td>Asia</td>\n",
              "      <td>Afghanistan</td>\n",
              "      <td>2020-02-27</td>\n",
              "      <td>5.0</td>\n",
              "      <td>0.0</td>\n",
              "      <td>NaN</td>\n",
              "      <td>NaN</td>\n",
              "      <td>NaN</td>\n",
              "      <td>NaN</td>\n",
              "      <td>...</td>\n",
              "      <td>NaN</td>\n",
              "      <td>NaN</td>\n",
              "      <td>37.746</td>\n",
              "      <td>0.5</td>\n",
              "      <td>64.83</td>\n",
              "      <td>0.511</td>\n",
              "      <td>NaN</td>\n",
              "      <td>NaN</td>\n",
              "      <td>NaN</td>\n",
              "      <td>NaN</td>\n",
              "    </tr>\n",
              "    <tr>\n",
              "      <th>4</th>\n",
              "      <td>AFG</td>\n",
              "      <td>Asia</td>\n",
              "      <td>Afghanistan</td>\n",
              "      <td>2020-02-28</td>\n",
              "      <td>5.0</td>\n",
              "      <td>0.0</td>\n",
              "      <td>NaN</td>\n",
              "      <td>NaN</td>\n",
              "      <td>NaN</td>\n",
              "      <td>NaN</td>\n",
              "      <td>...</td>\n",
              "      <td>NaN</td>\n",
              "      <td>NaN</td>\n",
              "      <td>37.746</td>\n",
              "      <td>0.5</td>\n",
              "      <td>64.83</td>\n",
              "      <td>0.511</td>\n",
              "      <td>NaN</td>\n",
              "      <td>NaN</td>\n",
              "      <td>NaN</td>\n",
              "      <td>NaN</td>\n",
              "    </tr>\n",
              "  </tbody>\n",
              "</table>\n",
              "<p>5 rows × 67 columns</p>\n",
              "</div>"
            ],
            "text/plain": [
              "  iso_code continent     location        date  total_cases  new_cases  \\\n",
              "0      AFG      Asia  Afghanistan  2020-02-24          5.0        5.0   \n",
              "1      AFG      Asia  Afghanistan  2020-02-25          5.0        0.0   \n",
              "2      AFG      Asia  Afghanistan  2020-02-26          5.0        0.0   \n",
              "3      AFG      Asia  Afghanistan  2020-02-27          5.0        0.0   \n",
              "4      AFG      Asia  Afghanistan  2020-02-28          5.0        0.0   \n",
              "\n",
              "   new_cases_smoothed  total_deaths  new_deaths  new_deaths_smoothed  ...  \\\n",
              "0                 NaN           NaN         NaN                  NaN  ...   \n",
              "1                 NaN           NaN         NaN                  NaN  ...   \n",
              "2                 NaN           NaN         NaN                  NaN  ...   \n",
              "3                 NaN           NaN         NaN                  NaN  ...   \n",
              "4                 NaN           NaN         NaN                  NaN  ...   \n",
              "\n",
              "   female_smokers  male_smokers  handwashing_facilities  \\\n",
              "0             NaN           NaN                  37.746   \n",
              "1             NaN           NaN                  37.746   \n",
              "2             NaN           NaN                  37.746   \n",
              "3             NaN           NaN                  37.746   \n",
              "4             NaN           NaN                  37.746   \n",
              "\n",
              "   hospital_beds_per_thousand  life_expectancy  human_development_index  \\\n",
              "0                         0.5            64.83                    0.511   \n",
              "1                         0.5            64.83                    0.511   \n",
              "2                         0.5            64.83                    0.511   \n",
              "3                         0.5            64.83                    0.511   \n",
              "4                         0.5            64.83                    0.511   \n",
              "\n",
              "   excess_mortality_cumulative_absolute  excess_mortality_cumulative  \\\n",
              "0                                   NaN                          NaN   \n",
              "1                                   NaN                          NaN   \n",
              "2                                   NaN                          NaN   \n",
              "3                                   NaN                          NaN   \n",
              "4                                   NaN                          NaN   \n",
              "\n",
              "   excess_mortality  excess_mortality_cumulative_per_million  \n",
              "0               NaN                                      NaN  \n",
              "1               NaN                                      NaN  \n",
              "2               NaN                                      NaN  \n",
              "3               NaN                                      NaN  \n",
              "4               NaN                                      NaN  \n",
              "\n",
              "[5 rows x 67 columns]"
            ]
          },
          "execution_count": 4,
          "metadata": {},
          "output_type": "execute_result"
        }
      ],
      "source": [
        "# checking dataset entries\n",
        "df.head()"
      ]
    },
    {
      "cell_type": "code",
      "execution_count": 5,
      "metadata": {},
      "outputs": [
        {
          "data": {
            "text/plain": [
              "(169939, 67)"
            ]
          },
          "execution_count": 5,
          "metadata": {},
          "output_type": "execute_result"
        }
      ],
      "source": [
        "# converting 'date' to datetime\n",
        "df.date = pd.to_datetime(df.date)\n",
        "\n",
        "# checking dataset size\n",
        "df.shape"
      ]
    },
    {
      "cell_type": "code",
      "execution_count": 6,
      "metadata": {},
      "outputs": [
        {
          "name": "stdout",
          "output_type": "stream",
          "text": [
            "iso_code                                              object\n",
            "continent                                             object\n",
            "location                                              object\n",
            "date                                          datetime64[ns]\n",
            "total_cases                                          float64\n",
            "new_cases                                            float64\n",
            "new_cases_smoothed                                   float64\n",
            "total_deaths                                         float64\n",
            "new_deaths                                           float64\n",
            "new_deaths_smoothed                                  float64\n",
            "total_cases_per_million                              float64\n",
            "new_cases_per_million                                float64\n",
            "new_cases_smoothed_per_million                       float64\n",
            "total_deaths_per_million                             float64\n",
            "new_deaths_per_million                               float64\n",
            "new_deaths_smoothed_per_million                      float64\n",
            "reproduction_rate                                    float64\n",
            "icu_patients                                         float64\n",
            "icu_patients_per_million                             float64\n",
            "hosp_patients                                        float64\n",
            "hosp_patients_per_million                            float64\n",
            "weekly_icu_admissions                                float64\n",
            "weekly_icu_admissions_per_million                    float64\n",
            "weekly_hosp_admissions                               float64\n",
            "weekly_hosp_admissions_per_million                   float64\n",
            "total_tests                                          float64\n",
            "new_tests                                            float64\n",
            "total_tests_per_thousand                             float64\n",
            "new_tests_per_thousand                               float64\n",
            "new_tests_smoothed                                   float64\n",
            "new_tests_smoothed_per_thousand                      float64\n",
            "positive_rate                                        float64\n",
            "tests_per_case                                       float64\n",
            "tests_units                                           object\n",
            "total_vaccinations                                   float64\n",
            "people_vaccinated                                    float64\n",
            "people_fully_vaccinated                              float64\n",
            "total_boosters                                       float64\n",
            "new_vaccinations                                     float64\n",
            "new_vaccinations_smoothed                            float64\n",
            "total_vaccinations_per_hundred                       float64\n",
            "people_vaccinated_per_hundred                        float64\n",
            "people_fully_vaccinated_per_hundred                  float64\n",
            "total_boosters_per_hundred                           float64\n",
            "new_vaccinations_smoothed_per_million                float64\n",
            "new_people_vaccinated_smoothed                       float64\n",
            "new_people_vaccinated_smoothed_per_hundred           float64\n",
            "stringency_index                                     float64\n",
            "population                                           float64\n",
            "population_density                                   float64\n",
            "median_age                                           float64\n",
            "aged_65_older                                        float64\n",
            "aged_70_older                                        float64\n",
            "gdp_per_capita                                       float64\n",
            "extreme_poverty                                      float64\n",
            "cardiovasc_death_rate                                float64\n",
            "diabetes_prevalence                                  float64\n",
            "female_smokers                                       float64\n",
            "male_smokers                                         float64\n",
            "handwashing_facilities                               float64\n",
            "hospital_beds_per_thousand                           float64\n",
            "life_expectancy                                      float64\n",
            "human_development_index                              float64\n",
            "excess_mortality_cumulative_absolute                 float64\n",
            "excess_mortality_cumulative                          float64\n",
            "excess_mortality                                     float64\n",
            "excess_mortality_cumulative_per_million              float64\n",
            "dtype: object\n"
          ]
        }
      ],
      "source": [
        "# checking data types\n",
        "with pd.option_context('display.max_rows', None, 'display.max_columns', None):\n",
        "    print(df.dtypes)"
      ]
    },
    {
      "cell_type": "code",
      "execution_count": 7,
      "metadata": {},
      "outputs": [
        {
          "name": "stdout",
          "output_type": "stream",
          "text": [
            "weekly_icu_admissions_per_million             0.967094\n",
            "weekly_icu_admissions                         0.967094\n",
            "excess_mortality_cumulative_per_million       0.965799\n",
            "excess_mortality                              0.965799\n",
            "excess_mortality_cumulative                   0.965799\n",
            "excess_mortality_cumulative_absolute          0.965799\n",
            "weekly_hosp_admissions_per_million            0.934323\n",
            "weekly_hosp_admissions                        0.934323\n",
            "total_boosters                                0.890372\n",
            "total_boosters_per_hundred                    0.890372\n",
            "icu_patients_per_million                      0.860203\n",
            "icu_patients                                  0.860203\n",
            "hosp_patients                                 0.852223\n",
            "hosp_patients_per_million                     0.852223\n",
            "new_vaccinations                              0.774713\n",
            "people_fully_vaccinated                       0.756171\n",
            "people_fully_vaccinated_per_hundred           0.756171\n",
            "people_vaccinated                             0.740301\n",
            "people_vaccinated_per_hundred                 0.740301\n",
            "total_vaccinations_per_hundred                0.727037\n",
            "total_vaccinations                            0.727037\n",
            "new_tests                                     0.600792\n",
            "new_tests_per_thousand                        0.600792\n",
            "handwashing_facilities                        0.588111\n",
            "total_tests                                   0.587952\n",
            "total_tests_per_thousand                      0.587952\n",
            "tests_per_case                                0.534439\n",
            "positive_rate                                 0.530979\n",
            "new_tests_smoothed                            0.495319\n",
            "new_tests_smoothed_per_thousand               0.495319\n",
            "new_people_vaccinated_smoothed                0.487716\n",
            "new_people_vaccinated_smoothed_per_hundred    0.487716\n",
            "new_vaccinations_smoothed_per_million         0.483014\n",
            "new_vaccinations_smoothed                     0.483014\n",
            "tests_units                                   0.481055\n",
            "extreme_poverty                               0.452245\n",
            "male_smokers                                  0.371592\n",
            "female_smokers                                0.362854\n",
            "hospital_beds_per_thousand                    0.257045\n",
            "reproduction_rate                             0.242817\n",
            "stringency_index                              0.219555\n",
            "human_development_index                       0.181530\n",
            "aged_65_older                                 0.181124\n",
            "cardiovasc_death_rate                         0.178452\n",
            "aged_70_older                                 0.176605\n",
            "median_age                                    0.172168\n",
            "gdp_per_capita                                0.167784\n",
            "new_deaths_smoothed_per_million               0.141521\n",
            "new_deaths_smoothed                           0.137084\n",
            "diabetes_prevalence                           0.135119\n",
            "total_deaths_per_million                      0.129188\n",
            "new_deaths_per_million                        0.129052\n",
            "total_deaths                                  0.124715\n",
            "new_deaths                                    0.124580\n",
            "population_density                            0.111181\n",
            "life_expectancy                               0.066389\n",
            "continent                                     0.059733\n",
            "new_cases_smoothed_per_million                0.036401\n",
            "new_cases_smoothed                            0.031888\n",
            "new_cases_per_million                         0.024674\n",
            "total_cases_per_million                       0.023532\n",
            "new_cases                                     0.020125\n",
            "total_cases                                   0.018983\n",
            "population                                    0.006414\n",
            "date                                          0.000000\n",
            "location                                      0.000000\n",
            "iso_code                                      0.000000\n",
            "dtype: float64\n"
          ]
        }
      ],
      "source": [
        "with pd.option_context('display.max_rows', None, 'display.max_columns', None):\n",
        "    print((df.isnull().sum()/df.shape[0]).sort_values(ascending=False))"
      ]
    },
    {
      "cell_type": "code",
      "execution_count": 8,
      "metadata": {},
      "outputs": [
        {
          "data": {
            "text/plain": [
              "169938   2022-03-20\n",
              "Name: date, dtype: datetime64[ns]"
            ]
          },
          "execution_count": 8,
          "metadata": {},
          "output_type": "execute_result"
        }
      ],
      "source": [
        "# what is the most recent date in the dataset\n",
        "df.date.sort_values(ascending=False)[0:1]"
      ]
    },
    {
      "cell_type": "code",
      "execution_count": 9,
      "metadata": {},
      "outputs": [
        {
          "data": {
            "text/plain": [
              "OWID_ASI    789\n",
              "OWID_HIC    789\n",
              "OWID_LMC    789\n",
              "OWID_NAM    789\n",
              "OWID_UMC    789\n",
              "OWID_WRL    789\n",
              "OWID_EUR    788\n",
              "OWID_EUN    788\n",
              "OWID_OCE    786\n",
              "OWID_INT    773\n",
              "OWID_AFR    767\n",
              "OWID_SAM    758\n",
              "OWID_LIC    757\n",
              "OWID_KOS    737\n",
              "OWID_CYN    317\n",
              "Name: iso_code, dtype: int64"
            ]
          },
          "execution_count": 9,
          "metadata": {},
          "output_type": "execute_result"
        }
      ],
      "source": [
        "# removing data that represent world/continents/classes\n",
        "df_owid = df.loc[df.iso_code.str.startswith('OWID_')]\n",
        "\n",
        "# checking all observations that match and counting how many entries\n",
        "df_owid.iso_code.value_counts()\n"
      ]
    },
    {
      "cell_type": "code",
      "execution_count": 10,
      "metadata": {},
      "outputs": [
        {
          "data": {
            "text/plain": [
              "0"
            ]
          },
          "execution_count": 10,
          "metadata": {},
          "output_type": "execute_result"
        }
      ],
      "source": [
        "# removing these from the main dataframe\n",
        "df = df.loc[~df.iso_code.str.startswith('OWID_')]\n",
        "\n",
        "# checking\n",
        "df.iso_code.str.startswith('OWID_').sum()"
      ]
    },
    {
      "cell_type": "code",
      "execution_count": 11,
      "metadata": {},
      "outputs": [
        {
          "data": {
            "text/html": [
              "<div>\n",
              "<style scoped>\n",
              "    .dataframe tbody tr th:only-of-type {\n",
              "        vertical-align: middle;\n",
              "    }\n",
              "\n",
              "    .dataframe tbody tr th {\n",
              "        vertical-align: top;\n",
              "    }\n",
              "\n",
              "    .dataframe thead th {\n",
              "        text-align: right;\n",
              "    }\n",
              "</style>\n",
              "<table border=\"1\" class=\"dataframe\">\n",
              "  <thead>\n",
              "    <tr style=\"text-align: right;\">\n",
              "      <th></th>\n",
              "      <th>iso_code</th>\n",
              "      <th>continent</th>\n",
              "      <th>location</th>\n",
              "      <th>date</th>\n",
              "      <th>total_cases</th>\n",
              "      <th>new_cases</th>\n",
              "      <th>new_cases_smoothed</th>\n",
              "      <th>total_deaths</th>\n",
              "      <th>new_deaths</th>\n",
              "      <th>new_deaths_smoothed</th>\n",
              "      <th>...</th>\n",
              "      <th>female_smokers</th>\n",
              "      <th>male_smokers</th>\n",
              "      <th>handwashing_facilities</th>\n",
              "      <th>hospital_beds_per_thousand</th>\n",
              "      <th>life_expectancy</th>\n",
              "      <th>human_development_index</th>\n",
              "      <th>excess_mortality_cumulative_absolute</th>\n",
              "      <th>excess_mortality_cumulative</th>\n",
              "      <th>excess_mortality</th>\n",
              "      <th>excess_mortality_cumulative_per_million</th>\n",
              "    </tr>\n",
              "  </thead>\n",
              "  <tbody>\n",
              "    <tr>\n",
              "      <th>167764</th>\n",
              "      <td>OWID_WRL</td>\n",
              "      <td>NaN</td>\n",
              "      <td>World</td>\n",
              "      <td>2022-03-20</td>\n",
              "      <td>470737068.0</td>\n",
              "      <td>1023616.0</td>\n",
              "      <td>1769491.143</td>\n",
              "      <td>6077582.0</td>\n",
              "      <td>3022.0</td>\n",
              "      <td>5174.143</td>\n",
              "      <td>...</td>\n",
              "      <td>6.434</td>\n",
              "      <td>34.635</td>\n",
              "      <td>60.13</td>\n",
              "      <td>2.705</td>\n",
              "      <td>72.58</td>\n",
              "      <td>0.737</td>\n",
              "      <td>NaN</td>\n",
              "      <td>NaN</td>\n",
              "      <td>NaN</td>\n",
              "      <td>NaN</td>\n",
              "    </tr>\n",
              "    <tr>\n",
              "      <th>162217</th>\n",
              "      <td>OWID_UMC</td>\n",
              "      <td>NaN</td>\n",
              "      <td>Upper middle income</td>\n",
              "      <td>2022-03-20</td>\n",
              "      <td>123064003.0</td>\n",
              "      <td>121290.0</td>\n",
              "      <td>177814.000</td>\n",
              "      <td>2476195.0</td>\n",
              "      <td>1182.0</td>\n",
              "      <td>1585.286</td>\n",
              "      <td>...</td>\n",
              "      <td>NaN</td>\n",
              "      <td>NaN</td>\n",
              "      <td>NaN</td>\n",
              "      <td>NaN</td>\n",
              "      <td>NaN</td>\n",
              "      <td>NaN</td>\n",
              "      <td>NaN</td>\n",
              "      <td>NaN</td>\n",
              "      <td>NaN</td>\n",
              "      <td>NaN</td>\n",
              "    </tr>\n",
              "    <tr>\n",
              "      <th>68084</th>\n",
              "      <td>OWID_HIC</td>\n",
              "      <td>NaN</td>\n",
              "      <td>High income</td>\n",
              "      <td>2022-03-20</td>\n",
              "      <td>258372770.0</td>\n",
              "      <td>722989.0</td>\n",
              "      <td>1306109.286</td>\n",
              "      <td>2266661.0</td>\n",
              "      <td>1286.0</td>\n",
              "      <td>2972.571</td>\n",
              "      <td>...</td>\n",
              "      <td>NaN</td>\n",
              "      <td>NaN</td>\n",
              "      <td>NaN</td>\n",
              "      <td>NaN</td>\n",
              "      <td>NaN</td>\n",
              "      <td>NaN</td>\n",
              "      <td>NaN</td>\n",
              "      <td>NaN</td>\n",
              "      <td>NaN</td>\n",
              "      <td>NaN</td>\n",
              "    </tr>\n",
              "    <tr>\n",
              "      <th>51129</th>\n",
              "      <td>OWID_EUR</td>\n",
              "      <td>NaN</td>\n",
              "      <td>Europe</td>\n",
              "      <td>2022-03-20</td>\n",
              "      <td>171892361.0</td>\n",
              "      <td>392063.0</td>\n",
              "      <td>757955.429</td>\n",
              "      <td>1753751.0</td>\n",
              "      <td>893.0</td>\n",
              "      <td>1829.714</td>\n",
              "      <td>...</td>\n",
              "      <td>NaN</td>\n",
              "      <td>NaN</td>\n",
              "      <td>NaN</td>\n",
              "      <td>NaN</td>\n",
              "      <td>NaN</td>\n",
              "      <td>NaN</td>\n",
              "      <td>NaN</td>\n",
              "      <td>NaN</td>\n",
              "      <td>NaN</td>\n",
              "      <td>NaN</td>\n",
              "    </tr>\n",
              "    <tr>\n",
              "      <th>114552</th>\n",
              "      <td>OWID_NAM</td>\n",
              "      <td>NaN</td>\n",
              "      <td>North America</td>\n",
              "      <td>2022-03-20</td>\n",
              "      <td>94091488.0</td>\n",
              "      <td>14991.0</td>\n",
              "      <td>43522.000</td>\n",
              "      <td>1403035.0</td>\n",
              "      <td>257.0</td>\n",
              "      <td>1077.000</td>\n",
              "      <td>...</td>\n",
              "      <td>NaN</td>\n",
              "      <td>NaN</td>\n",
              "      <td>NaN</td>\n",
              "      <td>NaN</td>\n",
              "      <td>NaN</td>\n",
              "      <td>NaN</td>\n",
              "      <td>NaN</td>\n",
              "      <td>NaN</td>\n",
              "      <td>NaN</td>\n",
              "      <td>NaN</td>\n",
              "    </tr>\n",
              "  </tbody>\n",
              "</table>\n",
              "<p>5 rows × 67 columns</p>\n",
              "</div>"
            ],
            "text/plain": [
              "        iso_code continent             location       date  total_cases  \\\n",
              "167764  OWID_WRL       NaN                World 2022-03-20  470737068.0   \n",
              "162217  OWID_UMC       NaN  Upper middle income 2022-03-20  123064003.0   \n",
              "68084   OWID_HIC       NaN          High income 2022-03-20  258372770.0   \n",
              "51129   OWID_EUR       NaN               Europe 2022-03-20  171892361.0   \n",
              "114552  OWID_NAM       NaN        North America 2022-03-20   94091488.0   \n",
              "\n",
              "        new_cases  new_cases_smoothed  total_deaths  new_deaths  \\\n",
              "167764  1023616.0         1769491.143     6077582.0      3022.0   \n",
              "162217   121290.0          177814.000     2476195.0      1182.0   \n",
              "68084    722989.0         1306109.286     2266661.0      1286.0   \n",
              "51129    392063.0          757955.429     1753751.0       893.0   \n",
              "114552    14991.0           43522.000     1403035.0       257.0   \n",
              "\n",
              "        new_deaths_smoothed  ...  female_smokers  male_smokers  \\\n",
              "167764             5174.143  ...           6.434        34.635   \n",
              "162217             1585.286  ...             NaN           NaN   \n",
              "68084              2972.571  ...             NaN           NaN   \n",
              "51129              1829.714  ...             NaN           NaN   \n",
              "114552             1077.000  ...             NaN           NaN   \n",
              "\n",
              "        handwashing_facilities  hospital_beds_per_thousand  life_expectancy  \\\n",
              "167764                   60.13                       2.705            72.58   \n",
              "162217                     NaN                         NaN              NaN   \n",
              "68084                      NaN                         NaN              NaN   \n",
              "51129                      NaN                         NaN              NaN   \n",
              "114552                     NaN                         NaN              NaN   \n",
              "\n",
              "        human_development_index  excess_mortality_cumulative_absolute  \\\n",
              "167764                    0.737                                   NaN   \n",
              "162217                      NaN                                   NaN   \n",
              "68084                       NaN                                   NaN   \n",
              "51129                       NaN                                   NaN   \n",
              "114552                      NaN                                   NaN   \n",
              "\n",
              "        excess_mortality_cumulative  excess_mortality  \\\n",
              "167764                          NaN               NaN   \n",
              "162217                          NaN               NaN   \n",
              "68084                           NaN               NaN   \n",
              "51129                           NaN               NaN   \n",
              "114552                          NaN               NaN   \n",
              "\n",
              "        excess_mortality_cumulative_per_million  \n",
              "167764                                      NaN  \n",
              "162217                                      NaN  \n",
              "68084                                       NaN  \n",
              "51129                                       NaN  \n",
              "114552                                      NaN  \n",
              "\n",
              "[5 rows x 67 columns]"
            ]
          },
          "execution_count": 11,
          "metadata": {},
          "output_type": "execute_result"
        }
      ],
      "source": [
        "df_owid.loc[df_owid.date == \"2022-03-20\"].sort_values(by=\"total_deaths\", ascending=False).head()"
      ]
    },
    {
      "cell_type": "code",
      "execution_count": 12,
      "metadata": {},
      "outputs": [
        {
          "data": {
            "text/plain": [
              "Asia                   789\n",
              "High income            789\n",
              "Lower middle income    789\n",
              "North America          789\n",
              "Upper middle income    789\n",
              "World                  789\n",
              "Europe                 788\n",
              "European Union         788\n",
              "Oceania                786\n",
              "International          773\n",
              "Africa                 767\n",
              "South America          758\n",
              "Low income             757\n",
              "Kosovo                 737\n",
              "Northern Cyprus        317\n",
              "Name: location, dtype: int64"
            ]
          },
          "execution_count": 12,
          "metadata": {},
          "output_type": "execute_result"
        }
      ],
      "source": [
        "# checking all owid entries\n",
        "df_owid.location.value_counts()"
      ]
    },
    {
      "cell_type": "code",
      "execution_count": 22,
      "metadata": {},
      "outputs": [
        {
          "data": {
            "text/plain": [
              "High income            789\n",
              "Lower middle income    789\n",
              "Upper middle income    789\n",
              "Low income             757\n",
              "Name: location, dtype: int64"
            ]
          },
          "execution_count": 22,
          "metadata": {},
          "output_type": "execute_result"
        }
      ],
      "source": [
        "# creating lists\n",
        "income_list = ['Low income', 'Lower middle income', 'Upper middle income', 'High income']\n",
        "continent_list = ['Asia', 'Europe', 'Oceania', 'Africa', 'South America', 'North America']\n",
        "\n",
        "# separating income-based data\n",
        "df_income = df_owid.loc[df_owid.location.isin(income_list)]\n",
        "df_income.location.value_counts()\n"
      ]
    },
    {
      "cell_type": "code",
      "execution_count": 23,
      "metadata": {},
      "outputs": [
        {
          "data": {
            "text/plain": [
              "Asia             789\n",
              "North America    789\n",
              "Europe           788\n",
              "Oceania          786\n",
              "Africa           767\n",
              "South America    758\n",
              "Name: location, dtype: int64"
            ]
          },
          "execution_count": 23,
          "metadata": {},
          "output_type": "execute_result"
        }
      ],
      "source": [
        "# separating continent based data\n",
        "df_continent = df_owid.loc[df_owid.location.isin(continent_list)]\n",
        "df_continent.location.value_counts()"
      ]
    },
    {
      "cell_type": "code",
      "execution_count": 24,
      "metadata": {},
      "outputs": [],
      "source": [
        "# 5 countries with most deaths up until 2022-03-20\n",
        "top5MostDeaths = df.loc[df.date == \"2022-03-20\"].sort_values(by=\"total_deaths\", ascending=False).head(5)\n",
        "\n",
        "# 5 countries with most cases up until 2022-03-20\n",
        "top5MostCases = df.loc[df.date == \"2022-03-20\"].sort_values(by=\"total_cases\", ascending=False).head(5)"
      ]
    },
    {
      "cell_type": "code",
      "execution_count": 87,
      "metadata": {},
      "outputs": [
        {
          "data": {
            "text/plain": [
              "Text(0, 0.5, 'Total number of cases')"
            ]
          },
          "execution_count": 87,
          "metadata": {},
          "output_type": "execute_result"
        },
        {
          "data": {
            "image/png": "[encoded data removed]",
            "text/plain": [
              "<Figure size 576x432 with 1 Axes>"
            ]
          },
          "metadata": {},
          "output_type": "display_data"
        }
      ],
      "source": [
        "# plotting bar plot of top5 most deaths and cases\n",
        "sns.set_theme()\n",
        "plt.figure(figsize=(8, 6))\n",
        "sns.set(font_scale = 1.25)\n",
        "p_mostCases = sns.barplot(x='location', y='total_cases', data=top5MostCases)\n",
        "p_mostCases.set_xlabel('Location', weight='bold', fontsize=16)\n",
        "p_mostCases.set_ylabel('Total number of cases', weight='bold', fontsize=16)"
      ]
    },
    {
      "cell_type": "markdown",
      "metadata": {},
      "source": [
        "* Plotar um gráfico de barras para os 5 países com mais mortes\n",
        "    * `df.loc[df.date == '2020-06-14', ['location', 'total_deaths']].sort_values(by=\"total_deaths\", ascending=False)[1:6]`\n",
        "    * `ax.bar('location', 'total_deaths', data=top5_total_deaths)`\n",
        "* Plotar um gráfico de linhas para ver a evolução do total de casos de COVID-19 no mundo.\n",
        "    * `df.loc[df.location == \"World\", \"total_deaths\"].reset_index(drop=True).plot()`\n",
        "* [OPCIONAL] Plotar um gráfico de dispersão considerando `gdp_per_capita` (ou seja, o PIB dos países) pelo número total de mortos. Pegue a data mais recente apenas.\n",
        "    * Lembre-se que não é nada conclusivo, pois envolve fatores como proporcão de testes, etc."
      ]
    },
    {
      "cell_type": "code",
      "execution_count": null,
      "metadata": {},
      "outputs": [],
      "source": []
    },
    {
      "cell_type": "markdown",
      "metadata": {
        "id": "SViA5VZ7DYLA"
      },
      "source": [
        "### Análise Exploratória para o Brasil\n",
        "\n",
        "* Criar uma cópia do DataFrame apenas com o Brasil\n",
        "    * `df_brasil = df.loc[df.location == \"Brazil\"].copy()`\n",
        "* Identificar quando foi registrada a primeira morte no Brasil\n",
        "* Identificar quantos dias demorou para registrarmos a primeira morte, considerando o primeiro caso de COVID-19 registrado.\n",
        "* Plotar gráficos de linha em escalas linear e logarítmica para os casos totais e mortes totais."
      ]
    },
    {
      "cell_type": "code",
      "execution_count": 15,
      "metadata": {
        "id": "UDQA502_hAwI"
      },
      "outputs": [],
      "source": [
        "# getting data from Brazil only\n",
        "df_brasil = df.loc[df.location == \"Brazil\"].copy()"
      ]
    },
    {
      "cell_type": "markdown",
      "metadata": {
        "id": "LCsiXvM3BcsO"
      },
      "source": [
        "## Conclusão\n",
        "\n",
        "*Escreva suas conclusões e análises sobre os dados relativos à COVID-19...*"
      ]
    }
  ],
  "metadata": {
    "colab": {
      "collapsed_sections": [],
      "name": "[Template] Panorama do COVID-19 no Brasil.ipynb",
      "provenance": []
    },
    "kernelspec": {
      "display_name": "Python 3",
      "name": "python3"
    },
    "language_info": {
      "codemirror_mode": {
        "name": "ipython",
        "version": 3
      },
      "file_extension": ".py",
      "mimetype": "text/x-python",
      "name": "python",
      "nbconvert_exporter": "python",
      "pygments_lexer": "ipython3",
      "version": "3.9.7"
    }
  },
  "nbformat": 4,
  "nbformat_minor": 0
}
