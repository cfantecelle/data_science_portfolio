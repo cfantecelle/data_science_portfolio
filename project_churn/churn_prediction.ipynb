{
  "cells": [
    {
      "cell_type": "markdown",
      "metadata": {
        "id": "sC2BFMOKN1M7"
      },
      "source": [
        "---\n",
        "<img alt=\"Colaboratory logo\" width=\"15%\" src=\"https://raw.githubusercontent.com/carlosfab/escola-data-science/master/img/novo_logo_bg_claro.png\">\n",
        "\n",
        "#### **Data Science na Prática 3.0**\n",
        "*by [sigmoidal.ai](https://sigmoidal.ai)*  \n",
        "\n",
        "---"
      ]
    },
    {
      "cell_type": "markdown",
      "metadata": {
        "id": "IR56trFcPcC1"
      },
      "source": [
        "# Churn Prediction\n",
        "\n",
        "A good business strategy for revenue growth is costumer retention. One study has previousley demonstrated that **80%** of a business' future profits will come from ***just* 20%** of the company's existing costumers<sup>[1](#references)</sup>. Also, when comparing to the acquisition of new clients, custumer retention is estimated to be 5-25 times cheaper<sup>[2](#references)</sup>. This where churn and churn rates come in.\n",
        "\n",
        "<p align=center>\n",
        "<img src=\"img/money_loss.jpg\" width=\"50%\"><br>\n",
        "<i><sup>Image credits: upklyak (<a href=\"https://br.freepik.com/vetores-gratis/queda-da-venda-da-recessao-economica-da-crise-financeira_29942020.htm\">www.freepik.com</a>)</sup></i>\n",
        "</p>\n",
        "\n",
        "### What is Churn?\n",
        "\n",
        "Churn represents the number of clients, while the *churn rate* refers to the percentage of users that have been lost to the company over a determined period of time. That is:\n",
        "\n",
        "**Churn Rate** = $C_B - C_E \\over C_B$ $\\times 100$, where $C_B$ is the number of customers at the beginning of the period and $C_E$ is the number of customers at the end of the period.\n",
        "\n",
        "For telecom companies, the churn rate has been estimated at 1.9-2.1% monthly, and 10-67% anually<sup>[3](#references)</sup>. These high churn rates demonstrate why it is important for companies to identify potential *churners* in order to try to prevent this loss of revenue. In this notebook, we will analyse a churn dataset from such a company and employ machine learning strategies to prevent potential churners."
      ]
    },
    {
      "cell_type": "markdown",
      "metadata": {},
      "source": [
        "# Getting the data\n",
        "\n",
        "The data that is used in this project were originally publish as part ot [IBM Developer's learning platform](https://developer.ibm.com/tutorials/watson-studio-using-jupyter-notebook/) and is also available on [Kaggle](https://www.kaggle.com/datasets/blastchar/telco-customer-churn). It contains information about customers who left within the last month of the analysed period and other customer information (demographics, account information, services that were signed up)."
      ]
    },
    {
      "cell_type": "code",
      "execution_count": 99,
      "metadata": {},
      "outputs": [],
      "source": [
        "# Importing libraries\n",
        "import pandas as pd\n",
        "import numpy as np\n",
        "import matplotlib.pyplot as plt\n",
        "import seaborn as sns\n",
        "from sklearn.preprocessing import LabelEncoder, StandardScaler\n",
        "from sklearn.model_selection import train_test_split\n",
        "from imblearn.under_sampling import RandomUnderSampler\n",
        "\n",
        "# Getting the data\n",
        "df = pd.read_csv(\"data/WA_Fn-UseC_-Telco-Customer-Churn.csv\")\n",
        "\n",
        "# Checking first entries of the dataset\n",
        "df.head()\n",
        "\n",
        "# Life, the Universe, and Everything\n",
        "np.random.seed(42)"
      ]
    },
    {
      "cell_type": "markdown",
      "metadata": {},
      "source": [
        "## Data variables\n",
        "\n",
        "As mentioned previously, the dataset contains several columns providing information about the customers:"
      ]
    },
    {
      "cell_type": "markdown",
      "metadata": {},
      "source": [
        "* `customerID` = Unique ID for each costumer.\n",
        "* `gender` = The costumers identified gender.\n",
        "* `SeniorCitizen` = Wether the customer is a senior citizen (1) or not (0).\n",
        "* `Partner` = Wether the customer has a partner (Yes) or not (No).\n",
        "* `Dependents` = Whether the customer has dependents (Yes) or not (No).\n",
        "* `tenure` = Number of months the customer has stayed with the company.\n",
        "* `PhoneService` = Whether the customer has a phone service (Yes) or not (No).\n",
        "* `MultipleLines` = Whether the customer has multiple lines (Yes) or not (No *or* No phone service).\n",
        "* `InternetService` = Customer’s internet service provider (DSL, Fiber optic, No).\n",
        "* `OnlineSecurity` = Whether the customer has online security (Yes) or not (No *or* No internet service).\n",
        "* `OnlineBackup` = Whether the customer has online backup (Yes) or not (No *or* No internet service).\n",
        "* `DeviceProtection` = Whether the customer has device protection (Yes) or not (No *or* No internet service).\n",
        "* `TechSupport` = Whether the customer has tech support (Yes) or not (No *or* No internet service).\n",
        "* `StreamingTV` = Whether the customer has streaming TV (Yes) or not (No *or* No internet service).\n",
        "* `StreamingMovies` = Whether the customer has streaming movies (Yes) or not (No *or* No internet service).\n",
        "* `Contract` = The contract term of the customer (Month-to-month, One year, Two year).\n",
        "* `PaperlessBilling` = Whether the customer has paperless billing (Yes) or not (No).\n",
        "* `PaymentMethod` = The customer’s payment method (Electronic check, Mailed check, Bank transfer (automatic), Credit card (automatic)).\n",
        "* `MonthlyCharges` = The amount charged to the customer monthly.\n",
        "* `TotalCharges` = The total amount charged to the customer.\n",
        "* `Churn` = Whether the customer churned (Yes) or not (No)."
      ]
    },
    {
      "cell_type": "markdown",
      "metadata": {},
      "source": [
        "## Data Preparation\n",
        "\n",
        "### Exploratory analysis\n",
        "\n",
        "First, we will begin by looking at the variables and their characteristics (type, missing values and descriptive statistics)."
      ]
    },
    {
      "cell_type": "code",
      "execution_count": 100,
      "metadata": {},
      "outputs": [
        {
          "data": {
            "text/plain": [
              "customerID           object\n",
              "gender               object\n",
              "SeniorCitizen         int64\n",
              "Partner              object\n",
              "Dependents           object\n",
              "tenure                int64\n",
              "PhoneService         object\n",
              "MultipleLines        object\n",
              "InternetService      object\n",
              "OnlineSecurity       object\n",
              "OnlineBackup         object\n",
              "DeviceProtection     object\n",
              "TechSupport          object\n",
              "StreamingTV          object\n",
              "StreamingMovies      object\n",
              "Contract             object\n",
              "PaperlessBilling     object\n",
              "PaymentMethod        object\n",
              "MonthlyCharges      float64\n",
              "TotalCharges         object\n",
              "Churn                object\n",
              "dtype: object"
            ]
          },
          "execution_count": 100,
          "metadata": {},
          "output_type": "execute_result"
        }
      ],
      "source": [
        "# Listing data types\n",
        "df.dtypes"
      ]
    },
    {
      "cell_type": "code",
      "execution_count": 101,
      "metadata": {},
      "outputs": [
        {
          "data": {
            "text/plain": [
              "customerID          0\n",
              "gender              0\n",
              "SeniorCitizen       0\n",
              "Partner             0\n",
              "Dependents          0\n",
              "tenure              0\n",
              "PhoneService        0\n",
              "MultipleLines       0\n",
              "InternetService     0\n",
              "OnlineSecurity      0\n",
              "OnlineBackup        0\n",
              "DeviceProtection    0\n",
              "TechSupport         0\n",
              "StreamingTV         0\n",
              "StreamingMovies     0\n",
              "Contract            0\n",
              "PaperlessBilling    0\n",
              "PaymentMethod       0\n",
              "MonthlyCharges      0\n",
              "TotalCharges        0\n",
              "Churn               0\n",
              "dtype: int64"
            ]
          },
          "execution_count": 101,
          "metadata": {},
          "output_type": "execute_result"
        }
      ],
      "source": [
        "# Checking null values\n",
        "df.isnull().sum()"
      ]
    },
    {
      "cell_type": "code",
      "execution_count": 102,
      "metadata": {},
      "outputs": [
        {
          "data": {
            "text/plain": [
              "customerID          7043\n",
              "gender                 2\n",
              "SeniorCitizen          2\n",
              "Partner                2\n",
              "Dependents             2\n",
              "tenure                73\n",
              "PhoneService           2\n",
              "MultipleLines          3\n",
              "InternetService        3\n",
              "OnlineSecurity         3\n",
              "OnlineBackup           3\n",
              "DeviceProtection       3\n",
              "TechSupport            3\n",
              "StreamingTV            3\n",
              "StreamingMovies        3\n",
              "Contract               3\n",
              "PaperlessBilling       2\n",
              "PaymentMethod          4\n",
              "MonthlyCharges      1585\n",
              "TotalCharges        6531\n",
              "Churn                  2\n",
              "dtype: int64"
            ]
          },
          "execution_count": 102,
          "metadata": {},
          "output_type": "execute_result"
        }
      ],
      "source": [
        "# Checking unique values\n",
        "df.nunique()"
      ]
    },
    {
      "cell_type": "markdown",
      "metadata": {},
      "source": [
        "Here, no columns present null values and `TotalCharges` column is supposed to be float type but is set as object. Also, several columns are binary or with multiple values representing categories that need to be treated as such (need to be encoded). Upon trying to convert `TotalCharges` to numeric:"
      ]
    },
    {
      "cell_type": "code",
      "execution_count": 103,
      "metadata": {},
      "outputs": [],
      "source": [
        "# Trying to convert column\n",
        "#df['TotalCharges'].astype('float64')"
      ]
    },
    {
      "cell_type": "markdown",
      "metadata": {},
      "source": [
        "We face an error:\n",
        "> `ValueError: could not convert string to float: ''`\n",
        "\n",
        "This means that instead of null values, the empty values were filled as an empty string, which generates an error. For this reason, we will convert all empty strings to null values and see what we get:"
      ]
    },
    {
      "cell_type": "code",
      "execution_count": 104,
      "metadata": {},
      "outputs": [
        {
          "name": "stdout",
          "output_type": "stream",
          "text": [
            "Empty values in \"TotalCharges\" column: 11\n"
          ]
        }
      ],
      "source": [
        "# R7eplacing empty string or records with only spaces with NaN\n",
        "df_clean = df.replace(r'^\\s*$', np.NaN, regex=True)\n",
        "print('Empty values in \"TotalCharges\" column: {}'.format(df_clean['TotalCharges'].isnull().sum()))"
      ]
    },
    {
      "cell_type": "markdown",
      "metadata": {},
      "source": [
        "Since these represent very few empty data points, we are going to replace the missing values with the median from the `TotalCharges` column, which represents a measurement less sensitive to outliers in the data."
      ]
    },
    {
      "cell_type": "code",
      "execution_count": 105,
      "metadata": {
        "id": "ThH0bud3XImv"
      },
      "outputs": [
        {
          "name": "stdout",
          "output_type": "stream",
          "text": [
            "Empty values in \"TotalCharges\" column: 0\n"
          ]
        }
      ],
      "source": [
        "# Getting the column median\n",
        "median_TotalCharges = df_clean.TotalCharges.median()\n",
        "\n",
        "# Replacing values\n",
        "df_clean['TotalCharges'].fillna(median_TotalCharges, inplace=True)\n",
        "\n",
        "# Converting to float\n",
        "df_clean['TotalCharges'] = df_clean['TotalCharges'].astype('float64')\n",
        "\n",
        "# Checking empty values again\n",
        "print('Empty values in \"TotalCharges\" column: {}'.format(df_clean['TotalCharges'].isnull().sum()))"
      ]
    },
    {
      "cell_type": "markdown",
      "metadata": {},
      "source": [
        "Now, we describe the numeric columns using descriptive statistics:"
      ]
    },
    {
      "cell_type": "code",
      "execution_count": 106,
      "metadata": {},
      "outputs": [
        {
          "data": {
            "text/html": [
              "<div>\n",
              "<style scoped>\n",
              "    .dataframe tbody tr th:only-of-type {\n",
              "        vertical-align: middle;\n",
              "    }\n",
              "\n",
              "    .dataframe tbody tr th {\n",
              "        vertical-align: top;\n",
              "    }\n",
              "\n",
              "    .dataframe thead th {\n",
              "        text-align: right;\n",
              "    }\n",
              "</style>\n",
              "<table border=\"1\" class=\"dataframe\">\n",
              "  <thead>\n",
              "    <tr style=\"text-align: right;\">\n",
              "      <th></th>\n",
              "      <th>SeniorCitizen</th>\n",
              "      <th>tenure</th>\n",
              "      <th>MonthlyCharges</th>\n",
              "      <th>TotalCharges</th>\n",
              "    </tr>\n",
              "  </thead>\n",
              "  <tbody>\n",
              "    <tr>\n",
              "      <th>count</th>\n",
              "      <td>7043.000000</td>\n",
              "      <td>7043.000000</td>\n",
              "      <td>7043.000000</td>\n",
              "      <td>7043.000000</td>\n",
              "    </tr>\n",
              "    <tr>\n",
              "      <th>mean</th>\n",
              "      <td>0.162147</td>\n",
              "      <td>32.371149</td>\n",
              "      <td>64.761692</td>\n",
              "      <td>2281.916928</td>\n",
              "    </tr>\n",
              "    <tr>\n",
              "      <th>std</th>\n",
              "      <td>0.368612</td>\n",
              "      <td>24.559481</td>\n",
              "      <td>30.090047</td>\n",
              "      <td>2265.270398</td>\n",
              "    </tr>\n",
              "    <tr>\n",
              "      <th>min</th>\n",
              "      <td>0.000000</td>\n",
              "      <td>0.000000</td>\n",
              "      <td>18.250000</td>\n",
              "      <td>18.800000</td>\n",
              "    </tr>\n",
              "    <tr>\n",
              "      <th>25%</th>\n",
              "      <td>0.000000</td>\n",
              "      <td>9.000000</td>\n",
              "      <td>35.500000</td>\n",
              "      <td>402.225000</td>\n",
              "    </tr>\n",
              "    <tr>\n",
              "      <th>50%</th>\n",
              "      <td>0.000000</td>\n",
              "      <td>29.000000</td>\n",
              "      <td>70.350000</td>\n",
              "      <td>1397.475000</td>\n",
              "    </tr>\n",
              "    <tr>\n",
              "      <th>75%</th>\n",
              "      <td>0.000000</td>\n",
              "      <td>55.000000</td>\n",
              "      <td>89.850000</td>\n",
              "      <td>3786.600000</td>\n",
              "    </tr>\n",
              "    <tr>\n",
              "      <th>max</th>\n",
              "      <td>1.000000</td>\n",
              "      <td>72.000000</td>\n",
              "      <td>118.750000</td>\n",
              "      <td>8684.800000</td>\n",
              "    </tr>\n",
              "  </tbody>\n",
              "</table>\n",
              "</div>"
            ],
            "text/plain": [
              "       SeniorCitizen       tenure  MonthlyCharges  TotalCharges\n",
              "count    7043.000000  7043.000000     7043.000000   7043.000000\n",
              "mean        0.162147    32.371149       64.761692   2281.916928\n",
              "std         0.368612    24.559481       30.090047   2265.270398\n",
              "min         0.000000     0.000000       18.250000     18.800000\n",
              "25%         0.000000     9.000000       35.500000    402.225000\n",
              "50%         0.000000    29.000000       70.350000   1397.475000\n",
              "75%         0.000000    55.000000       89.850000   3786.600000\n",
              "max         1.000000    72.000000      118.750000   8684.800000"
            ]
          },
          "execution_count": 106,
          "metadata": {},
          "output_type": "execute_result"
        }
      ],
      "source": [
        "# Summary Statistics\n",
        "df_clean.describe()"
      ]
    },
    {
      "cell_type": "markdown",
      "metadata": {},
      "source": [
        "From this, it appears that the dataset does not contain outliers. Let's check this fact by using boxplots."
      ]
    },
    {
      "cell_type": "code",
      "execution_count": 107,
      "metadata": {},
      "outputs": [
        {
          "data": {
            "image/png": "[encoded data removed]",
            "text/plain": [
              "<Figure size 1296x288 with 3 Axes>"
            ]
          },
          "metadata": {
            "needs_background": "light"
          },
          "output_type": "display_data"
        }
      ],
      "source": [
        "## Creating botplots of numeric data\n",
        "\n",
        "# Defining suplots\n",
        "fig, axs = plt.subplots(1, 3, figsize=(18, 4))\n",
        "\n",
        "# Creating boxplots in each ax\n",
        "axs[0].boxplot(df_clean['tenure'], notch=0, vert=1, whis=1.5, patch_artist=True)\n",
        "axs[1].boxplot(df_clean['MonthlyCharges'], notch=0, vert=1, whis=1.5, patch_artist=True)\n",
        "axs[2].boxplot(df_clean['TotalCharges'], notch=0, vert=1, whis=1.5, patch_artist=True)\n",
        "\n",
        "# Adding titles\n",
        "axs[0].set(title='Tenure', ylabel='Months', xlabel='')\n",
        "axs[1].set(title='Monthly Charges', ylabel='Amount', xlabel='')\n",
        "axs[2].set(title='Total Charges', ylabel='Amount', xlabel='');"
      ]
    },
    {
      "cell_type": "markdown",
      "metadata": {},
      "source": [
        "With these, we confirm that there are no outliers in our data. It does us good to see how our variables are distributed."
      ]
    },
    {
      "cell_type": "code",
      "execution_count": 108,
      "metadata": {},
      "outputs": [
        {
          "data": {
            "image/png": "[encoded data removed]",
            "text/plain": [
              "<Figure size 1080x504 with 4 Axes>"
            ]
          },
          "metadata": {
            "needs_background": "light"
          },
          "output_type": "display_data"
        }
      ],
      "source": [
        "# Histograms of numeric variables\n",
        "df_clean[['tenure', 'MonthlyCharges', 'TotalCharges']].hist(figsize=(15,7), bins = 20);"
      ]
    },
    {
      "cell_type": "markdown",
      "metadata": {},
      "source": [
        "Overall, we can see that the distribution of values are skewed towards their ends. The `tenure` variable, representing the months of fidelity with the service, seems to indicate varying degrees of costumer retention, while most of the customers appears to stay for very few months within the service even though we have a high number of costumers staying longer.\n",
        "\n",
        "`MonthlyCharges` indicate that there are varying degrees of charges, ultimately depending on how many services the client pays for. While those who pay fewer charges seem to dominate the data, the collective number of clients that pays for more services (mostly in the middle range) outnumbers those paying for less services. \n",
        "\n",
        "`TotalCharges` on the other hand shows that most charges stay in the lower end of the data range.\n",
        "\n",
        "Another aspect which is important when dealing with datasets with categorical variables is the number of unique in each column."
      ]
    },
    {
      "cell_type": "code",
      "execution_count": 109,
      "metadata": {},
      "outputs": [],
      "source": [
        "# Defining function to print nice table\n",
        "def uniqueValuesPerColumn(df):\n",
        "    \"\"\"\n",
        "    Takes a dataframe and counts unique values in each\n",
        "    categorical column of the dataset.\n",
        "    \"\"\"\n",
        "    \n",
        "    variables = df.select_dtypes('object').columns.to_list()\n",
        "\n",
        "    unique_values = []\n",
        "\n",
        "    for variable in variables:\n",
        "        unique_values.append(', '.join(df[variable].unique()))\n",
        "    \n",
        "    unique_df = pd.DataFrame({'Variable': variables,\n",
        "                              'Unique values': unique_values})\n",
        "    \n",
        "    return(unique_df)"
      ]
    },
    {
      "cell_type": "code",
      "execution_count": 110,
      "metadata": {},
      "outputs": [],
      "source": [
        "# First we drop costumerID column\n",
        "df_clean.drop(\"customerID\", axis=1, inplace=True)"
      ]
    },
    {
      "cell_type": "code",
      "execution_count": 111,
      "metadata": {},
      "outputs": [
        {
          "data": {
            "text/html": [
              "<div>\n",
              "<style scoped>\n",
              "    .dataframe tbody tr th:only-of-type {\n",
              "        vertical-align: middle;\n",
              "    }\n",
              "\n",
              "    .dataframe tbody tr th {\n",
              "        vertical-align: top;\n",
              "    }\n",
              "\n",
              "    .dataframe thead th {\n",
              "        text-align: right;\n",
              "    }\n",
              "</style>\n",
              "<table border=\"1\" class=\"dataframe\">\n",
              "  <thead>\n",
              "    <tr style=\"text-align: right;\">\n",
              "      <th></th>\n",
              "      <th>Variable</th>\n",
              "      <th>Unique values</th>\n",
              "    </tr>\n",
              "  </thead>\n",
              "  <tbody>\n",
              "    <tr>\n",
              "      <th>0</th>\n",
              "      <td>gender</td>\n",
              "      <td>Female, Male</td>\n",
              "    </tr>\n",
              "    <tr>\n",
              "      <th>1</th>\n",
              "      <td>Partner</td>\n",
              "      <td>Yes, No</td>\n",
              "    </tr>\n",
              "    <tr>\n",
              "      <th>2</th>\n",
              "      <td>Dependents</td>\n",
              "      <td>No, Yes</td>\n",
              "    </tr>\n",
              "    <tr>\n",
              "      <th>3</th>\n",
              "      <td>PhoneService</td>\n",
              "      <td>No, Yes</td>\n",
              "    </tr>\n",
              "    <tr>\n",
              "      <th>4</th>\n",
              "      <td>MultipleLines</td>\n",
              "      <td>No phone service, No, Yes</td>\n",
              "    </tr>\n",
              "    <tr>\n",
              "      <th>5</th>\n",
              "      <td>InternetService</td>\n",
              "      <td>DSL, Fiber optic, No</td>\n",
              "    </tr>\n",
              "    <tr>\n",
              "      <th>6</th>\n",
              "      <td>OnlineSecurity</td>\n",
              "      <td>No, Yes, No internet service</td>\n",
              "    </tr>\n",
              "    <tr>\n",
              "      <th>7</th>\n",
              "      <td>OnlineBackup</td>\n",
              "      <td>Yes, No, No internet service</td>\n",
              "    </tr>\n",
              "    <tr>\n",
              "      <th>8</th>\n",
              "      <td>DeviceProtection</td>\n",
              "      <td>No, Yes, No internet service</td>\n",
              "    </tr>\n",
              "    <tr>\n",
              "      <th>9</th>\n",
              "      <td>TechSupport</td>\n",
              "      <td>No, Yes, No internet service</td>\n",
              "    </tr>\n",
              "    <tr>\n",
              "      <th>10</th>\n",
              "      <td>StreamingTV</td>\n",
              "      <td>No, Yes, No internet service</td>\n",
              "    </tr>\n",
              "    <tr>\n",
              "      <th>11</th>\n",
              "      <td>StreamingMovies</td>\n",
              "      <td>No, Yes, No internet service</td>\n",
              "    </tr>\n",
              "    <tr>\n",
              "      <th>12</th>\n",
              "      <td>Contract</td>\n",
              "      <td>Month-to-month, One year, Two year</td>\n",
              "    </tr>\n",
              "    <tr>\n",
              "      <th>13</th>\n",
              "      <td>PaperlessBilling</td>\n",
              "      <td>Yes, No</td>\n",
              "    </tr>\n",
              "    <tr>\n",
              "      <th>14</th>\n",
              "      <td>PaymentMethod</td>\n",
              "      <td>Electronic check, Mailed check, Bank transfer ...</td>\n",
              "    </tr>\n",
              "    <tr>\n",
              "      <th>15</th>\n",
              "      <td>Churn</td>\n",
              "      <td>No, Yes</td>\n",
              "    </tr>\n",
              "  </tbody>\n",
              "</table>\n",
              "</div>"
            ],
            "text/plain": [
              "            Variable                                      Unique values\n",
              "0             gender                                       Female, Male\n",
              "1            Partner                                            Yes, No\n",
              "2         Dependents                                            No, Yes\n",
              "3       PhoneService                                            No, Yes\n",
              "4      MultipleLines                          No phone service, No, Yes\n",
              "5    InternetService                               DSL, Fiber optic, No\n",
              "6     OnlineSecurity                       No, Yes, No internet service\n",
              "7       OnlineBackup                       Yes, No, No internet service\n",
              "8   DeviceProtection                       No, Yes, No internet service\n",
              "9        TechSupport                       No, Yes, No internet service\n",
              "10       StreamingTV                       No, Yes, No internet service\n",
              "11   StreamingMovies                       No, Yes, No internet service\n",
              "12          Contract                 Month-to-month, One year, Two year\n",
              "13  PaperlessBilling                                            Yes, No\n",
              "14     PaymentMethod  Electronic check, Mailed check, Bank transfer ...\n",
              "15             Churn                                            No, Yes"
            ]
          },
          "execution_count": 111,
          "metadata": {},
          "output_type": "execute_result"
        }
      ],
      "source": [
        "# Now getting unique values:\n",
        "pd.option_context('display.max_colwidth', -1)\n",
        "uniqueValuesPerColumn(df_clean)"
      ]
    },
    {
      "cell_type": "markdown",
      "metadata": {},
      "source": [
        "At first glance, variables which contain `No`, `Yes` and `No internet service` as entries might seem to present an overlap between `No` and `No internet service`. This is untrue. Having one of those entries as `No` means that the costumer might have internet service, while not having the especific additional serviced mentioned in the column. We can check this fact."
      ]
    },
    {
      "cell_type": "code",
      "execution_count": 112,
      "metadata": {},
      "outputs": [
        {
          "data": {
            "text/html": [
              "<div>\n",
              "<style scoped>\n",
              "    .dataframe tbody tr th:only-of-type {\n",
              "        vertical-align: middle;\n",
              "    }\n",
              "\n",
              "    .dataframe tbody tr th {\n",
              "        vertical-align: top;\n",
              "    }\n",
              "\n",
              "    .dataframe thead th {\n",
              "        text-align: right;\n",
              "    }\n",
              "</style>\n",
              "<table border=\"1\" class=\"dataframe\">\n",
              "  <thead>\n",
              "    <tr style=\"text-align: right;\">\n",
              "      <th></th>\n",
              "      <th>Variable</th>\n",
              "      <th>Unique values</th>\n",
              "    </tr>\n",
              "  </thead>\n",
              "  <tbody>\n",
              "    <tr>\n",
              "      <th>0</th>\n",
              "      <td>OnlineSecurity</td>\n",
              "      <td>No internet service</td>\n",
              "    </tr>\n",
              "    <tr>\n",
              "      <th>1</th>\n",
              "      <td>OnlineBackup</td>\n",
              "      <td>No internet service</td>\n",
              "    </tr>\n",
              "    <tr>\n",
              "      <th>2</th>\n",
              "      <td>DeviceProtection</td>\n",
              "      <td>No internet service</td>\n",
              "    </tr>\n",
              "    <tr>\n",
              "      <th>3</th>\n",
              "      <td>TechSupport</td>\n",
              "      <td>No internet service</td>\n",
              "    </tr>\n",
              "    <tr>\n",
              "      <th>4</th>\n",
              "      <td>StreamingTV</td>\n",
              "      <td>No internet service</td>\n",
              "    </tr>\n",
              "    <tr>\n",
              "      <th>5</th>\n",
              "      <td>StreamingMovies</td>\n",
              "      <td>No internet service</td>\n",
              "    </tr>\n",
              "  </tbody>\n",
              "</table>\n",
              "</div>"
            ],
            "text/plain": [
              "           Variable        Unique values\n",
              "0    OnlineSecurity  No internet service\n",
              "1      OnlineBackup  No internet service\n",
              "2  DeviceProtection  No internet service\n",
              "3       TechSupport  No internet service\n",
              "4       StreamingTV  No internet service\n",
              "5   StreamingMovies  No internet service"
            ]
          },
          "execution_count": 112,
          "metadata": {},
          "output_type": "execute_result"
        }
      ],
      "source": [
        "# Subsetting only those without internet service\n",
        "df_noInternet = df_clean[df_clean['InternetService'] == 'No']\n",
        "\n",
        "# Getting unique values from resulting dataset\n",
        "cols = ['OnlineSecurity', 'OnlineBackup', 'DeviceProtection', 'TechSupport', 'StreamingTV', 'StreamingMovies']\n",
        "uniqueValuesPerColumn(df_noInternet[cols])"
      ]
    },
    {
      "cell_type": "code",
      "execution_count": 113,
      "metadata": {},
      "outputs": [
        {
          "data": {
            "text/html": [
              "<div>\n",
              "<style scoped>\n",
              "    .dataframe tbody tr th:only-of-type {\n",
              "        vertical-align: middle;\n",
              "    }\n",
              "\n",
              "    .dataframe tbody tr th {\n",
              "        vertical-align: top;\n",
              "    }\n",
              "\n",
              "    .dataframe thead th {\n",
              "        text-align: right;\n",
              "    }\n",
              "</style>\n",
              "<table border=\"1\" class=\"dataframe\">\n",
              "  <thead>\n",
              "    <tr style=\"text-align: right;\">\n",
              "      <th></th>\n",
              "      <th>Variable</th>\n",
              "      <th>Unique values</th>\n",
              "    </tr>\n",
              "  </thead>\n",
              "  <tbody>\n",
              "    <tr>\n",
              "      <th>0</th>\n",
              "      <td>OnlineSecurity</td>\n",
              "      <td>No, Yes</td>\n",
              "    </tr>\n",
              "    <tr>\n",
              "      <th>1</th>\n",
              "      <td>OnlineBackup</td>\n",
              "      <td>Yes, No</td>\n",
              "    </tr>\n",
              "    <tr>\n",
              "      <th>2</th>\n",
              "      <td>DeviceProtection</td>\n",
              "      <td>No, Yes</td>\n",
              "    </tr>\n",
              "    <tr>\n",
              "      <th>3</th>\n",
              "      <td>TechSupport</td>\n",
              "      <td>No, Yes</td>\n",
              "    </tr>\n",
              "    <tr>\n",
              "      <th>4</th>\n",
              "      <td>StreamingTV</td>\n",
              "      <td>No, Yes</td>\n",
              "    </tr>\n",
              "    <tr>\n",
              "      <th>5</th>\n",
              "      <td>StreamingMovies</td>\n",
              "      <td>No, Yes</td>\n",
              "    </tr>\n",
              "  </tbody>\n",
              "</table>\n",
              "</div>"
            ],
            "text/plain": [
              "           Variable Unique values\n",
              "0    OnlineSecurity       No, Yes\n",
              "1      OnlineBackup       Yes, No\n",
              "2  DeviceProtection       No, Yes\n",
              "3       TechSupport       No, Yes\n",
              "4       StreamingTV       No, Yes\n",
              "5   StreamingMovies       No, Yes"
            ]
          },
          "execution_count": 113,
          "metadata": {},
          "output_type": "execute_result"
        }
      ],
      "source": [
        "# Subsetting only those with internet service\n",
        "df_Internet = df_clean[df_clean['InternetService'] != 'No']\n",
        "\n",
        "# Getting unique values from resulting dataset\n",
        "cols = ['OnlineSecurity', 'OnlineBackup', 'DeviceProtection', 'TechSupport', 'StreamingTV', 'StreamingMovies']\n",
        "uniqueValuesPerColumn(df_Internet[cols])"
      ]
    },
    {
      "cell_type": "markdown",
      "metadata": {},
      "source": [
        "With this point proven, we leave these variables intact. Although this represents redundant information, changing these variables to `No` would provide incorrect information to our model.\n",
        "\n",
        "Another point of interest is class imbalance. In our dataset, classes that might represent a influence in our dataset are the variables `gender` (which might affect some datasets, depending on context, but I do not believe this is the case for our current analysis) and our target variable, `Churn`. Let's check how these are distributed."
      ]
    },
    {
      "cell_type": "code",
      "execution_count": 114,
      "metadata": {},
      "outputs": [
        {
          "data": {
            "image/png": "[encoded data removed]",
            "text/plain": [
              "<Figure size 864x288 with 2 Axes>"
            ]
          },
          "metadata": {
            "needs_background": "light"
          },
          "output_type": "display_data"
        }
      ],
      "source": [
        "# Defining plots\n",
        "fig, axs = plt.subplots(1, 2, figsize=(12,4))\n",
        "sns.countplot(x=df_clean.gender, ax=axs[0])\n",
        "sns.countplot(x=df_clean.Churn, ax=axs[1]);\n"
      ]
    },
    {
      "cell_type": "markdown",
      "metadata": {},
      "source": [
        "With these plots, we can see that `gender` does not represent an imbalance issue, but `Churn` does. Another aspect of our dataset that needs to be addressed is how the variables are coded. Since the categorical variables are strings, we will re-code them in our next session.\n",
        "\n",
        "### Encoding categorical variables\n",
        "\n",
        "Now, we recode our variables. Numerical variables will stay the same, while binary variables will be encoded using the `LabelEncoder` approach (including our target variable) and categorical variables with more than two entries will be transformed into dummy variables."
      ]
    },
    {
      "cell_type": "code",
      "execution_count": 115,
      "metadata": {},
      "outputs": [],
      "source": [
        "# Creating function to classify columns\n",
        "\n",
        "def classifyColumns(df):\n",
        "    \"\"\"\n",
        "    Takes a dataframe and returns which columns\n",
        "    are numeric, binary categories or multiple\n",
        "    categories, in this order.\n",
        "    \"\"\"\n",
        "\n",
        "    num_cols = df.select_dtypes(['int64', 'float64', 'int32', 'float32']).columns.to_list()\n",
        "    cat_cols = df.select_dtypes('object').columns.to_list()\n",
        "    bcat_cols = []\n",
        "    mcat_cols = []\n",
        "\n",
        "    for col in cat_cols:\n",
        "        if len(df[col].unique()) == 2:\n",
        "            bcat_cols.append(col)\n",
        "        elif len(df[col].unique()) > 2:\n",
        "            mcat_cols.append(col)\n",
        "\n",
        "    return num_cols, bcat_cols, mcat_cols\n"
      ]
    },
    {
      "cell_type": "code",
      "execution_count": 116,
      "metadata": {},
      "outputs": [
        {
          "data": {
            "text/html": [
              "<div>\n",
              "<style scoped>\n",
              "    .dataframe tbody tr th:only-of-type {\n",
              "        vertical-align: middle;\n",
              "    }\n",
              "\n",
              "    .dataframe tbody tr th {\n",
              "        vertical-align: top;\n",
              "    }\n",
              "\n",
              "    .dataframe thead th {\n",
              "        text-align: right;\n",
              "    }\n",
              "</style>\n",
              "<table border=\"1\" class=\"dataframe\">\n",
              "  <thead>\n",
              "    <tr style=\"text-align: right;\">\n",
              "      <th></th>\n",
              "      <th>gender</th>\n",
              "      <th>SeniorCitizen</th>\n",
              "      <th>Partner</th>\n",
              "      <th>Dependents</th>\n",
              "      <th>tenure</th>\n",
              "      <th>PhoneService</th>\n",
              "      <th>PaperlessBilling</th>\n",
              "      <th>MonthlyCharges</th>\n",
              "      <th>TotalCharges</th>\n",
              "      <th>Churn</th>\n",
              "      <th>...</th>\n",
              "      <th>StreamingMovies_No</th>\n",
              "      <th>StreamingMovies_No internet service</th>\n",
              "      <th>StreamingMovies_Yes</th>\n",
              "      <th>Contract_Month-to-month</th>\n",
              "      <th>Contract_One year</th>\n",
              "      <th>Contract_Two year</th>\n",
              "      <th>PaymentMethod_Bank transfer (automatic)</th>\n",
              "      <th>PaymentMethod_Credit card (automatic)</th>\n",
              "      <th>PaymentMethod_Electronic check</th>\n",
              "      <th>PaymentMethod_Mailed check</th>\n",
              "    </tr>\n",
              "  </thead>\n",
              "  <tbody>\n",
              "    <tr>\n",
              "      <th>0</th>\n",
              "      <td>0</td>\n",
              "      <td>0</td>\n",
              "      <td>1</td>\n",
              "      <td>0</td>\n",
              "      <td>1</td>\n",
              "      <td>0</td>\n",
              "      <td>1</td>\n",
              "      <td>29.85</td>\n",
              "      <td>29.85</td>\n",
              "      <td>0</td>\n",
              "      <td>...</td>\n",
              "      <td>1</td>\n",
              "      <td>0</td>\n",
              "      <td>0</td>\n",
              "      <td>1</td>\n",
              "      <td>0</td>\n",
              "      <td>0</td>\n",
              "      <td>0</td>\n",
              "      <td>0</td>\n",
              "      <td>1</td>\n",
              "      <td>0</td>\n",
              "    </tr>\n",
              "    <tr>\n",
              "      <th>1</th>\n",
              "      <td>1</td>\n",
              "      <td>0</td>\n",
              "      <td>0</td>\n",
              "      <td>0</td>\n",
              "      <td>34</td>\n",
              "      <td>1</td>\n",
              "      <td>0</td>\n",
              "      <td>56.95</td>\n",
              "      <td>1889.50</td>\n",
              "      <td>0</td>\n",
              "      <td>...</td>\n",
              "      <td>1</td>\n",
              "      <td>0</td>\n",
              "      <td>0</td>\n",
              "      <td>0</td>\n",
              "      <td>1</td>\n",
              "      <td>0</td>\n",
              "      <td>0</td>\n",
              "      <td>0</td>\n",
              "      <td>0</td>\n",
              "      <td>1</td>\n",
              "    </tr>\n",
              "    <tr>\n",
              "      <th>2</th>\n",
              "      <td>1</td>\n",
              "      <td>0</td>\n",
              "      <td>0</td>\n",
              "      <td>0</td>\n",
              "      <td>2</td>\n",
              "      <td>1</td>\n",
              "      <td>1</td>\n",
              "      <td>53.85</td>\n",
              "      <td>108.15</td>\n",
              "      <td>1</td>\n",
              "      <td>...</td>\n",
              "      <td>1</td>\n",
              "      <td>0</td>\n",
              "      <td>0</td>\n",
              "      <td>1</td>\n",
              "      <td>0</td>\n",
              "      <td>0</td>\n",
              "      <td>0</td>\n",
              "      <td>0</td>\n",
              "      <td>0</td>\n",
              "      <td>1</td>\n",
              "    </tr>\n",
              "    <tr>\n",
              "      <th>3</th>\n",
              "      <td>1</td>\n",
              "      <td>0</td>\n",
              "      <td>0</td>\n",
              "      <td>0</td>\n",
              "      <td>45</td>\n",
              "      <td>0</td>\n",
              "      <td>0</td>\n",
              "      <td>42.30</td>\n",
              "      <td>1840.75</td>\n",
              "      <td>0</td>\n",
              "      <td>...</td>\n",
              "      <td>1</td>\n",
              "      <td>0</td>\n",
              "      <td>0</td>\n",
              "      <td>0</td>\n",
              "      <td>1</td>\n",
              "      <td>0</td>\n",
              "      <td>1</td>\n",
              "      <td>0</td>\n",
              "      <td>0</td>\n",
              "      <td>0</td>\n",
              "    </tr>\n",
              "    <tr>\n",
              "      <th>4</th>\n",
              "      <td>0</td>\n",
              "      <td>0</td>\n",
              "      <td>0</td>\n",
              "      <td>0</td>\n",
              "      <td>2</td>\n",
              "      <td>1</td>\n",
              "      <td>1</td>\n",
              "      <td>70.70</td>\n",
              "      <td>151.65</td>\n",
              "      <td>1</td>\n",
              "      <td>...</td>\n",
              "      <td>1</td>\n",
              "      <td>0</td>\n",
              "      <td>0</td>\n",
              "      <td>1</td>\n",
              "      <td>0</td>\n",
              "      <td>0</td>\n",
              "      <td>0</td>\n",
              "      <td>0</td>\n",
              "      <td>1</td>\n",
              "      <td>0</td>\n",
              "    </tr>\n",
              "  </tbody>\n",
              "</table>\n",
              "<p>5 rows × 41 columns</p>\n",
              "</div>"
            ],
            "text/plain": [
              "   gender  SeniorCitizen  Partner  Dependents  tenure  PhoneService  \\\n",
              "0       0              0        1           0       1             0   \n",
              "1       1              0        0           0      34             1   \n",
              "2       1              0        0           0       2             1   \n",
              "3       1              0        0           0      45             0   \n",
              "4       0              0        0           0       2             1   \n",
              "\n",
              "   PaperlessBilling  MonthlyCharges  TotalCharges  Churn  ...  \\\n",
              "0                 1           29.85         29.85      0  ...   \n",
              "1                 0           56.95       1889.50      0  ...   \n",
              "2                 1           53.85        108.15      1  ...   \n",
              "3                 0           42.30       1840.75      0  ...   \n",
              "4                 1           70.70        151.65      1  ...   \n",
              "\n",
              "   StreamingMovies_No  StreamingMovies_No internet service  \\\n",
              "0                   1                                    0   \n",
              "1                   1                                    0   \n",
              "2                   1                                    0   \n",
              "3                   1                                    0   \n",
              "4                   1                                    0   \n",
              "\n",
              "   StreamingMovies_Yes  Contract_Month-to-month  Contract_One year  \\\n",
              "0                    0                        1                  0   \n",
              "1                    0                        0                  1   \n",
              "2                    0                        1                  0   \n",
              "3                    0                        0                  1   \n",
              "4                    0                        1                  0   \n",
              "\n",
              "   Contract_Two year  PaymentMethod_Bank transfer (automatic)  \\\n",
              "0                  0                                        0   \n",
              "1                  0                                        0   \n",
              "2                  0                                        0   \n",
              "3                  0                                        1   \n",
              "4                  0                                        0   \n",
              "\n",
              "   PaymentMethod_Credit card (automatic)  PaymentMethod_Electronic check  \\\n",
              "0                                      0                               1   \n",
              "1                                      0                               0   \n",
              "2                                      0                               0   \n",
              "3                                      0                               0   \n",
              "4                                      0                               1   \n",
              "\n",
              "   PaymentMethod_Mailed check  \n",
              "0                           0  \n",
              "1                           1  \n",
              "2                           1  \n",
              "3                           0  \n",
              "4                           0  \n",
              "\n",
              "[5 rows x 41 columns]"
            ]
          },
          "execution_count": 116,
          "metadata": {},
          "output_type": "execute_result"
        }
      ],
      "source": [
        "# Classifying columns with the function\n",
        "num_cols, bcat_cols, mcat_cols = classifyColumns(df_clean)\n",
        "\n",
        "# Copying df for backup\n",
        "df_enc = df_clean.copy()\n",
        "\n",
        "# Using LabelEncoder to code binary variables\n",
        "le = LabelEncoder()\n",
        "for col in bcat_cols:\n",
        "    df_enc[col] = le.fit_transform(df_enc[col])\n",
        "\n",
        "# Now getting dummies for categorical variables\n",
        "df_enc = pd.get_dummies(df_enc, columns=mcat_cols)\n",
        "\n",
        "# Checking resulting dataframe\n",
        "df_enc.head()"
      ]
    },
    {
      "cell_type": "markdown",
      "metadata": {},
      "source": [
        "## Machine Learning model\n",
        "\n",
        "Given our data pre-processing, now we can proceed and build our Machine Learning model. At first, in order to assess which classification method would better fit our model at first glance, we will build a baseline comparison where no hyperparameter or feature will be changed.\n",
        "\n",
        "The data will be split so the test data is isolated from the train/validation data in which we will build and test our models. Since we are using an imbalanced dataset, we use a *stratified sampling* approach when splitting the dataset in order to preserve relative class frequencies. For balancing the dataset, we will use the **Random Under Sampling** (RUS) approach, from the *imbalanced-learn* library, to randomly select samples from the default class. More on RUS can be found [here](https://imbalanced-learn.org/stable/references/generated/imblearn.under_sampling.RandomUnderSampler.html)."
      ]
    },
    {
      "cell_type": "code",
      "execution_count": 117,
      "metadata": {},
      "outputs": [],
      "source": [
        "# Extracting target from dataset\n",
        "from sklearn.model_selection import train_test_split\n",
        "\n",
        "\n",
        "X = df_enc.drop('Churn', axis=1)\n",
        "y = df_enc['Churn']\n",
        "\n",
        "# Separating train/test data\n",
        "X_train, X_test, y_train, y_test = train_test_split(X, y, stratify=y, shuffle=True, random_state=42)"
      ]
    },
    {
      "cell_type": "markdown",
      "metadata": {},
      "source": [
        "# References\n",
        "1: https://smallbiztrends.com/2016/10/customer-retention-statistics.html\n",
        "\n",
        "2: https://hbr.org/2014/10/the-value-of-keeping-the-right-customers\n",
        "\n",
        "3: http://www.dbmarketing.com/telecom/churnreduction.html"
      ]
    },
    {
      "cell_type": "markdown",
      "metadata": {},
      "source": []
    }
  ],
  "metadata": {
    "colab": {
      "collapsed_sections": [],
      "name": "DSNP 3.0 - [Template] Churn Prediction para uma empresa de Telecomunicações.ipynb",
      "provenance": []
    },
    "kernelspec": {
      "display_name": "Python 3.9.12 ('base')",
      "language": "python",
      "name": "python3"
    },
    "language_info": {
      "codemirror_mode": {
        "name": "ipython",
        "version": 3
      },
      "file_extension": ".py",
      "mimetype": "text/x-python",
      "name": "python",
      "nbconvert_exporter": "python",
      "pygments_lexer": "ipython3",
      "version": "3.9.12"
    },
    "vscode": {
      "interpreter": {
        "hash": "0a7a6f8b9e12af56cfb55fbb376ef7e3df3279f8f475f9beea5c617149b07873"
      }
    }
  },
  "nbformat": 4,
  "nbformat_minor": 0
}
