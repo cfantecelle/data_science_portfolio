{
  "cells": [
    {
      "cell_type": "markdown",
      "metadata": {
        "id": "sC2BFMOKN1M7"
      },
      "source": [
        "---\n",
        "<img alt=\"Colaboratory logo\" width=\"15%\" src=\"https://raw.githubusercontent.com/carlosfab/escola-data-science/master/img/novo_logo_bg_claro.png\">\n",
        "\n",
        "#### **Data Science na Prática 3.0**\n",
        "*by [sigmoidal.ai](https://sigmoidal.ai)*  \n",
        "\n",
        "---"
      ]
    },
    {
      "cell_type": "markdown",
      "metadata": {
        "id": "IR56trFcPcC1"
      },
      "source": [
        "# Churn Prediction\n",
        "\n",
        "A good business strategy for revenue growth is customer retention. One study has previously demonstrated that **80%** of a business' future profits will come from ***just* 20%** of the company's existing customers<sup><a href=\"https://smallbiztrends.com/2016/10/customer-retention-statistics.html\">1</a></sup>. Also, when comparing to the acquisition of new clients, customer retention is estimated to be 5-25 times cheaper<sup><a href=\"https://hbr.org/2014/10/the-value-of-keeping-the-right-customers\">2</a></sup>. This where churn and churn rates come in.\n",
        "\n",
        "<p align=center>\n",
        "<img src=\"img/money_loss.jpg\" width=\"50%\"><br>\n",
        "<i><sup>Image credits: upklyak (<a href=\"https://br.freepik.com/vetores-gratis/queda-da-venda-da-recessao-economica-da-crise-financeira_29942020.htm\">www.freepik.com</a>)</sup></i>\n",
        "</p>\n",
        "\n",
        "### What is Churn?\n",
        "\n",
        "Churn represents the number of clients, while the *churn rate* refers to the percentage of users, that have been lost to the company over a determined period of time. That is:\n",
        "\n",
        "**Churn Rate** = $C_B - C_E \\over C_B$ $\\times 100$, where $C_B$ is the number of customers at the beginning of the period and $C_E$ is the number of customers at the end of the period.\n",
        "\n",
        "For telecom companies, the churn rate has been estimated at 1.9-2.1% monthly, and 10-67% annually<sup><a href=\"http://www.dbmarketing.com/telecom/churnreduction.html\">3</a></sup>. These high churn rates demonstrate why it is important for companies to identify potential *churners* in order to try to prevent this loss of revenue. In this notebook, we will analyse a churn dataset from such a company and employ machine learning strategies to prevent potential churners."
      ]
    },
    {
      "cell_type": "markdown",
      "metadata": {},
      "source": [
        "# Getting the data\n",
        "\n",
        "The data that is used in this project were originally publish as part of [IBM Developer's learning platform](https://developer.ibm.com/tutorials/watson-studio-using-jupyter-notebook/) and is also available on [Kaggle](https://www.kaggle.com/datasets/blastchar/telco-customer-churn). It contains information about customers who left within the last month of the analysed period and other customer information (demographics, account information, services that were signed up)."
      ]
    },
    {
      "cell_type": "code",
      "execution_count": 247,
      "metadata": {},
      "outputs": [],
      "source": [
        "# Importing libraries\n",
        "import pandas as pd\n",
        "import numpy as np\n",
        "import matplotlib.pyplot as plt\n",
        "from pywaffle import Waffle\n",
        "import seaborn as sns\n",
        "from datetime import datetime\n",
        "from sklearn.preprocessing import LabelEncoder, StandardScaler\n",
        "from sklearn.model_selection import train_test_split, cross_val_score, GridSearchCV, StratifiedKFold\n",
        "from sklearn.metrics import roc_auc_score, classification_report\n",
        "from sklearn.pipeline import make_pipeline\n",
        "from sklearn.linear_model import LogisticRegression, SGDClassifier\n",
        "from sklearn.tree import DecisionTreeClassifier\n",
        "from sklearn.ensemble import RandomForestClassifier\n",
        "from sklearn.svm import SVC\n",
        "from scikitplot.metrics import plot_confusion_matrix, plot_roc\n",
        "from lightgbm import LGBMClassifier\n",
        "from xgboost import XGBClassifier\n",
        "from imblearn.under_sampling import RandomUnderSampler\n",
        "\n",
        "# Getting the data\n",
        "df = pd.read_csv(\"data/WA_Fn-UseC_-Telco-Customer-Churn.csv\")\n",
        "\n",
        "# Checking first entries of the dataset\n",
        "df.head()\n",
        "\n",
        "# Life, the Universe, and Everything\n",
        "np.random.seed(42)\n",
        "\n",
        "# defining plot parameters\n",
        "#plt.style.use('dark_background')\n",
        "plt.rcParams['font.family'] = 'sans-serif'\n",
        "plt.rcParams['font.sans-serif'] = 'Arial'\n",
        "plt.rcParams['font.stretch'] = 'normal'\n",
        "plt.rcParams['font.style'] = 'normal'\n",
        "plt.rcParams['font.variant'] = 'normal'"
      ]
    },
    {
      "cell_type": "markdown",
      "metadata": {},
      "source": [
        "## Data variables\n",
        "\n",
        "As mentioned previously, the dataset contains several columns providing information about the customers:"
      ]
    },
    {
      "cell_type": "markdown",
      "metadata": {},
      "source": [
        "* `customerID` = Unique ID for each customer.\n",
        "* `gender` = The customers identified gender.\n",
        "* `SeniorCitizen` = Wether the customer is a senior citizen (1) or not (0).\n",
        "* `Partner` = Wether the customer has a partner (Yes) or not (No).\n",
        "* `Dependents` = Whether the customer has dependents (Yes) or not (No).\n",
        "* `tenure` = Number of months the customer has stayed with the company.\n",
        "* `PhoneService` = Whether the customer has a phone service (Yes) or not (No).\n",
        "* `MultipleLines` = Whether the customer has multiple lines (Yes) or not (No *or* No phone service).\n",
        "* `InternetService` = Customer’s internet service provider (DSL, Fiber optic, No).\n",
        "* `OnlineSecurity` = Whether the customer has online security (Yes) or not (No *or* No internet service).\n",
        "* `OnlineBackup` = Whether the customer has online backup (Yes) or not (No *or* No internet service).\n",
        "* `DeviceProtection` = Whether the customer has device protection (Yes) or not (No *or* No internet service).\n",
        "* `TechSupport` = Whether the customer has tech support (Yes) or not (No *or* No internet service).\n",
        "* `StreamingTV` = Whether the customer has streaming TV (Yes) or not (No *or* No internet service).\n",
        "* `StreamingMovies` = Whether the customer has streaming movies (Yes) or not (No *or* No internet service).\n",
        "* `Contract` = The contract term of the customer (Month-to-month, One year, Two year).\n",
        "* `PaperlessBilling` = Whether the customer has paperless billing (Yes) or not (No).\n",
        "* `PaymentMethod` = The customer’s payment method (Electronic check, Mailed check, Bank transfer (automatic), Credit card (automatic)).\n",
        "* `MonthlyCharges` = The amount charged to the customer monthly.\n",
        "* `TotalCharges` = The total amount charged to the customer.\n",
        "* `Churn` = Whether the customer churned (Yes) or not (No)."
      ]
    },
    {
      "cell_type": "markdown",
      "metadata": {},
      "source": [
        "## Data Preparation\n",
        "\n",
        "### Exploratory analysis\n",
        "\n",
        "First, we will begin by looking at the variables and their characteristics (type, missing values and descriptive statistics) and the dataset size."
      ]
    },
    {
      "cell_type": "code",
      "execution_count": 145,
      "metadata": {},
      "outputs": [
        {
          "name": "stdout",
          "output_type": "stream",
          "text": [
            "<class 'pandas.core.frame.DataFrame'>\n",
            "RangeIndex: 7043 entries, 0 to 7042\n",
            "Data columns (total 21 columns):\n",
            " #   Column            Non-Null Count  Dtype  \n",
            "---  ------            --------------  -----  \n",
            " 0   customerID        7043 non-null   object \n",
            " 1   gender            7043 non-null   object \n",
            " 2   SeniorCitizen     7043 non-null   int64  \n",
            " 3   Partner           7043 non-null   object \n",
            " 4   Dependents        7043 non-null   object \n",
            " 5   tenure            7043 non-null   int64  \n",
            " 6   PhoneService      7043 non-null   object \n",
            " 7   MultipleLines     7043 non-null   object \n",
            " 8   InternetService   7043 non-null   object \n",
            " 9   OnlineSecurity    7043 non-null   object \n",
            " 10  OnlineBackup      7043 non-null   object \n",
            " 11  DeviceProtection  7043 non-null   object \n",
            " 12  TechSupport       7043 non-null   object \n",
            " 13  StreamingTV       7043 non-null   object \n",
            " 14  StreamingMovies   7043 non-null   object \n",
            " 15  Contract          7043 non-null   object \n",
            " 16  PaperlessBilling  7043 non-null   object \n",
            " 17  PaymentMethod     7043 non-null   object \n",
            " 18  MonthlyCharges    7043 non-null   float64\n",
            " 19  TotalCharges      7043 non-null   object \n",
            " 20  Churn             7043 non-null   object \n",
            "dtypes: float64(1), int64(2), object(18)\n",
            "memory usage: 1.1+ MB\n"
          ]
        }
      ],
      "source": [
        "# Listing data types, null values and size of dataset\n",
        "df.info()"
      ]
    },
    {
      "cell_type": "code",
      "execution_count": 146,
      "metadata": {},
      "outputs": [
        {
          "data": {
            "text/plain": [
              "customerID          7043\n",
              "gender                 2\n",
              "SeniorCitizen          2\n",
              "Partner                2\n",
              "Dependents             2\n",
              "tenure                73\n",
              "PhoneService           2\n",
              "MultipleLines          3\n",
              "InternetService        3\n",
              "OnlineSecurity         3\n",
              "OnlineBackup           3\n",
              "DeviceProtection       3\n",
              "TechSupport            3\n",
              "StreamingTV            3\n",
              "StreamingMovies        3\n",
              "Contract               3\n",
              "PaperlessBilling       2\n",
              "PaymentMethod          4\n",
              "MonthlyCharges      1585\n",
              "TotalCharges        6531\n",
              "Churn                  2\n",
              "dtype: int64"
            ]
          },
          "execution_count": 146,
          "metadata": {},
          "output_type": "execute_result"
        }
      ],
      "source": [
        "# Checking unique values\n",
        "df.nunique()"
      ]
    },
    {
      "cell_type": "markdown",
      "metadata": {},
      "source": [
        "Here, no columns present null values and `TotalCharges` column is supposed to be float type but is set as object. Also, several columns are binary or with multiple values representing categories that need to be treated as such (need to be encoded). Upon trying to convert `TotalCharges` to numeric:"
      ]
    },
    {
      "cell_type": "code",
      "execution_count": 147,
      "metadata": {},
      "outputs": [],
      "source": [
        "# Trying to convert column\n",
        "#df['TotalCharges'].astype('float64')"
      ]
    },
    {
      "cell_type": "markdown",
      "metadata": {},
      "source": [
        "We face an error:\n",
        "> `ValueError: could not convert string to float: ''`\n",
        "\n",
        "This means that instead of null values, the empty values were filled as an empty string, which generates an error. For this reason, we will convert all empty strings to null values and see what we get:"
      ]
    },
    {
      "cell_type": "code",
      "execution_count": 148,
      "metadata": {},
      "outputs": [
        {
          "name": "stdout",
          "output_type": "stream",
          "text": [
            "Empty values in \"TotalCharges\" column: 11\n"
          ]
        }
      ],
      "source": [
        "# R7eplacing empty string or records with only spaces with NaN\n",
        "df_clean = df.replace(r'^\\s*$', np.NaN, regex=True)\n",
        "print('Empty values in \"TotalCharges\" column: {}'.format(df_clean['TotalCharges'].isnull().sum()))"
      ]
    },
    {
      "cell_type": "markdown",
      "metadata": {},
      "source": [
        "Since these represent very few empty data points, we are going to replace the missing values with the median from the `TotalCharges` column, which represents a measurement less sensitive to outliers in the data."
      ]
    },
    {
      "cell_type": "code",
      "execution_count": 149,
      "metadata": {
        "id": "ThH0bud3XImv"
      },
      "outputs": [
        {
          "name": "stdout",
          "output_type": "stream",
          "text": [
            "Empty values in \"TotalCharges\" column: 0\n"
          ]
        }
      ],
      "source": [
        "# Getting the column median\n",
        "median_TotalCharges = df_clean.TotalCharges.median()\n",
        "\n",
        "# Replacing values\n",
        "df_clean['TotalCharges'].fillna(median_TotalCharges, inplace=True)\n",
        "\n",
        "# Converting to float\n",
        "df_clean['TotalCharges'] = df_clean['TotalCharges'].astype('float64')\n",
        "\n",
        "# Checking empty values again\n",
        "print('Empty values in \"TotalCharges\" column: {}'.format(df_clean['TotalCharges'].isnull().sum()))"
      ]
    },
    {
      "cell_type": "markdown",
      "metadata": {},
      "source": [
        "Now, we describe the numeric columns using descriptive statistics:"
      ]
    },
    {
      "cell_type": "code",
      "execution_count": 150,
      "metadata": {},
      "outputs": [
        {
          "data": {
            "text/html": [
              "<div>\n",
              "<style scoped>\n",
              "    .dataframe tbody tr th:only-of-type {\n",
              "        vertical-align: middle;\n",
              "    }\n",
              "\n",
              "    .dataframe tbody tr th {\n",
              "        vertical-align: top;\n",
              "    }\n",
              "\n",
              "    .dataframe thead th {\n",
              "        text-align: right;\n",
              "    }\n",
              "</style>\n",
              "<table border=\"1\" class=\"dataframe\">\n",
              "  <thead>\n",
              "    <tr style=\"text-align: right;\">\n",
              "      <th></th>\n",
              "      <th>SeniorCitizen</th>\n",
              "      <th>tenure</th>\n",
              "      <th>MonthlyCharges</th>\n",
              "      <th>TotalCharges</th>\n",
              "    </tr>\n",
              "  </thead>\n",
              "  <tbody>\n",
              "    <tr>\n",
              "      <th>count</th>\n",
              "      <td>7043.000000</td>\n",
              "      <td>7043.000000</td>\n",
              "      <td>7043.000000</td>\n",
              "      <td>7043.000000</td>\n",
              "    </tr>\n",
              "    <tr>\n",
              "      <th>mean</th>\n",
              "      <td>0.162147</td>\n",
              "      <td>32.371149</td>\n",
              "      <td>64.761692</td>\n",
              "      <td>2281.916928</td>\n",
              "    </tr>\n",
              "    <tr>\n",
              "      <th>std</th>\n",
              "      <td>0.368612</td>\n",
              "      <td>24.559481</td>\n",
              "      <td>30.090047</td>\n",
              "      <td>2265.270398</td>\n",
              "    </tr>\n",
              "    <tr>\n",
              "      <th>min</th>\n",
              "      <td>0.000000</td>\n",
              "      <td>0.000000</td>\n",
              "      <td>18.250000</td>\n",
              "      <td>18.800000</td>\n",
              "    </tr>\n",
              "    <tr>\n",
              "      <th>25%</th>\n",
              "      <td>0.000000</td>\n",
              "      <td>9.000000</td>\n",
              "      <td>35.500000</td>\n",
              "      <td>402.225000</td>\n",
              "    </tr>\n",
              "    <tr>\n",
              "      <th>50%</th>\n",
              "      <td>0.000000</td>\n",
              "      <td>29.000000</td>\n",
              "      <td>70.350000</td>\n",
              "      <td>1397.475000</td>\n",
              "    </tr>\n",
              "    <tr>\n",
              "      <th>75%</th>\n",
              "      <td>0.000000</td>\n",
              "      <td>55.000000</td>\n",
              "      <td>89.850000</td>\n",
              "      <td>3786.600000</td>\n",
              "    </tr>\n",
              "    <tr>\n",
              "      <th>max</th>\n",
              "      <td>1.000000</td>\n",
              "      <td>72.000000</td>\n",
              "      <td>118.750000</td>\n",
              "      <td>8684.800000</td>\n",
              "    </tr>\n",
              "  </tbody>\n",
              "</table>\n",
              "</div>"
            ],
            "text/plain": [
              "       SeniorCitizen       tenure  MonthlyCharges  TotalCharges\n",
              "count    7043.000000  7043.000000     7043.000000   7043.000000\n",
              "mean        0.162147    32.371149       64.761692   2281.916928\n",
              "std         0.368612    24.559481       30.090047   2265.270398\n",
              "min         0.000000     0.000000       18.250000     18.800000\n",
              "25%         0.000000     9.000000       35.500000    402.225000\n",
              "50%         0.000000    29.000000       70.350000   1397.475000\n",
              "75%         0.000000    55.000000       89.850000   3786.600000\n",
              "max         1.000000    72.000000      118.750000   8684.800000"
            ]
          },
          "execution_count": 150,
          "metadata": {},
          "output_type": "execute_result"
        }
      ],
      "source": [
        "# Summary Statistics\n",
        "df_clean.describe()"
      ]
    },
    {
      "cell_type": "markdown",
      "metadata": {},
      "source": [
        "From this, it appears that the dataset does not contain outliers. Let's check this fact by using boxplots."
      ]
    },
    {
      "cell_type": "code",
      "execution_count": 151,
      "metadata": {},
      "outputs": [
        {
          "data": {
            "image/png": "[encoded data removed]",
            "text/plain": [
              "<Figure size 1296x288 with 3 Axes>"
            ]
          },
          "metadata": {
            "needs_background": "light"
          },
          "output_type": "display_data"
        }
      ],
      "source": [
        "## Creating botplots of numeric data\n",
        "\n",
        "# Defining suplots\n",
        "fig, axs = plt.subplots(1, 3, figsize=(18, 4))\n",
        "\n",
        "# Creating boxplots in each ax\n",
        "axs[0].boxplot(df_clean['tenure'], notch=0, vert=1, whis=1.5, patch_artist=True)\n",
        "axs[1].boxplot(df_clean['MonthlyCharges'], notch=0, vert=1, whis=1.5, patch_artist=True)\n",
        "axs[2].boxplot(df_clean['TotalCharges'], notch=0, vert=1, whis=1.5, patch_artist=True)\n",
        "\n",
        "# Adding titles\n",
        "axs[0].set(title='Tenure', ylabel='Months', xlabel='')\n",
        "axs[1].set(title='Monthly Charges', ylabel='Amount', xlabel='')\n",
        "axs[2].set(title='Total Charges', ylabel='Amount', xlabel='');"
      ]
    },
    {
      "cell_type": "markdown",
      "metadata": {},
      "source": [
        "With these, we confirm that there are no outliers in our data. It does us good to see how our variables are distributed."
      ]
    },
    {
      "cell_type": "code",
      "execution_count": 152,
      "metadata": {},
      "outputs": [
        {
          "data": {
            "image/png": "[encoded data removed]",
            "text/plain": [
              "<Figure size 1080x504 with 4 Axes>"
            ]
          },
          "metadata": {
            "needs_background": "light"
          },
          "output_type": "display_data"
        }
      ],
      "source": [
        "# Histograms of numeric variables\n",
        "df_clean[['tenure', 'MonthlyCharges', 'TotalCharges']].hist(figsize=(15,7), bins = 20);"
      ]
    },
    {
      "cell_type": "markdown",
      "metadata": {},
      "source": [
        "Overall, we can see that the distribution of values are skewed towards their ends. The `tenure` variable, representing the months of fidelity with the service, seems to indicate varying degrees of customer retention, while most of the customers appears to stay for very few months within the service even though we have a high number of customers staying longer.\n",
        "\n",
        "`MonthlyCharges` indicate that there are varying degrees of charges, ultimately depending on how many services the client pays for. While those who pay fewer charges seem to dominate the data, the collective number of clients that pays for more services (mostly in the middle range) outnumbers those paying for less services. \n",
        "\n",
        "`TotalCharges` on the other hand shows that most charges stay in the lower end of the data range.\n",
        "\n",
        "Another aspect which is important when dealing with datasets with categorical variables is the number of unique in each column."
      ]
    },
    {
      "cell_type": "code",
      "execution_count": 153,
      "metadata": {},
      "outputs": [],
      "source": [
        "# Defining function to print nice table\n",
        "def uniqueValuesPerColumn(df):\n",
        "    \"\"\"\n",
        "    Takes a dataframe and counts unique values in each\n",
        "    categorical column of the dataset.\n",
        "    \"\"\"\n",
        "    \n",
        "    variables = df.select_dtypes('object').columns.to_list()\n",
        "\n",
        "    unique_values = []\n",
        "\n",
        "    for variable in variables:\n",
        "        unique_values.append(', '.join(df[variable].unique()))\n",
        "    \n",
        "    unique_df = pd.DataFrame({'Variable': variables,\n",
        "                              'Unique values': unique_values})\n",
        "    \n",
        "    return(unique_df)"
      ]
    },
    {
      "cell_type": "code",
      "execution_count": 154,
      "metadata": {},
      "outputs": [],
      "source": [
        "# First we drop customerID column\n",
        "df_clean.drop(\"customerID\", axis=1, inplace=True)"
      ]
    },
    {
      "cell_type": "code",
      "execution_count": 155,
      "metadata": {},
      "outputs": [
        {
          "data": {
            "text/html": [
              "<div>\n",
              "<style scoped>\n",
              "    .dataframe tbody tr th:only-of-type {\n",
              "        vertical-align: middle;\n",
              "    }\n",
              "\n",
              "    .dataframe tbody tr th {\n",
              "        vertical-align: top;\n",
              "    }\n",
              "\n",
              "    .dataframe thead th {\n",
              "        text-align: right;\n",
              "    }\n",
              "</style>\n",
              "<table border=\"1\" class=\"dataframe\">\n",
              "  <thead>\n",
              "    <tr style=\"text-align: right;\">\n",
              "      <th></th>\n",
              "      <th>Variable</th>\n",
              "      <th>Unique values</th>\n",
              "    </tr>\n",
              "  </thead>\n",
              "  <tbody>\n",
              "    <tr>\n",
              "      <th>0</th>\n",
              "      <td>gender</td>\n",
              "      <td>Female, Male</td>\n",
              "    </tr>\n",
              "    <tr>\n",
              "      <th>1</th>\n",
              "      <td>Partner</td>\n",
              "      <td>Yes, No</td>\n",
              "    </tr>\n",
              "    <tr>\n",
              "      <th>2</th>\n",
              "      <td>Dependents</td>\n",
              "      <td>No, Yes</td>\n",
              "    </tr>\n",
              "    <tr>\n",
              "      <th>3</th>\n",
              "      <td>PhoneService</td>\n",
              "      <td>No, Yes</td>\n",
              "    </tr>\n",
              "    <tr>\n",
              "      <th>4</th>\n",
              "      <td>MultipleLines</td>\n",
              "      <td>No phone service, No, Yes</td>\n",
              "    </tr>\n",
              "    <tr>\n",
              "      <th>5</th>\n",
              "      <td>InternetService</td>\n",
              "      <td>DSL, Fiber optic, No</td>\n",
              "    </tr>\n",
              "    <tr>\n",
              "      <th>6</th>\n",
              "      <td>OnlineSecurity</td>\n",
              "      <td>No, Yes, No internet service</td>\n",
              "    </tr>\n",
              "    <tr>\n",
              "      <th>7</th>\n",
              "      <td>OnlineBackup</td>\n",
              "      <td>Yes, No, No internet service</td>\n",
              "    </tr>\n",
              "    <tr>\n",
              "      <th>8</th>\n",
              "      <td>DeviceProtection</td>\n",
              "      <td>No, Yes, No internet service</td>\n",
              "    </tr>\n",
              "    <tr>\n",
              "      <th>9</th>\n",
              "      <td>TechSupport</td>\n",
              "      <td>No, Yes, No internet service</td>\n",
              "    </tr>\n",
              "    <tr>\n",
              "      <th>10</th>\n",
              "      <td>StreamingTV</td>\n",
              "      <td>No, Yes, No internet service</td>\n",
              "    </tr>\n",
              "    <tr>\n",
              "      <th>11</th>\n",
              "      <td>StreamingMovies</td>\n",
              "      <td>No, Yes, No internet service</td>\n",
              "    </tr>\n",
              "    <tr>\n",
              "      <th>12</th>\n",
              "      <td>Contract</td>\n",
              "      <td>Month-to-month, One year, Two year</td>\n",
              "    </tr>\n",
              "    <tr>\n",
              "      <th>13</th>\n",
              "      <td>PaperlessBilling</td>\n",
              "      <td>Yes, No</td>\n",
              "    </tr>\n",
              "    <tr>\n",
              "      <th>14</th>\n",
              "      <td>PaymentMethod</td>\n",
              "      <td>Electronic check, Mailed check, Bank transfer ...</td>\n",
              "    </tr>\n",
              "    <tr>\n",
              "      <th>15</th>\n",
              "      <td>Churn</td>\n",
              "      <td>No, Yes</td>\n",
              "    </tr>\n",
              "  </tbody>\n",
              "</table>\n",
              "</div>"
            ],
            "text/plain": [
              "            Variable                                      Unique values\n",
              "0             gender                                       Female, Male\n",
              "1            Partner                                            Yes, No\n",
              "2         Dependents                                            No, Yes\n",
              "3       PhoneService                                            No, Yes\n",
              "4      MultipleLines                          No phone service, No, Yes\n",
              "5    InternetService                               DSL, Fiber optic, No\n",
              "6     OnlineSecurity                       No, Yes, No internet service\n",
              "7       OnlineBackup                       Yes, No, No internet service\n",
              "8   DeviceProtection                       No, Yes, No internet service\n",
              "9        TechSupport                       No, Yes, No internet service\n",
              "10       StreamingTV                       No, Yes, No internet service\n",
              "11   StreamingMovies                       No, Yes, No internet service\n",
              "12          Contract                 Month-to-month, One year, Two year\n",
              "13  PaperlessBilling                                            Yes, No\n",
              "14     PaymentMethod  Electronic check, Mailed check, Bank transfer ...\n",
              "15             Churn                                            No, Yes"
            ]
          },
          "execution_count": 155,
          "metadata": {},
          "output_type": "execute_result"
        }
      ],
      "source": [
        "# Now getting unique values:\n",
        "pd.set_option('display.max_colwidth', None)\n",
        "uniqueValuesPerColumn(df_clean)"
      ]
    },
    {
      "cell_type": "markdown",
      "metadata": {},
      "source": [
        "At first glance, variables which contain `No`, `Yes` and `No internet service` as entries might seem to present an overlap between `No` and `No internet service`. This is untrue. Having one of those entries as `No` means that the customer might have internet service, while not having the especific additional serviced mentioned in the column. We can check this fact."
      ]
    },
    {
      "cell_type": "code",
      "execution_count": 156,
      "metadata": {},
      "outputs": [
        {
          "data": {
            "text/html": [
              "<div>\n",
              "<style scoped>\n",
              "    .dataframe tbody tr th:only-of-type {\n",
              "        vertical-align: middle;\n",
              "    }\n",
              "\n",
              "    .dataframe tbody tr th {\n",
              "        vertical-align: top;\n",
              "    }\n",
              "\n",
              "    .dataframe thead th {\n",
              "        text-align: right;\n",
              "    }\n",
              "</style>\n",
              "<table border=\"1\" class=\"dataframe\">\n",
              "  <thead>\n",
              "    <tr style=\"text-align: right;\">\n",
              "      <th></th>\n",
              "      <th>Variable</th>\n",
              "      <th>Unique values</th>\n",
              "    </tr>\n",
              "  </thead>\n",
              "  <tbody>\n",
              "    <tr>\n",
              "      <th>0</th>\n",
              "      <td>OnlineSecurity</td>\n",
              "      <td>No internet service</td>\n",
              "    </tr>\n",
              "    <tr>\n",
              "      <th>1</th>\n",
              "      <td>OnlineBackup</td>\n",
              "      <td>No internet service</td>\n",
              "    </tr>\n",
              "    <tr>\n",
              "      <th>2</th>\n",
              "      <td>DeviceProtection</td>\n",
              "      <td>No internet service</td>\n",
              "    </tr>\n",
              "    <tr>\n",
              "      <th>3</th>\n",
              "      <td>TechSupport</td>\n",
              "      <td>No internet service</td>\n",
              "    </tr>\n",
              "    <tr>\n",
              "      <th>4</th>\n",
              "      <td>StreamingTV</td>\n",
              "      <td>No internet service</td>\n",
              "    </tr>\n",
              "    <tr>\n",
              "      <th>5</th>\n",
              "      <td>StreamingMovies</td>\n",
              "      <td>No internet service</td>\n",
              "    </tr>\n",
              "  </tbody>\n",
              "</table>\n",
              "</div>"
            ],
            "text/plain": [
              "           Variable        Unique values\n",
              "0    OnlineSecurity  No internet service\n",
              "1      OnlineBackup  No internet service\n",
              "2  DeviceProtection  No internet service\n",
              "3       TechSupport  No internet service\n",
              "4       StreamingTV  No internet service\n",
              "5   StreamingMovies  No internet service"
            ]
          },
          "execution_count": 156,
          "metadata": {},
          "output_type": "execute_result"
        }
      ],
      "source": [
        "# Subsetting only those without internet service\n",
        "df_noInternet = df_clean[df_clean['InternetService'] == 'No']\n",
        "\n",
        "# Getting unique values from resulting dataset\n",
        "cols = ['OnlineSecurity', 'OnlineBackup', 'DeviceProtection', 'TechSupport', 'StreamingTV', 'StreamingMovies']\n",
        "uniqueValuesPerColumn(df_noInternet[cols])"
      ]
    },
    {
      "cell_type": "code",
      "execution_count": 157,
      "metadata": {},
      "outputs": [
        {
          "data": {
            "text/html": [
              "<div>\n",
              "<style scoped>\n",
              "    .dataframe tbody tr th:only-of-type {\n",
              "        vertical-align: middle;\n",
              "    }\n",
              "\n",
              "    .dataframe tbody tr th {\n",
              "        vertical-align: top;\n",
              "    }\n",
              "\n",
              "    .dataframe thead th {\n",
              "        text-align: right;\n",
              "    }\n",
              "</style>\n",
              "<table border=\"1\" class=\"dataframe\">\n",
              "  <thead>\n",
              "    <tr style=\"text-align: right;\">\n",
              "      <th></th>\n",
              "      <th>Variable</th>\n",
              "      <th>Unique values</th>\n",
              "    </tr>\n",
              "  </thead>\n",
              "  <tbody>\n",
              "    <tr>\n",
              "      <th>0</th>\n",
              "      <td>OnlineSecurity</td>\n",
              "      <td>No, Yes</td>\n",
              "    </tr>\n",
              "    <tr>\n",
              "      <th>1</th>\n",
              "      <td>OnlineBackup</td>\n",
              "      <td>Yes, No</td>\n",
              "    </tr>\n",
              "    <tr>\n",
              "      <th>2</th>\n",
              "      <td>DeviceProtection</td>\n",
              "      <td>No, Yes</td>\n",
              "    </tr>\n",
              "    <tr>\n",
              "      <th>3</th>\n",
              "      <td>TechSupport</td>\n",
              "      <td>No, Yes</td>\n",
              "    </tr>\n",
              "    <tr>\n",
              "      <th>4</th>\n",
              "      <td>StreamingTV</td>\n",
              "      <td>No, Yes</td>\n",
              "    </tr>\n",
              "    <tr>\n",
              "      <th>5</th>\n",
              "      <td>StreamingMovies</td>\n",
              "      <td>No, Yes</td>\n",
              "    </tr>\n",
              "  </tbody>\n",
              "</table>\n",
              "</div>"
            ],
            "text/plain": [
              "           Variable Unique values\n",
              "0    OnlineSecurity       No, Yes\n",
              "1      OnlineBackup       Yes, No\n",
              "2  DeviceProtection       No, Yes\n",
              "3       TechSupport       No, Yes\n",
              "4       StreamingTV       No, Yes\n",
              "5   StreamingMovies       No, Yes"
            ]
          },
          "execution_count": 157,
          "metadata": {},
          "output_type": "execute_result"
        }
      ],
      "source": [
        "# Subsetting only those with internet service\n",
        "df_Internet = df_clean[df_clean['InternetService'] != 'No']\n",
        "\n",
        "# Getting unique values from resulting dataset\n",
        "cols = ['OnlineSecurity', 'OnlineBackup', 'DeviceProtection', 'TechSupport', 'StreamingTV', 'StreamingMovies']\n",
        "uniqueValuesPerColumn(df_Internet[cols])"
      ]
    },
    {
      "cell_type": "markdown",
      "metadata": {},
      "source": [
        "With this point proven, we leave these variables intact. Although this represents redundant information, changing these variables to `No` would provide incorrect information to our model.\n",
        "\n",
        "Another point of interest is class imbalance. In our dataset, classes that might represent a influence in our dataset are the variables `gender` (which might affect some datasets, depending on context, but I do not believe this is the case for our current analysis) and our target variable, `Churn`. Let's check how these are distributed."
      ]
    },
    {
      "cell_type": "code",
      "execution_count": 158,
      "metadata": {},
      "outputs": [
        {
          "data": {
            "image/png": "[encoded data removed]",
            "text/plain": [
              "<Figure size 864x288 with 2 Axes>"
            ]
          },
          "metadata": {
            "needs_background": "light"
          },
          "output_type": "display_data"
        }
      ],
      "source": [
        "# Defining plots\n",
        "fig, axs = plt.subplots(1, 2, figsize=(12,4))\n",
        "sns.countplot(x=df_clean.gender, ax=axs[0])\n",
        "sns.countplot(x=df_clean.Churn, ax=axs[1]);\n"
      ]
    },
    {
      "cell_type": "markdown",
      "metadata": {},
      "source": [
        "With these plots, we can see that `gender` does not represent an imbalance issue, but `Churn` does. Another aspect of our dataset that needs to be addressed is how the variables are coded. Since the categorical variables are strings, we will re-code them in our next session.\n",
        "\n",
        "### Encoding categorical variables\n",
        "\n",
        "Now, we recode our variables. Numerical variables will stay the same, while binary variables will be encoded using the `LabelEncoder` approach (including our target variable) and categorical variables with more than two entries will be transformed into dummy variables."
      ]
    },
    {
      "cell_type": "code",
      "execution_count": 159,
      "metadata": {},
      "outputs": [],
      "source": [
        "# Creating function to classify columns\n",
        "\n",
        "def classifyColumns(df):\n",
        "    \"\"\"\n",
        "    Takes a dataframe and returns which columns\n",
        "    are numeric, binary categories or multiple\n",
        "    categories, in this order.\n",
        "    \"\"\"\n",
        "\n",
        "    num_cols = df.select_dtypes(['int64', 'float64', 'int32', 'float32']).columns.to_list()\n",
        "    cat_cols = df.select_dtypes('object').columns.to_list()\n",
        "    bcat_cols = []\n",
        "    mcat_cols = []\n",
        "\n",
        "    for col in cat_cols:\n",
        "        if len(df[col].unique()) == 2:\n",
        "            bcat_cols.append(col)\n",
        "        elif len(df[col].unique()) > 2:\n",
        "            mcat_cols.append(col)\n",
        "\n",
        "    return num_cols, bcat_cols, mcat_cols\n"
      ]
    },
    {
      "cell_type": "code",
      "execution_count": 160,
      "metadata": {},
      "outputs": [
        {
          "data": {
            "text/html": [
              "<div>\n",
              "<style scoped>\n",
              "    .dataframe tbody tr th:only-of-type {\n",
              "        vertical-align: middle;\n",
              "    }\n",
              "\n",
              "    .dataframe tbody tr th {\n",
              "        vertical-align: top;\n",
              "    }\n",
              "\n",
              "    .dataframe thead th {\n",
              "        text-align: right;\n",
              "    }\n",
              "</style>\n",
              "<table border=\"1\" class=\"dataframe\">\n",
              "  <thead>\n",
              "    <tr style=\"text-align: right;\">\n",
              "      <th></th>\n",
              "      <th>gender</th>\n",
              "      <th>SeniorCitizen</th>\n",
              "      <th>Partner</th>\n",
              "      <th>Dependents</th>\n",
              "      <th>tenure</th>\n",
              "      <th>PhoneService</th>\n",
              "      <th>PaperlessBilling</th>\n",
              "      <th>MonthlyCharges</th>\n",
              "      <th>TotalCharges</th>\n",
              "      <th>Churn</th>\n",
              "      <th>...</th>\n",
              "      <th>StreamingMovies_No</th>\n",
              "      <th>StreamingMovies_No internet service</th>\n",
              "      <th>StreamingMovies_Yes</th>\n",
              "      <th>Contract_Month-to-month</th>\n",
              "      <th>Contract_One year</th>\n",
              "      <th>Contract_Two year</th>\n",
              "      <th>PaymentMethod_Bank transfer (automatic)</th>\n",
              "      <th>PaymentMethod_Credit card (automatic)</th>\n",
              "      <th>PaymentMethod_Electronic check</th>\n",
              "      <th>PaymentMethod_Mailed check</th>\n",
              "    </tr>\n",
              "  </thead>\n",
              "  <tbody>\n",
              "    <tr>\n",
              "      <th>0</th>\n",
              "      <td>0</td>\n",
              "      <td>0</td>\n",
              "      <td>1</td>\n",
              "      <td>0</td>\n",
              "      <td>1</td>\n",
              "      <td>0</td>\n",
              "      <td>1</td>\n",
              "      <td>29.85</td>\n",
              "      <td>29.85</td>\n",
              "      <td>0</td>\n",
              "      <td>...</td>\n",
              "      <td>1</td>\n",
              "      <td>0</td>\n",
              "      <td>0</td>\n",
              "      <td>1</td>\n",
              "      <td>0</td>\n",
              "      <td>0</td>\n",
              "      <td>0</td>\n",
              "      <td>0</td>\n",
              "      <td>1</td>\n",
              "      <td>0</td>\n",
              "    </tr>\n",
              "    <tr>\n",
              "      <th>1</th>\n",
              "      <td>1</td>\n",
              "      <td>0</td>\n",
              "      <td>0</td>\n",
              "      <td>0</td>\n",
              "      <td>34</td>\n",
              "      <td>1</td>\n",
              "      <td>0</td>\n",
              "      <td>56.95</td>\n",
              "      <td>1889.50</td>\n",
              "      <td>0</td>\n",
              "      <td>...</td>\n",
              "      <td>1</td>\n",
              "      <td>0</td>\n",
              "      <td>0</td>\n",
              "      <td>0</td>\n",
              "      <td>1</td>\n",
              "      <td>0</td>\n",
              "      <td>0</td>\n",
              "      <td>0</td>\n",
              "      <td>0</td>\n",
              "      <td>1</td>\n",
              "    </tr>\n",
              "    <tr>\n",
              "      <th>2</th>\n",
              "      <td>1</td>\n",
              "      <td>0</td>\n",
              "      <td>0</td>\n",
              "      <td>0</td>\n",
              "      <td>2</td>\n",
              "      <td>1</td>\n",
              "      <td>1</td>\n",
              "      <td>53.85</td>\n",
              "      <td>108.15</td>\n",
              "      <td>1</td>\n",
              "      <td>...</td>\n",
              "      <td>1</td>\n",
              "      <td>0</td>\n",
              "      <td>0</td>\n",
              "      <td>1</td>\n",
              "      <td>0</td>\n",
              "      <td>0</td>\n",
              "      <td>0</td>\n",
              "      <td>0</td>\n",
              "      <td>0</td>\n",
              "      <td>1</td>\n",
              "    </tr>\n",
              "    <tr>\n",
              "      <th>3</th>\n",
              "      <td>1</td>\n",
              "      <td>0</td>\n",
              "      <td>0</td>\n",
              "      <td>0</td>\n",
              "      <td>45</td>\n",
              "      <td>0</td>\n",
              "      <td>0</td>\n",
              "      <td>42.30</td>\n",
              "      <td>1840.75</td>\n",
              "      <td>0</td>\n",
              "      <td>...</td>\n",
              "      <td>1</td>\n",
              "      <td>0</td>\n",
              "      <td>0</td>\n",
              "      <td>0</td>\n",
              "      <td>1</td>\n",
              "      <td>0</td>\n",
              "      <td>1</td>\n",
              "      <td>0</td>\n",
              "      <td>0</td>\n",
              "      <td>0</td>\n",
              "    </tr>\n",
              "    <tr>\n",
              "      <th>4</th>\n",
              "      <td>0</td>\n",
              "      <td>0</td>\n",
              "      <td>0</td>\n",
              "      <td>0</td>\n",
              "      <td>2</td>\n",
              "      <td>1</td>\n",
              "      <td>1</td>\n",
              "      <td>70.70</td>\n",
              "      <td>151.65</td>\n",
              "      <td>1</td>\n",
              "      <td>...</td>\n",
              "      <td>1</td>\n",
              "      <td>0</td>\n",
              "      <td>0</td>\n",
              "      <td>1</td>\n",
              "      <td>0</td>\n",
              "      <td>0</td>\n",
              "      <td>0</td>\n",
              "      <td>0</td>\n",
              "      <td>1</td>\n",
              "      <td>0</td>\n",
              "    </tr>\n",
              "  </tbody>\n",
              "</table>\n",
              "<p>5 rows × 41 columns</p>\n",
              "</div>"
            ],
            "text/plain": [
              "   gender  SeniorCitizen  Partner  Dependents  tenure  PhoneService  \\\n",
              "0       0              0        1           0       1             0   \n",
              "1       1              0        0           0      34             1   \n",
              "2       1              0        0           0       2             1   \n",
              "3       1              0        0           0      45             0   \n",
              "4       0              0        0           0       2             1   \n",
              "\n",
              "   PaperlessBilling  MonthlyCharges  TotalCharges  Churn  ...  \\\n",
              "0                 1           29.85         29.85      0  ...   \n",
              "1                 0           56.95       1889.50      0  ...   \n",
              "2                 1           53.85        108.15      1  ...   \n",
              "3                 0           42.30       1840.75      0  ...   \n",
              "4                 1           70.70        151.65      1  ...   \n",
              "\n",
              "   StreamingMovies_No  StreamingMovies_No internet service  \\\n",
              "0                   1                                    0   \n",
              "1                   1                                    0   \n",
              "2                   1                                    0   \n",
              "3                   1                                    0   \n",
              "4                   1                                    0   \n",
              "\n",
              "   StreamingMovies_Yes  Contract_Month-to-month  Contract_One year  \\\n",
              "0                    0                        1                  0   \n",
              "1                    0                        0                  1   \n",
              "2                    0                        1                  0   \n",
              "3                    0                        0                  1   \n",
              "4                    0                        1                  0   \n",
              "\n",
              "   Contract_Two year  PaymentMethod_Bank transfer (automatic)  \\\n",
              "0                  0                                        0   \n",
              "1                  0                                        0   \n",
              "2                  0                                        0   \n",
              "3                  0                                        1   \n",
              "4                  0                                        0   \n",
              "\n",
              "   PaymentMethod_Credit card (automatic)  PaymentMethod_Electronic check  \\\n",
              "0                                      0                               1   \n",
              "1                                      0                               0   \n",
              "2                                      0                               0   \n",
              "3                                      0                               0   \n",
              "4                                      0                               1   \n",
              "\n",
              "   PaymentMethod_Mailed check  \n",
              "0                           0  \n",
              "1                           1  \n",
              "2                           1  \n",
              "3                           0  \n",
              "4                           0  \n",
              "\n",
              "[5 rows x 41 columns]"
            ]
          },
          "execution_count": 160,
          "metadata": {},
          "output_type": "execute_result"
        }
      ],
      "source": [
        "# Classifying columns with the function\n",
        "num_cols, bcat_cols, mcat_cols = classifyColumns(df_clean)\n",
        "\n",
        "# Copying df for backup\n",
        "df_enc = df_clean.copy()\n",
        "\n",
        "# Using LabelEncoder to code binary variables\n",
        "le = LabelEncoder()\n",
        "for col in bcat_cols:\n",
        "    df_enc[col] = le.fit_transform(df_enc[col])\n",
        "\n",
        "# Now getting dummies for categorical variables\n",
        "df_enc = pd.get_dummies(df_enc, columns=mcat_cols)\n",
        "\n",
        "# Checking resulting dataframe\n",
        "df_enc.head()"
      ]
    },
    {
      "cell_type": "markdown",
      "metadata": {},
      "source": [
        "## Machine Learning model\n",
        "\n",
        "### Preliminary analysis\n",
        "\n",
        "Given our data pre-processing, now we can proceed and build our Machine Learning model. At first, in order to assess which classification method would better fit our model at first glance, we will build a baseline comparison where no hyperparameter or feature will be changed.\n",
        "\n",
        "The data will be split so the test data is isolated from the train/validation data in which we will build and test our models. Since we are using an imbalanced dataset, we use a *stratified sampling* approach when splitting the dataset in order to preserve relative class frequencies. For balancing the dataset, we will use the **Random Under Sampling** (RUS) approach, from the *imbalanced-learn* library, to randomly select samples from the default class. More on RUS can be found [here](https://imbalanced-learn.org/stable/references/generated/imblearn.under_sampling.RandomUnderSampler.html). This will improve our recall rates, which will be the evaluation metric of choice due to imbalance. Before doing so, we also standardize the data."
      ]
    },
    {
      "cell_type": "code",
      "execution_count": 161,
      "metadata": {},
      "outputs": [],
      "source": [
        "# Extracting target from dataset\n",
        "X = df_enc.drop('Churn', axis=1)\n",
        "y = df_enc['Churn']\n",
        "\n",
        "# Separating train/test data\n",
        "X_train, X_test, y_train, y_test = train_test_split(X, y, stratify=y, shuffle=True, random_state=42)\n",
        "\n",
        "# Standardizing data\n",
        "scaler = StandardScaler().fit(X_train)\n",
        "X_train = scaler.transform(X_train)\n",
        "\n",
        "# Random Under Sampling\n",
        "rus = RandomUnderSampler()\n",
        "X_train_rus, y_train_rus = rus.fit_resample(X_train, y_train)"
      ]
    },
    {
      "cell_type": "code",
      "execution_count": 162,
      "metadata": {},
      "outputs": [],
      "source": [
        "# Creating our evaluation function\n",
        "def crossValClassModels(X, y, scaler, metric):\n",
        "    \"\"\"\n",
        "    Makes cross validation data using multiple\n",
        "    classification models for a baseline.\n",
        "\n",
        "    Takes:\n",
        "        X = Dataframe of independend variables.\n",
        "        y = Series of the target variable.\n",
        "        scaler = Scaling method used to \n",
        "                 transform/normalize the data\n",
        "        metric = Metric chosen to evaluate models.\n",
        "\n",
        "    Returns a dataframe with 'metric' results for\n",
        "    each predefined model, with standard error.\n",
        "    \"\"\"\n",
        "\n",
        "    # List to build results df later\n",
        "    model_name = []\n",
        "    metric_result = []\n",
        "    elapsed_time = []\n",
        "    start_time = datetime.now()\n",
        "\n",
        "\n",
        "    # Converting to arrays\n",
        "    X = np.array(X)\n",
        "    y = np.array(y)\n",
        "\n",
        "    # Initiating models\n",
        "    lg = LogisticRegression()\n",
        "    dtc = DecisionTreeClassifier() \n",
        "    rf = RandomForestClassifier()\n",
        "    svm = SVC() # Support Vector Machines\n",
        "    sgd = SGDClassifier() # Stochastic Gradient Descent\n",
        "    lgbm = LGBMClassifier() # LightGBM\n",
        "    xgb = XGBClassifier(use_label_encoder=False, eval_metric=\"logloss\") #XGBoost, parameters to supress warnings\n",
        "\n",
        "    # Creating list of results\n",
        "    models = [lg, dtc, rf, svm, sgd, lgbm, xgb]\n",
        "\n",
        "    # Looping and evaluating each model\n",
        "    for model in models:\n",
        "        pipeline = make_pipeline(scaler, model)\n",
        "        scores = cross_val_score(pipeline, X, y, scoring = metric)\n",
        "        model_name.append(model.__class__.__name__)\n",
        "        metric_result.append(\"{:.4f} (+/- {:.4f})\".format(scores.mean(), scores.std()))\n",
        "        elapsed_time.append((datetime.now()-start_time).total_seconds())\n",
        "        start_time = datetime.now()\n",
        "\n",
        "    metric_name = metric.capitalize()\n",
        "    results_df = pd.DataFrame({'Model': model_name,\n",
        "                                metric_name: metric_result,\n",
        "                                'Elapsed time': elapsed_time})\n",
        "\n",
        "    return(results_df)"
      ]
    },
    {
      "cell_type": "code",
      "execution_count": 163,
      "metadata": {},
      "outputs": [
        {
          "data": {
            "text/html": [
              "<div>\n",
              "<style scoped>\n",
              "    .dataframe tbody tr th:only-of-type {\n",
              "        vertical-align: middle;\n",
              "    }\n",
              "\n",
              "    .dataframe tbody tr th {\n",
              "        vertical-align: top;\n",
              "    }\n",
              "\n",
              "    .dataframe thead th {\n",
              "        text-align: right;\n",
              "    }\n",
              "</style>\n",
              "<table border=\"1\" class=\"dataframe\">\n",
              "  <thead>\n",
              "    <tr style=\"text-align: right;\">\n",
              "      <th></th>\n",
              "      <th>Model</th>\n",
              "      <th>Recall</th>\n",
              "      <th>Elapsed time</th>\n",
              "    </tr>\n",
              "  </thead>\n",
              "  <tbody>\n",
              "    <tr>\n",
              "      <th>0</th>\n",
              "      <td>LogisticRegression</td>\n",
              "      <td>0.7982 (+/- 0.0385)</td>\n",
              "      <td>0.095622</td>\n",
              "    </tr>\n",
              "    <tr>\n",
              "      <th>1</th>\n",
              "      <td>DecisionTreeClassifier</td>\n",
              "      <td>0.6883 (+/- 0.0114)</td>\n",
              "      <td>0.052334</td>\n",
              "    </tr>\n",
              "    <tr>\n",
              "      <th>2</th>\n",
              "      <td>RandomForestClassifier</td>\n",
              "      <td>0.7575 (+/- 0.0340)</td>\n",
              "      <td>1.053639</td>\n",
              "    </tr>\n",
              "    <tr>\n",
              "      <th>3</th>\n",
              "      <td>SVC</td>\n",
              "      <td>0.7796 (+/- 0.0389)</td>\n",
              "      <td>1.008830</td>\n",
              "    </tr>\n",
              "    <tr>\n",
              "      <th>4</th>\n",
              "      <td>SGDClassifier</td>\n",
              "      <td>0.7182 (+/- 0.0977)</td>\n",
              "      <td>0.084799</td>\n",
              "    </tr>\n",
              "    <tr>\n",
              "      <th>5</th>\n",
              "      <td>LGBMClassifier</td>\n",
              "      <td>0.7710 (+/- 0.0180)</td>\n",
              "      <td>0.466964</td>\n",
              "    </tr>\n",
              "    <tr>\n",
              "      <th>6</th>\n",
              "      <td>XGBClassifier</td>\n",
              "      <td>0.7589 (+/- 0.0188)</td>\n",
              "      <td>0.678631</td>\n",
              "    </tr>\n",
              "  </tbody>\n",
              "</table>\n",
              "</div>"
            ],
            "text/plain": [
              "                    Model               Recall  Elapsed time\n",
              "0      LogisticRegression  0.7982 (+/- 0.0385)      0.095622\n",
              "1  DecisionTreeClassifier  0.6883 (+/- 0.0114)      0.052334\n",
              "2  RandomForestClassifier  0.7575 (+/- 0.0340)      1.053639\n",
              "3                     SVC  0.7796 (+/- 0.0389)      1.008830\n",
              "4           SGDClassifier  0.7182 (+/- 0.0977)      0.084799\n",
              "5          LGBMClassifier  0.7710 (+/- 0.0180)      0.466964\n",
              "6           XGBClassifier  0.7589 (+/- 0.0188)      0.678631"
            ]
          },
          "execution_count": 163,
          "metadata": {},
          "output_type": "execute_result"
        }
      ],
      "source": [
        "# Executing it in our traning data\n",
        "crossValClassModels(X_train_rus, y_train_rus, StandardScaler(), 'recall')"
      ]
    },
    {
      "cell_type": "markdown",
      "metadata": {},
      "source": [
        "Based on these preliminary results, we can see that the `LGBMClassifier` outperforms other methods when we consider `recall` and its standard deviation as well as the time it took to run the calculations. Our best `recall` was found in the `LogisticRegression` model, but it offers few parameters for model tunning in comparison with the gradient boosting model LightGBM. Since LightGBM is said to not perform well in datasets below the 10,000 observations count, we will use a model that was similarly effective in these results, which is the `XGBClassifier`, or XGBoost.\n",
        "\n",
        "### XGBoost model tunning\n",
        "\n",
        "One of the issues when trying to classify data using Machine Learning is *overfitting*. This occurs when you have high training accuracy, but your test accuracy actually is considerably lower. This happens because the model fitted too close to the training data, and may fail to actually predict the outcome in the test dataset. To deal with that, there are a few parameters that we can tune according to [XGBoost's documentation](https://xgboost.readthedocs.io/en/stable/tutorials/param_tuning.html) to avoid overfitting:\n",
        "\n",
        "* Changing complexity parameters = `max_depth`, `min_child_weight` and `gamma`.\n",
        "* Adding randomness (noise robustness) = `subsample`, `colsample_bytree` and `eta` (reducing it requires increase in `num_round`).\n",
        "\n",
        "A good start point in gradient boosting models is to tune the learning rate (`learning_rate`) and the number of estimators (`n_estimators`) in the model. After adjusting for those, we will adjust the complexity parameters. We will not add randomness to the model since we have yet to see how our model will perform on test data. These steps will be made through a Grid Search Cross Validation approach."
      ]
    },
    {
      "cell_type": "code",
      "execution_count": 164,
      "metadata": {},
      "outputs": [],
      "source": [
        "# Initiating our model with base learning rate\n",
        "xgb = XGBClassifier(learning_rate=0.1, eval_metric='logloss', use_label_encoder=False)\n",
        "\n",
        "# Parameters grid\n",
        "param_grid = {\n",
        "    'n_estimators': range(0, 1000, 50)\n",
        "}\n",
        "\n",
        "# KFold stratification\n",
        "kfold = StratifiedKFold(n_splits=10, shuffle=True, random_state=42)\n",
        "\n",
        "# Creating our grid search\n",
        "grid_search = GridSearchCV(xgb, param_grid, scoring='recall', n_jobs=-1, cv=kfold)\n",
        "search_results = grid_search.fit(X_train_rus, y_train_rus)"
      ]
    },
    {
      "cell_type": "code",
      "execution_count": 165,
      "metadata": {},
      "outputs": [
        {
          "name": "stdout",
          "output_type": "stream",
          "text": [
            "Best score was: 0.78 for {'n_estimators': 50}\n"
          ]
        }
      ],
      "source": [
        "# Checking results\n",
        "print(\"Best score was: {:.2f} for {}\".format(search_results.best_score_, search_results.best_params_))"
      ]
    },
    {
      "cell_type": "markdown",
      "metadata": {},
      "source": [
        "Seeing that 50 is gave the best score, we reinitialize our model using these parameters and look for others."
      ]
    },
    {
      "cell_type": "code",
      "execution_count": 166,
      "metadata": {},
      "outputs": [],
      "source": [
        "# Initiating our model with base learning rate and n_estimators\n",
        "xgb = XGBClassifier(learning_rate=0.1, n_estimators=50, eval_metric='logloss', use_label_encoder=False)\n",
        "\n",
        "# Parameters grid\n",
        "param_grid = {\n",
        "    'max_depth': range(1, 10, 1),\n",
        "    'min_child_weight': range(1, 5, 1),\n",
        "    'gamma': [i/10 for i in range(0,5)]\n",
        "}\n",
        "\n",
        "# KFold stratification\n",
        "kfold = StratifiedKFold(n_splits=10, shuffle=True, random_state=42)\n",
        "\n",
        "# Creating our grid search\n",
        "grid_search = GridSearchCV(xgb, param_grid, scoring='recall', n_jobs=-1, cv=kfold)\n",
        "search_results = grid_search.fit(X_train_rus, y_train_rus)"
      ]
    },
    {
      "cell_type": "code",
      "execution_count": 167,
      "metadata": {},
      "outputs": [
        {
          "name": "stdout",
          "output_type": "stream",
          "text": [
            "Best score was: 0.82 for {'gamma': 0.0, 'max_depth': 1, 'min_child_weight': 1}\n"
          ]
        }
      ],
      "source": [
        "# Checking results\n",
        "print(\"Best score was: {:.2f} for {}\".format(search_results.best_score_, search_results.best_params_))"
      ]
    },
    {
      "cell_type": "markdown",
      "metadata": {},
      "source": [
        "Now we estimate the better value for `learning_rate`:"
      ]
    },
    {
      "cell_type": "code",
      "execution_count": 168,
      "metadata": {},
      "outputs": [],
      "source": [
        "# Initiating our model with base learning rate and n_estimators\n",
        "xgb = XGBClassifier(max_depth=1, min_child_weight=1, gamma=0, n_estimators=50, eval_metric='logloss', use_label_encoder=False)\n",
        "\n",
        "# Parameters grid\n",
        "param_grid = {\n",
        "    'learning_rate': [1/i for i in [10**j for j in range(0,4)]],\n",
        "}\n",
        "\n",
        "# KFold stratification\n",
        "kfold = StratifiedKFold(n_splits=10, shuffle=True, random_state=42)\n",
        "\n",
        "# Creating our grid search\n",
        "grid_search = GridSearchCV(xgb, param_grid, scoring='recall', n_jobs=-1, cv=kfold)\n",
        "search_results = grid_search.fit(X_train_rus, y_train_rus)"
      ]
    },
    {
      "cell_type": "code",
      "execution_count": 169,
      "metadata": {},
      "outputs": [
        {
          "name": "stdout",
          "output_type": "stream",
          "text": [
            "Best score was: 0.89 for {'learning_rate': 0.01}\n"
          ]
        }
      ],
      "source": [
        "# Checking results\n",
        "print(\"Best score was: {:.2f} for {}\".format(search_results.best_score_, search_results.best_params_))"
      ]
    },
    {
      "cell_type": "markdown",
      "metadata": {},
      "source": [
        "We can see that changing these parameters improved our model substantially. We could try further enhancements in parameter tunning, but we already have a good recall score for our model. Thus, to avoid overfitting, we will proceed to the test phase.\n",
        "\n",
        "### Testing our model\n",
        "\n",
        "Now let us do the testing."
      ]
    },
    {
      "cell_type": "code",
      "execution_count": 170,
      "metadata": {},
      "outputs": [],
      "source": [
        "# Instantiating our classifier with found parameters\n",
        "xgb = XGBClassifier(max_depth=1, min_child_weight=1, gamma=0, n_estimators=50, \n",
        "                    learning_rate=0.01, eval_metric='logloss', use_label_encoder=False)\n",
        "\n",
        "# Fitting our test data\n",
        "xgb.fit(X_train_rus, y_train_rus)\n",
        "\n",
        "# Predicting\n",
        "X_test_backup = X_test.copy()\n",
        "X_test = scaler.transform(X_test)\n",
        "y_pred = xgb.predict(X_test)"
      ]
    },
    {
      "cell_type": "markdown",
      "metadata": {},
      "source": [
        "After fitting and predicting, we check our metrics:"
      ]
    },
    {
      "cell_type": "code",
      "execution_count": 171,
      "metadata": {},
      "outputs": [
        {
          "name": "stdout",
          "output_type": "stream",
          "text": [
            "              precision    recall  f1-score   support\n",
            "\n",
            "           0       0.93      0.57      0.71      1294\n",
            "           1       0.43      0.89      0.58       467\n",
            "\n",
            "    accuracy                           0.66      1761\n",
            "   macro avg       0.68      0.73      0.64      1761\n",
            "weighted avg       0.80      0.66      0.67      1761\n",
            "\n",
            "     ROC AUC       0.73\n"
          ]
        }
      ],
      "source": [
        "# Classification report\n",
        "print(classification_report(y_test, y_pred))\n",
        "\n",
        "# Calculating ROC AUC score\n",
        "print(\"     ROC AUC       {:.2f}\".format(roc_auc_score(y_test, y_pred)))"
      ]
    },
    {
      "cell_type": "code",
      "execution_count": 172,
      "metadata": {},
      "outputs": [
        {
          "data": {
            "image/png": "[encoded data removed]",
            "text/plain": [
              "<Figure size 432x288 with 2 Axes>"
            ]
          },
          "metadata": {
            "needs_background": "light"
          },
          "output_type": "display_data"
        }
      ],
      "source": [
        "# Confusion matryx\n",
        "plot_confusion_matrix(y_test, y_pred, normalize=True)\n",
        "plt.show()"
      ]
    },
    {
      "cell_type": "markdown",
      "metadata": {},
      "source": [
        "We can see that in our test phase we have obtained similar results to those of the training model. The **recall**, or sensitivity, is the ability of our model to correctly identify all positive cases. Although there is definitely room for improvement (with feature selection/engineering or further tunning of hyperparamenters), we have achieved good recall rates both in train and test phases. But what does 89% recall rate means here? How does that relate to Churn and Churn rate?\n",
        "\n",
        "## Churn Rate\n",
        "\n",
        "As mentioned in the beginning, **Churn Rate** represents the percentage of clients that have left the company service over a analysed period of time. For telecom companies, the churn rate has been estimated at 1.9-2.1% monthly, and 10-67% anually<sup><a href=\"http://www.dbmarketing.com/telecom/churnreduction.html\">3</a></sup>. Another useful KPI for evaluating Churn is the **Gross MRR Churn Rate**. The Gross *Monthly Recurring Revenue* Churn Rate is, in turn, the percentage of revenue lost by the company due to Churn of clients<sup><a href=\"https://www.geckoboard.com/best-practice/kpi-examples/gross-mrr-churn-rate/\">4</a></sup>.\n",
        "\n",
        "These KPIs can be calculated by the following:\n",
        "\n",
        "**Churn Rate** = $C_B - C_E \\over C_B$ $\\times 100$, where $C_B$ is the number of customers at the beginning of the period and $C_E$ is the number of customers at the end of the period.\n",
        "\n",
        "**Gross MRR Churn Rate** = $MRR_C \\over MRR_T$ $\\times 100$, where $MRR_C$ is the MRR lost due to churn in that month and $MRR_T$ is the total MRR there would be without the loss of clients for that period.\n",
        "\n",
        "So, let's see how these metrics apply to our model."
      ]
    },
    {
      "cell_type": "code",
      "execution_count": 216,
      "metadata": {},
      "outputs": [],
      "source": [
        "# Creating function to calculate our metrics\n",
        "def calcChurnKPIs(y_test, y_pred, X_test, value_column):\n",
        "    \"\"\"\n",
        "    Function to calculate Churn Rate and Gross MMR Churn Rate.\n",
        "    Takes as arguments the y_test and y_pred from final model,\n",
        "    the X_test (w/ column names! be careful when using scaler!)\n",
        "    and value_column as the name of column with MRR variable.\n",
        "    \"\"\"\n",
        "\n",
        "    # Creating dict\n",
        "    predictions = {'Index': y_test.index.values,\n",
        "                   'Amount': X_test[value_column],\n",
        "                   'Class': y_test.to_numpy(),\n",
        "                   'Model Prediction': y_pred,\n",
        "                   'Catch': \"\"\n",
        "                   }\n",
        "\n",
        "    # Converting to df\n",
        "    predictions_df = pd.DataFrame(predictions).reset_index()\n",
        "\n",
        "    # Looping to identify churners\n",
        "    for i in range(predictions_df.shape[0]):\n",
        "        if predictions_df.loc[i, 'Class'] == 1:\n",
        "            if predictions_df.loc[i, 'Class'] == predictions_df.loc[i, 'Model Prediction']:\n",
        "                predictions_df.loc[i,'Catch'] = 'Detected Churn'\n",
        "            else:\n",
        "                predictions_df.loc[i,'Catch'] = 'Undetected Churn'\n",
        "        elif predictions_df.loc[i, 'Class'] == 0 and predictions_df.loc[i, 'Model Prediction'] == 1:\n",
        "            predictions_df.loc[i,'Catch'] = 'Detected, not Churn'\n",
        "        else:\n",
        "            predictions_df.loc[i,'Catch'] = 'Not churn'\n",
        "\n",
        "    # Extracting information\n",
        "    n_customer = len(y_test)\n",
        "    n_churn = predictions_df.Catch.value_counts()['Detected Churn'] + predictions_df.Catch.value_counts()['Undetected Churn']\n",
        "    n_churn_detected = predictions_df.Catch.value_counts()['Detected Churn']\n",
        "    total_mrr = predictions_df.Amount.sum()\n",
        "    churn_mrr = predictions_df.loc[predictions_df['Catch'] == 'Detected Churn'].Amount.sum() + predictions_df.loc[predictions_df['Catch'] == 'Undetected Churn'].Amount.sum()\n",
        "    churn_mrr_detected = predictions_df.loc[predictions_df['Catch'] == 'Detected Churn'].Amount.sum()\n",
        "\n",
        "    # Creating kpi dictionary\n",
        "    kpis_dict = {'KPI': ['Churn Rate', 'Gross MRR Churn Rate', 'Gross MRR Loss'],\n",
        "                 'Real': [\"{:.2%}\".format(n_churn/n_customer),\n",
        "                          \"{:.2%}\".format(churn_mrr/total_mrr),\n",
        "                          \"${:,.2f}\".format(churn_mrr)],\n",
        "                 'Detected': [\"{:.2%}\".format(n_churn_detected/n_customer),\n",
        "                              \"{:.2%}\".format(churn_mrr_detected/total_mrr),\n",
        "                              \"${:,.2f}\".format(churn_mrr_detected)],\n",
        "                 'Difference': [\"{:.2%}\".format((n_churn/n_customer)-(n_churn_detected/n_customer)),\n",
        "                                \"{:.2%}\".format((churn_mrr/total_mrr)-(churn_mrr_detected/total_mrr)),\n",
        "                                \"${:,.2f}\".format(churn_mrr-churn_mrr_detected)]}\n",
        "\n",
        "    # Converting to dataframe\n",
        "    kpis_df = pd.DataFrame(kpis_dict)\n",
        "\n",
        "    print(\"Gross MRR for the period analysed: ${:,.2f}\".format(total_mrr))\n",
        "    return(kpis_df)"
      ]
    },
    {
      "cell_type": "code",
      "execution_count": 217,
      "metadata": {},
      "outputs": [
        {
          "name": "stdout",
          "output_type": "stream",
          "text": [
            "Gross MRR for the period analysed: $113,543.90\n"
          ]
        },
        {
          "data": {
            "text/html": [
              "<div>\n",
              "<style scoped>\n",
              "    .dataframe tbody tr th:only-of-type {\n",
              "        vertical-align: middle;\n",
              "    }\n",
              "\n",
              "    .dataframe tbody tr th {\n",
              "        vertical-align: top;\n",
              "    }\n",
              "\n",
              "    .dataframe thead th {\n",
              "        text-align: right;\n",
              "    }\n",
              "</style>\n",
              "<table border=\"1\" class=\"dataframe\">\n",
              "  <thead>\n",
              "    <tr style=\"text-align: right;\">\n",
              "      <th></th>\n",
              "      <th>KPI</th>\n",
              "      <th>Real</th>\n",
              "      <th>Detected</th>\n",
              "      <th>Difference</th>\n",
              "    </tr>\n",
              "  </thead>\n",
              "  <tbody>\n",
              "    <tr>\n",
              "      <th>0</th>\n",
              "      <td>Churn Rate</td>\n",
              "      <td>26.52%</td>\n",
              "      <td>23.51%</td>\n",
              "      <td>3.01%</td>\n",
              "    </tr>\n",
              "    <tr>\n",
              "      <th>1</th>\n",
              "      <td>Gross MRR Churn Rate</td>\n",
              "      <td>30.22%</td>\n",
              "      <td>26.16%</td>\n",
              "      <td>4.06%</td>\n",
              "    </tr>\n",
              "    <tr>\n",
              "      <th>2</th>\n",
              "      <td>Gross MRR Loss</td>\n",
              "      <td>$34,315.40</td>\n",
              "      <td>$29,704.05</td>\n",
              "      <td>$4,611.35</td>\n",
              "    </tr>\n",
              "  </tbody>\n",
              "</table>\n",
              "</div>"
            ],
            "text/plain": [
              "                    KPI        Real    Detected Difference\n",
              "0            Churn Rate      26.52%      23.51%      3.01%\n",
              "1  Gross MRR Churn Rate      30.22%      26.16%      4.06%\n",
              "2        Gross MRR Loss  $34,315.40  $29,704.05  $4,611.35"
            ]
          },
          "execution_count": 217,
          "metadata": {},
          "output_type": "execute_result"
        }
      ],
      "source": [
        "calcChurnKPIs(y_test, y_pred, X_test_backup, 'MonthlyCharges')"
      ]
    },
    {
      "cell_type": "code",
      "execution_count": 268,
      "metadata": {},
      "outputs": [
        {
          "data": {
            "image/png": "[encoded data removed]",
            "text/plain": [
              "<Waffle size 864x288 with 1 Axes>"
            ]
          },
          "metadata": {
            "needs_background": "light"
          },
          "output_type": "display_data"
        }
      ],
      "source": [
        "# Plotting results\n",
        "fig = plt.figure(FigureClass=Waffle,\n",
        "                 figsize=(12,4),\n",
        "                 rows=5,\n",
        "                 columns=20,\n",
        "                 title={'label': 'Churn impact in Gross MRR', \n",
        "                        'loc': 'center', \n",
        "                        'fontdict': {'fontsize': 16, 'fontweight': 'bold'}},\n",
        "                 colors=('#2EB086', '#2E99B0', '#B8405E'),\n",
        "                 icons='sack-dollar',\n",
        "                 values={'Remaining MRR': 113543.9,\n",
        "                         'Identified churn': 29704.05,\n",
        "                         'Escaped churn': 4611.35},\n",
        "                 legend={'loc': 'upper left',\n",
        "                         'bbox_to_anchor': (1.1, 1),\n",
        "                         'fontsize': 14},\n",
        "                )\n",
        "\n",
        "fig.set_tight_layout(False)\n",
        "plt.show()"
      ]
    },
    {
      "cell_type": "markdown",
      "metadata": {},
      "source": [
        "From these results, it can be seen that we were able to identify most of the churners in this dataset. From churners in the dataset, we identified 23% out of 26% churners (3% difference from the real number of churners), which would represent $29,704.05 of the Gross MRR.\n",
        "\n",
        "## Conclusion\n",
        "\n",
        "Overall, without putting much effort in tuning hyperparameters, we were able to obtain recall rates of 89% in both train and test data. With this, we were able to identify 23% out of 26% churners in the dataset. Company strategies aiming to retain these customers could prevent the loss of $29,704.05 monthly. This represents a great prospect for companies that deal with high churn. \n",
        "\n",
        "The dataset page on Kaggle specifies that the churn data represents churners that left within the last month of the time span analysed. This means that our data has a month Churn Rate a lot higher (26.5%) than average (1.9-2.1%). \n",
        "\n",
        "Supposing the company was able to retain all the churners previously identified by our model, this would mean a reduction of Churn Rate from 26% to roughly 3%. Although this is still higher than average, it represents a substantial improvement and opens the way to implement further strategies to reduce revenue loss by the company. Thus, we conclude that our model would have a positive impact in implementing strategies against churn rate in this dataset."
      ]
    },
    {
      "cell_type": "markdown",
      "metadata": {},
      "source": [
        "# References\n",
        "1: https://smallbiztrends.com/2016/10/customer-retention-statistics.html\n",
        "\n",
        "2: https://hbr.org/2014/10/the-value-of-keeping-the-right-customers\n",
        "\n",
        "3: http://www.dbmarketing.com/telecom/churnreduction.html\n",
        "\n",
        "4: https://www.geckoboard.com/best-practice/kpi-examples/gross-mrr-churn-rate/"
      ]
    }
  ],
  "metadata": {
    "colab": {
      "collapsed_sections": [],
      "name": "DSNP 3.0 - [Template] Churn Prediction para uma empresa de Telecomunicações.ipynb",
      "provenance": []
    },
    "kernelspec": {
      "display_name": "Python 3.8.13 ('py38')",
      "language": "python",
      "name": "python3"
    },
    "language_info": {
      "codemirror_mode": {
        "name": "ipython",
        "version": 3
      },
      "file_extension": ".py",
      "mimetype": "text/x-python",
      "name": "python",
      "nbconvert_exporter": "python",
      "pygments_lexer": "ipython3",
      "version": "3.8.13"
    },
    "vscode": {
      "interpreter": {
        "hash": "f6a1ac8896521e810f438d3cca41637243694ef8eb7aab814fd4ddb688523bff"
      }
    }
  },
  "nbformat": 4,
  "nbformat_minor": 0
}
