{
  "cells": [
    {
      "cell_type": "markdown",
      "metadata": {
        "id": "EE9X48au6Mez"
      },
      "source": [
        "<img alt=\"Colaboratory logo\" width=\"15%\" src=\"https://raw.githubusercontent.com/carlosfab/escola-data-science/master/img/novo_logo_bg_claro.png\">\n",
        "\n",
        "#### **Data Science na Prática 3.0**\n",
        "\n",
        "\n",
        "---"
      ]
    },
    {
      "cell_type": "markdown",
      "metadata": {},
      "source": [
        "<p align=center>\n",
        "<img src=\"img/fetal_health.jpg\" width=\"40%\"><br>\n",
        "<i><sup>Image credits: freepik (<a href=\"https://br.freepik.com/vetores-gratis/gravidez-e-cenas-de-maternidade_9882829.htm\">www.freepik.com</a>)</sup></i>\n",
        "</p>\n"
      ]
    },
    {
      "cell_type": "markdown",
      "metadata": {},
      "source": []
    }
  ],
  "metadata": {
    "colab": {
      "collapsed_sections": [],
      "name": "[PROJETO] Classificação com PyCaret",
      "provenance": []
    },
    "kernelspec": {
      "display_name": "Python 3.9.12 ('base')",
      "language": "python",
      "name": "python3"
    },
    "language_info": {
      "name": "python",
      "version": "3.9.12"
    },
    "vscode": {
      "interpreter": {
        "hash": "0a7a6f8b9e12af56cfb55fbb376ef7e3df3279f8f475f9beea5c617149b07873"
      }
    }
  },
  "nbformat": 4,
  "nbformat_minor": 0
}
