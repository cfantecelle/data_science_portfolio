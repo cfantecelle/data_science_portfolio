{
  "cells": [
    {
      "cell_type": "markdown",
      "metadata": {
        "id": "EE9X48au6Mez"
      },
      "source": [
        "<img alt=\"Colaboratory logo\" width=\"15%\" src=\"https://raw.githubusercontent.com/carlosfab/escola-data-science/master/img/novo_logo_bg_claro.png\">\n",
        "\n",
        "#### **Data Science na Prática 3.0**\n",
        "\n",
        "\n",
        "---"
      ]
    },
    {
      "cell_type": "markdown",
      "metadata": {},
      "source": [
        "# Fetal Health prediction\n",
        "\n",
        "Maternity is an important part of life, especially in humans (and mammals in general) where newborns require a higher degree of parental care. Thus, assessing Fetal Health must be an important part of any healthcare program.\n",
        "\n",
        "<p align=center>\n",
        "<img src=\"img/fetal_health.jpg\" width=\"40%\"><br>\n",
        "<i><sup>Image credits: freepik (<a href=\"https://br.freepik.com/vetores-gratis/gravidez-e-cenas-de-maternidade_9882829.htm\">www.freepik.com</a>)</sup></i>\n",
        "</p>\n",
        "\n",
        "Usually, a regular pregnancy lasts around 37 to 42 weeks<sup>1</sup>. This period is usually divided into three months periods (trimesters), and the fetus grows and develops in each and every phase. Asssesing the fetus' health during these periods are very important and can help keep the parent and the baby healthy, spot issues if there are any and prevent problems during delivery, among other benefits<sup>2</sup>. "
      ]
    },
    {
      "cell_type": "markdown",
      "metadata": {},
      "source": []
    },
    {
      "cell_type": "markdown",
      "metadata": {},
      "source": [
        "## References\n",
        "\n",
        "1: https://www.nhs.uk/pregnancy/finding-out/due-date-calculator/\n",
        "\n",
        "2: https://medlineplus.gov/fetalhealthanddevelopment.html"
      ]
    },
    {
      "cell_type": "markdown",
      "metadata": {},
      "source": []
    },
    {
      "cell_type": "markdown",
      "metadata": {},
      "source": []
    }
  ],
  "metadata": {
    "colab": {
      "collapsed_sections": [],
      "name": "[PROJETO] Classificação com PyCaret",
      "provenance": []
    },
    "kernelspec": {
      "display_name": "Python 3.9.13 ('base')",
      "language": "python",
      "name": "python3"
    },
    "language_info": {
      "name": "python",
      "version": "3.9.13"
    },
    "vscode": {
      "interpreter": {
        "hash": "8e76f8642360a3358ab06c318ab18c1161224eb3836609d5c16edea6f6e43dba"
      }
    }
  },
  "nbformat": 4,
  "nbformat_minor": 0
}
