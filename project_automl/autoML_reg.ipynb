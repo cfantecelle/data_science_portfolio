{
  "cells": [
    {
      "cell_type": "markdown",
      "metadata": {
        "id": "EE9X48au6Mez"
      },
      "source": [
        "<img alt=\"Colaboratory logo\" width=\"15%\" src=\"https://raw.githubusercontent.com/carlosfab/escola-data-science/master/img/novo_logo_bg_claro.png\">\n",
        "\n",
        "#### **Data Science na Prática 3.0**\n",
        "\n",
        "\n",
        "---"
      ]
    },
    {
      "cell_type": "markdown",
      "metadata": {},
      "source": [
        "# Predicting Health Insurance costs\n",
        "\n",
        "When acquiring Health Insurance, it is common that the we pay a fixed and low amount of money, in return to being covered by the insurance over a high amount of charges during a moment of healthcare need or emergency. Given this fact, is important for insurance companies to predict the cost of customers in case such an event arises, so that their business is still feasible. This is a difficult issue, because it is hard to predict when and how someone will become ill. However, certain aspects of people's behaviour, habits and medical history might be able to tell us how much these patients will cost for the insurance company.\n",
        "\n",
        "<p align=center>\n",
        "<img src=\"img/health_insurance.png\" width=\"30%\"><br>\n",
        "<i><sup>Image credits: pch.vector (<a href=\"https://br.freepik.com/vetores-gratis/pai-apertando-as-maos-com-agente-de-seguros_6974887.htm\">www.freepik.com</a>)</sup></i>\n",
        "</p>\n",
        "\n",
        "In this notebook we will be looking at a Health Insurance Cost dataset, using regression machine learning models in [PyCaret](https://pycaret.org/). PyCaret is a popular, low-code library, that provides an automated way to create data analysis workflows using Machine Learning. It aims to reduce time used for coding the models, while leaving more time for the analyses themselves."
      ]
    },
    {
      "cell_type": "markdown",
      "metadata": {},
      "source": [
        "# The Data\n",
        "\n",
        "The data for this project was obtained on [Kaggle](https://www.kaggle.com/annetxu/health-insurance-cost-prediction). There is not much information about it on the page, but it is a simple dataset (with 7 columns, only) which features characteristics of the individuals and their insurance charges over the period analysed (unknown). For ease of access I have downloaded the dataset and included it in the `data` folder for this project.\n"
      ]
    },
    {
      "cell_type": "code",
      "execution_count": 2,
      "metadata": {},
      "outputs": [
        {
          "data": {
            "text/html": [
              "<div>\n",
              "<style scoped>\n",
              "    .dataframe tbody tr th:only-of-type {\n",
              "        vertical-align: middle;\n",
              "    }\n",
              "\n",
              "    .dataframe tbody tr th {\n",
              "        vertical-align: top;\n",
              "    }\n",
              "\n",
              "    .dataframe thead th {\n",
              "        text-align: right;\n",
              "    }\n",
              "</style>\n",
              "<table border=\"1\" class=\"dataframe\">\n",
              "  <thead>\n",
              "    <tr style=\"text-align: right;\">\n",
              "      <th></th>\n",
              "      <th>age</th>\n",
              "      <th>sex</th>\n",
              "      <th>bmi</th>\n",
              "      <th>children</th>\n",
              "      <th>smoker</th>\n",
              "      <th>region</th>\n",
              "      <th>charges</th>\n",
              "    </tr>\n",
              "  </thead>\n",
              "  <tbody>\n",
              "    <tr>\n",
              "      <th>0</th>\n",
              "      <td>19</td>\n",
              "      <td>female</td>\n",
              "      <td>27.900</td>\n",
              "      <td>0</td>\n",
              "      <td>yes</td>\n",
              "      <td>southwest</td>\n",
              "      <td>16884.92400</td>\n",
              "    </tr>\n",
              "    <tr>\n",
              "      <th>1</th>\n",
              "      <td>18</td>\n",
              "      <td>male</td>\n",
              "      <td>33.770</td>\n",
              "      <td>1</td>\n",
              "      <td>no</td>\n",
              "      <td>southeast</td>\n",
              "      <td>1725.55230</td>\n",
              "    </tr>\n",
              "    <tr>\n",
              "      <th>2</th>\n",
              "      <td>28</td>\n",
              "      <td>male</td>\n",
              "      <td>33.000</td>\n",
              "      <td>3</td>\n",
              "      <td>no</td>\n",
              "      <td>southeast</td>\n",
              "      <td>4449.46200</td>\n",
              "    </tr>\n",
              "    <tr>\n",
              "      <th>3</th>\n",
              "      <td>33</td>\n",
              "      <td>male</td>\n",
              "      <td>22.705</td>\n",
              "      <td>0</td>\n",
              "      <td>no</td>\n",
              "      <td>northwest</td>\n",
              "      <td>21984.47061</td>\n",
              "    </tr>\n",
              "    <tr>\n",
              "      <th>4</th>\n",
              "      <td>32</td>\n",
              "      <td>male</td>\n",
              "      <td>28.880</td>\n",
              "      <td>0</td>\n",
              "      <td>no</td>\n",
              "      <td>northwest</td>\n",
              "      <td>3866.85520</td>\n",
              "    </tr>\n",
              "  </tbody>\n",
              "</table>\n",
              "</div>"
            ],
            "text/plain": [
              "   age     sex     bmi  children smoker     region      charges\n",
              "0   19  female  27.900         0    yes  southwest  16884.92400\n",
              "1   18    male  33.770         1     no  southeast   1725.55230\n",
              "2   28    male  33.000         3     no  southeast   4449.46200\n",
              "3   33    male  22.705         0     no  northwest  21984.47061\n",
              "4   32    male  28.880         0     no  northwest   3866.85520"
            ]
          },
          "execution_count": 2,
          "metadata": {},
          "output_type": "execute_result"
        }
      ],
      "source": [
        "# Importing libraries\n",
        "import pandas as pd\n",
        "import numpy as np\n",
        "import matplotlib.pyplot as plt\n",
        "import seaborn as sns\n",
        "\n",
        "# Importing pycaret tools\n",
        "from pycaret.regression import setup, compare_models, models, create_model, predict_model\n",
        "from pycaret.regression import tune_model, plot_model, evaluate_model, finalize_model\n",
        "from pycaret.regression import save_model, load_model\n",
        "\n",
        "# Getting the data\n",
        "df = pd.read_csv(\"data/insurance.csv\")\n",
        "\n",
        "# Life, the Universe, and Everything\n",
        "np.random.seed(42)\n",
        "\n",
        "# Defining plot parameters\n",
        "# plt.style.use('dark_background')\n",
        "plt.rcParams['font.family'] = 'sans-serif'\n",
        "plt.rcParams['font.sans-serif'] = 'Arial'\n",
        "plt.rcParams['font.stretch'] = 'normal'\n",
        "plt.rcParams['font.style'] = 'normal'\n",
        "plt.rcParams['font.variant'] = 'normal'\n",
        "\n",
        "# Checking first entries of the dataset\n",
        "df.head()"
      ]
    },
    {
      "cell_type": "markdown",
      "metadata": {},
      "source": [
        "## Data variables\n",
        "\n",
        "As mentioned above, the dataset comes with 7 columns only, which are:\n",
        "\n",
        "* `age` = The age of the individual insurance client.\n",
        "* `sex` = The biological sex.\n",
        "* `bmi` = Body Mass Index, a health measure based on weight divided by the squared height.\n",
        "* `children` = The number of children the individual has.\n",
        "* `smoker` = If they smoke or not.\n",
        "* `region` = The region where they live (related to the dataset origin, other information unknown).\n",
        "* `charges` = The incurred charges originanting from the specific individual."
      ]
    },
    {
      "cell_type": "markdown",
      "metadata": {
        "id": "TLbRIt7ElMWx"
      },
      "source": [
        "# PROJETO REGRESSÃO\n",
        "\n",
        "Como falamos antes, nossos templates ficarão cada vez mais simples!!\n",
        "\n",
        "O objetivo deste projeto é desenvolver um projeto de Regressão para prever o custo do Seguro de Vida, com [esses dados do Kaggle](https://www.kaggle.com/annetxu/health-insurance-cost-prediction).\n",
        "\n",
        "Aqui, queremos, como sempre, trazer o máximo de autonomia e independência pra vocês. Façam o download, e disponibilizem os seus dados, carreguem eles aqui, e desenvolvam o projeto.\n",
        "\n",
        "## Objetivos\n",
        "\n",
        "* Adquirir e disponibilizar os dados\n",
        "* Análise completa dos dados e do problema (Na mão, ou com Pandas Profiling, SweetViz, etc)\n",
        "* Desenvolver uma solução de Machine Learning eficiente com PyCaret para Regressão\n",
        "\n",
        "LEMBREM-SE: Documentação, Storytelling, Artigo com Código! \n",
        "\n",
        "Mãos à obra e boa sorte!\n"
      ]
    },
    {
      "cell_type": "code",
      "execution_count": null,
      "metadata": {
        "id": "YJPmLSNMuqVa"
      },
      "outputs": [],
      "source": []
    }
  ],
  "metadata": {
    "colab": {
      "collapsed_sections": [],
      "name": "[PROJETO] Regressão com PyCaret",
      "provenance": []
    },
    "kernelspec": {
      "display_name": "Python 3.8.13 ('python38')",
      "language": "python",
      "name": "python3"
    },
    "language_info": {
      "codemirror_mode": {
        "name": "ipython",
        "version": 3
      },
      "file_extension": ".py",
      "mimetype": "text/x-python",
      "name": "python",
      "nbconvert_exporter": "python",
      "pygments_lexer": "ipython3",
      "version": "3.8.13"
    },
    "vscode": {
      "interpreter": {
        "hash": "a8a32d9a97608199ab3ae0ff40f73de0bda2e8e57e8d8b25f32c8e6d80c45051"
      }
    }
  },
  "nbformat": 4,
  "nbformat_minor": 0
}
