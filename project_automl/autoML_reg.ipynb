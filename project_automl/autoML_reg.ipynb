{
  "cells": [
    {
      "cell_type": "markdown",
      "metadata": {
        "id": "EE9X48au6Mez"
      },
      "source": [
        "<img alt=\"Colaboratory logo\" width=\"15%\" src=\"https://raw.githubusercontent.com/carlosfab/escola-data-science/master/img/novo_logo_bg_claro.png\">\n",
        "\n",
        "#### **Data Science na Prática 3.0**\n",
        "\n",
        "\n",
        "---"
      ]
    },
    {
      "cell_type": "markdown",
      "metadata": {},
      "source": [
        "# Predicting Health Insurance costs\n",
        "\n",
        "When acquiring Health Insurance, it is common that the we pay a fixed and low amount of money, in return to being covered by the insurance over a high amount of charges during a moment of healthcare need or emergency. Given this fact, is important for insurance companies to predict the cost of customers in case such an event arises, so that their business is still feasible. This is a difficult issue, because it is hard to predict when and how someone will become ill. However, certain aspects of people's behaviour, habits and medical history might be able to tell us how much these patients will cost for the insurance company.\n",
        "\n",
        "<p align=center>\n",
        "<img src=\"img/health_insurance.png\" width=\"30%\"><br>\n",
        "<i><sup>Image credits: pch.vector (<a href=\"https://br.freepik.com/vetores-gratis/pai-apertando-as-maos-com-agente-de-seguros_6974887.htm\">www.freepik.com</a>)</sup></i>\n",
        "</p>\n",
        "\n",
        "In this notebook we will be looking at a Health Insurance Cost dataset, using regression machine learning models in [PyCaret](https://pycaret.org/). PyCaret is a popular, low-code library, that provides an automated way to create data analysis workflows using Machine Learning. It aims to reduce time used for coding the models, while leaving more time for the analyses themselves."
      ]
    },
    {
      "cell_type": "markdown",
      "metadata": {
        "id": "TLbRIt7ElMWx"
      },
      "source": [
        "# PROJETO REGRESSÃO\n",
        "\n",
        "Como falamos antes, nossos templates ficarão cada vez mais simples!!\n",
        "\n",
        "O objetivo deste projeto é desenvolver um projeto de Regressão para prever o custo do Seguro de Vida, com [esses dados do Kaggle](https://www.kaggle.com/annetxu/health-insurance-cost-prediction).\n",
        "\n",
        "Aqui, queremos, como sempre, trazer o máximo de autonomia e independência pra vocês. Façam o download, e disponibilizem os seus dados, carreguem eles aqui, e desenvolvam o projeto.\n",
        "\n",
        "## Objetivos\n",
        "\n",
        "* Adquirir e disponibilizar os dados\n",
        "* Análise completa dos dados e do problema (Na mão, ou com Pandas Profiling, SweetViz, etc)\n",
        "* Desenvolver uma solução de Machine Learning eficiente com PyCaret para Regressão\n",
        "\n",
        "LEMBREM-SE: Documentação, Storytelling, Artigo com Código! \n",
        "\n",
        "Mãos à obra e boa sorte!\n"
      ]
    },
    {
      "cell_type": "code",
      "execution_count": null,
      "metadata": {
        "id": "YJPmLSNMuqVa"
      },
      "outputs": [],
      "source": []
    }
  ],
  "metadata": {
    "colab": {
      "collapsed_sections": [],
      "name": "[PROJETO] Regressão com PyCaret",
      "provenance": []
    },
    "kernelspec": {
      "display_name": "Python 3.9.12 ('base')",
      "language": "python",
      "name": "python3"
    },
    "language_info": {
      "name": "python",
      "version": "3.9.12"
    },
    "vscode": {
      "interpreter": {
        "hash": "0a7a6f8b9e12af56cfb55fbb376ef7e3df3279f8f475f9beea5c617149b07873"
      }
    }
  },
  "nbformat": 4,
  "nbformat_minor": 0
}
